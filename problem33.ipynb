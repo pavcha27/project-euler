{
 "cells": [
  {
   "cell_type": "code",
   "execution_count": 1,
   "metadata": {},
   "outputs": [],
   "source": [
    "import pandas as pd\n",
    "import numpy as np"
   ]
  },
  {
   "cell_type": "code",
   "execution_count": 20,
   "metadata": {},
   "outputs": [],
   "source": [
    "def cancelling_out(m, n):\n",
    "    if not (10 <= m < n < 100 and 10 < n <= 100):\n",
    "        return False, []\n",
    "\n",
    "    ret = []\n",
    "\n",
    "    mtens = m // 10\n",
    "    mones = m % 10\n",
    "    ntens = n // 10\n",
    "    nones = n % 10\n",
    "\n",
    "    if not (nones or mones):\n",
    "        return False, []\n",
    "\n",
    "    if mtens * n == nones * m and mones == ntens:\n",
    "        ret.append((mtens, nones))\n",
    "    \n",
    "    if mones * n == nones * m and mtens == ntens:\n",
    "        ret.append((mones, nones))\n",
    "\n",
    "    if mtens * n == ntens * m and mones == nones:\n",
    "        ret.append((mtens, ntens))\n",
    "\n",
    "    if mones * n == ntens * m and mtens == nones:\n",
    "        ret.append((mones, ntens))\n",
    "\n",
    "    return len(ret) > 0, ret"
   ]
  },
  {
   "cell_type": "code",
   "execution_count": 28,
   "metadata": {},
   "outputs": [
    {
     "name": "stdout",
     "output_type": "stream",
     "text": [
      "(16, 64) (1, 4)\n",
      "(19, 95) (1, 5)\n",
      "(26, 65) (2, 5)\n",
      "(49, 98) (4, 8)\n"
     ]
    },
    {
     "data": {
      "text/plain": [
       "0.010000000000000002"
      ]
     },
     "execution_count": 28,
     "metadata": {},
     "output_type": "execute_result"
    }
   ],
   "source": [
    "prod = 1\n",
    "for i in range(10, 100):\n",
    "    for j in range(i+1, 100):\n",
    "        b, l = cancelling_out(i,j)\n",
    "        if b:\n",
    "            print((i,j), l[0])\n",
    "            prod *= l[0][0]/l[0][1]\n",
    "\n",
    "prod"
   ]
  },
  {
   "cell_type": "code",
   "execution_count": null,
   "metadata": {},
   "outputs": [],
   "source": []
  }
 ],
 "metadata": {
  "kernelspec": {
   "display_name": "Python 3",
   "language": "python",
   "name": "python3"
  },
  "language_info": {
   "codemirror_mode": {
    "name": "ipython",
    "version": 3
   },
   "file_extension": ".py",
   "mimetype": "text/x-python",
   "name": "python",
   "nbconvert_exporter": "python",
   "pygments_lexer": "ipython3",
   "version": "3.12.0"
  }
 },
 "nbformat": 4,
 "nbformat_minor": 2
}
