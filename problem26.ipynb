{
 "cells": [
  {
   "cell_type": "code",
   "execution_count": 1,
   "metadata": {},
   "outputs": [],
   "source": [
    "import pandas as pd\n",
    "import numpy as np"
   ]
  },
  {
   "cell_type": "code",
   "execution_count": 112,
   "metadata": {},
   "outputs": [],
   "source": [
    "def find_recurring_of_1_n(n):\n",
    "    seen_remainders = [1]\n",
    "    remainder = 10 % n\n",
    "    repeat_length = 1\n",
    "\n",
    "    while (remainder not in seen_remainders) and remainder > 1:\n",
    "        seen_remainders.append(remainder)\n",
    "        remainder = 10*remainder % n\n",
    "\n",
    "        repeat_length += 1\n",
    "    \n",
    "    seen_remainders.append(remainder)\n",
    "\n",
    "    if remainder == 0:\n",
    "        return 0\n",
    "\n",
    "    # print(seen_remainders)\n",
    "\n",
    "    return repeat_length - seen_remainders.index(seen_remainders[-1])\n"
   ]
  },
  {
   "cell_type": "code",
   "execution_count": 123,
   "metadata": {},
   "outputs": [
    {
     "name": "stdout",
     "output_type": "stream",
     "text": [
      "983 : 982\n"
     ]
    }
   ],
   "source": [
    "max_rep = -1\n",
    "old_maxes = []\n",
    "for i in range(2,1000):\n",
    "    repeat = find_recurring_of_1_n(i)\n",
    "    if repeat > max_rep:\n",
    "        old_maxes.append(i)\n",
    "        max_rep = repeat\n",
    "\n",
    "print(old_maxes[-1], ':', max_rep)"
   ]
  },
  {
   "cell_type": "code",
   "execution_count": 119,
   "metadata": {},
   "outputs": [
    {
     "data": {
      "text/plain": [
       "982"
      ]
     },
     "execution_count": 119,
     "metadata": {},
     "output_type": "execute_result"
    }
   ],
   "source": [
    "find_recurring_of_1_n(983)"
   ]
  },
  {
   "cell_type": "code",
   "execution_count": null,
   "metadata": {},
   "outputs": [],
   "source": []
  }
 ],
 "metadata": {
  "kernelspec": {
   "display_name": "Python 3",
   "language": "python",
   "name": "python3"
  },
  "language_info": {
   "codemirror_mode": {
    "name": "ipython",
    "version": 3
   },
   "file_extension": ".py",
   "mimetype": "text/x-python",
   "name": "python",
   "nbconvert_exporter": "python",
   "pygments_lexer": "ipython3",
   "version": "3.12.0"
  }
 },
 "nbformat": 4,
 "nbformat_minor": 2
}
