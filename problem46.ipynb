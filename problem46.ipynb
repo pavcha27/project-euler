{
 "cells": [
  {
   "cell_type": "code",
   "execution_count": 1,
   "metadata": {},
   "outputs": [],
   "source": [
    "import pandas as pd\n",
    "import numpy as np"
   ]
  },
  {
   "cell_type": "code",
   "execution_count": 2,
   "metadata": {},
   "outputs": [],
   "source": [
    "def sieve(n):\n",
    "    arr = [0] + [1]*n\n",
    "    arr[1] = 0\n",
    "\n",
    "    for j in range(4, n+1, 2):\n",
    "        arr[j] = 0\n",
    "\n",
    "    i = 3\n",
    "    while i*i <= n:\n",
    "        if arr[i]:\n",
    "            for j in range(i**2, n+1, i):\n",
    "                arr[j] = 0\n",
    "        \n",
    "        i += 2\n",
    "    \n",
    "    ret = []\n",
    "    for i in range(n+1):\n",
    "        if arr[i]:\n",
    "            ret.append(i)\n",
    "\n",
    "    return arr, ret"
   ]
  },
  {
   "cell_type": "code",
   "execution_count": 14,
   "metadata": {},
   "outputs": [],
   "source": [
    "pbs, ps = sieve(10**7)\n",
    "dsqs = [2*(i**2) for i in range(10**7)]"
   ]
  },
  {
   "cell_type": "code",
   "execution_count": 25,
   "metadata": {},
   "outputs": [
    {
     "name": "stdout",
     "output_type": "stream",
     "text": [
      "5777\n"
     ]
    }
   ],
   "source": [
    "for i in range(3,10**7,2):\n",
    "    if pbs[i]:\n",
    "        continue\n",
    "\n",
    "    finished = True\n",
    "    for d in dsqs:\n",
    "        if d >= i:\n",
    "            break\n",
    "\n",
    "        if pbs[i - d]:\n",
    "            finished = False\n",
    "            break\n",
    "\n",
    "        j += 1\n",
    "        d = 2*j*j\n",
    "\n",
    "    \n",
    "    if finished:\n",
    "        print(i)\n",
    "        break\n"
   ]
  },
  {
   "cell_type": "code",
   "execution_count": null,
   "metadata": {},
   "outputs": [],
   "source": []
  }
 ],
 "metadata": {
  "kernelspec": {
   "display_name": "Python 3",
   "language": "python",
   "name": "python3"
  },
  "language_info": {
   "codemirror_mode": {
    "name": "ipython",
    "version": 3
   },
   "file_extension": ".py",
   "mimetype": "text/x-python",
   "name": "python",
   "nbconvert_exporter": "python",
   "pygments_lexer": "ipython3",
   "version": "3.12.0"
  }
 },
 "nbformat": 4,
 "nbformat_minor": 2
}
