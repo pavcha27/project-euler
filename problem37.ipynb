{
 "cells": [
  {
   "cell_type": "code",
   "execution_count": 1,
   "metadata": {},
   "outputs": [],
   "source": [
    "import pandas as pd\n",
    "import numpy as np"
   ]
  },
  {
   "cell_type": "code",
   "execution_count": 2,
   "metadata": {},
   "outputs": [],
   "source": [
    "def sieve(n):\n",
    "    arr = [0] + [1]*n\n",
    "    arr[1] = 0\n",
    "\n",
    "    for j in range(4, n+1, 2):\n",
    "        arr[j] = 0\n",
    "\n",
    "    i = 3\n",
    "    while i*i <= n:\n",
    "        if arr[i]:\n",
    "            for j in range(i**2, n+1, i):\n",
    "                arr[j] = 0\n",
    "        \n",
    "        i += 2\n",
    "    \n",
    "    ret = []\n",
    "    for i in range(n+1):\n",
    "        if arr[i]:\n",
    "            ret.append(i)\n",
    "\n",
    "    return arr, ret"
   ]
  },
  {
   "cell_type": "code",
   "execution_count": 16,
   "metadata": {},
   "outputs": [],
   "source": [
    "prime_bits, primes = sieve(10**6)"
   ]
  },
  {
   "cell_type": "code",
   "execution_count": 17,
   "metadata": {},
   "outputs": [],
   "source": [
    "def truncate(n, left = True):\n",
    "    return int(str(n)[1:]) if left else int(str(n)[:-1])"
   ]
  },
  {
   "cell_type": "code",
   "execution_count": 20,
   "metadata": {},
   "outputs": [],
   "source": [
    "truncatable = []\n",
    "\n",
    "for i in primes:\n",
    "    if i < 10:\n",
    "        continue\n",
    "\n",
    "    nl = truncate(i, True)\n",
    "    nr = truncate(i, False)\n",
    "    while True:\n",
    "        if nr < 10 and nl < 10 and prime_bits[nr] and prime_bits[nl]:\n",
    "            truncatable.append(i)\n",
    "            break\n",
    "\n",
    "        if prime_bits[nl] and prime_bits[nr]:\n",
    "            nl = truncate(nl, True)\n",
    "            nr = truncate(nr, False)\n",
    "        else:\n",
    "            break"
   ]
  },
  {
   "cell_type": "code",
   "execution_count": 21,
   "metadata": {},
   "outputs": [
    {
     "data": {
      "text/plain": [
       "748317"
      ]
     },
     "execution_count": 21,
     "metadata": {},
     "output_type": "execute_result"
    }
   ],
   "source": [
    "sum(truncatable)"
   ]
  },
  {
   "cell_type": "code",
   "execution_count": null,
   "metadata": {},
   "outputs": [],
   "source": []
  }
 ],
 "metadata": {
  "kernelspec": {
   "display_name": "Python 3",
   "language": "python",
   "name": "python3"
  },
  "language_info": {
   "codemirror_mode": {
    "name": "ipython",
    "version": 3
   },
   "file_extension": ".py",
   "mimetype": "text/x-python",
   "name": "python",
   "nbconvert_exporter": "python",
   "pygments_lexer": "ipython3",
   "version": "3.12.0"
  }
 },
 "nbformat": 4,
 "nbformat_minor": 2
}
