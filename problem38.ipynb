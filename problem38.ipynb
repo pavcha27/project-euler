{
 "cells": [
  {
   "cell_type": "code",
   "execution_count": 1,
   "metadata": {},
   "outputs": [],
   "source": [
    "import pandas as pd\n",
    "import numpy as np"
   ]
  },
  {
   "cell_type": "code",
   "execution_count": 41,
   "metadata": {},
   "outputs": [],
   "source": [
    "def count_digs(n, curr_cnt = [0]*9):\n",
    "    for d in str(n):\n",
    "        curr_cnt[int(d)-1] += 1\n",
    "    return curr_cnt"
   ]
  },
  {
   "cell_type": "code",
   "execution_count": 43,
   "metadata": {},
   "outputs": [
    {
     "name": "stdout",
     "output_type": "stream",
     "text": [
      "123456789 : 1 and [1, 2, 3, 4, 5, 6, 7, 8, 9]\n",
      "918273645 : 9 and [1, 2, 3, 4, 5]\n",
      "192384576 : 192 and [1, 2, 3]\n",
      "219438657 : 219 and [1, 2, 3]\n",
      "273546819 : 273 and [1, 2, 3]\n",
      "327654981 : 327 and [1, 2, 3]\n",
      "672913458 : 6729 and [1, 2]\n",
      "679213584 : 6792 and [1, 2]\n",
      "692713854 : 6927 and [1, 2]\n",
      "726914538 : 7269 and [1, 2]\n",
      "729314586 : 7293 and [1, 2]\n",
      "732914658 : 7329 and [1, 2]\n",
      "769215384 : 7692 and [1, 2]\n",
      "792315846 : 7923 and [1, 2]\n",
      "793215864 : 7932 and [1, 2]\n",
      "926718534 : 9267 and [1, 2]\n",
      "927318546 : 9273 and [1, 2]\n",
      "932718654 : 9327 and [1, 2]\n"
     ]
    }
   ],
   "source": [
    "max_num = -1\n",
    "max_int = -1\n",
    "max_tuple = -1\n",
    "\n",
    "for i in range(10**5):\n",
    "    num = ''\n",
    "    j = 0\n",
    "    curr_cnt = [0]*9\n",
    "    while True:\n",
    "        if max(curr_cnt) > 1:\n",
    "            break\n",
    "        if sum(curr_cnt) == 9:\n",
    "            print(num, \":\", i, \"and\", [x + 1 for x in range(j)])\n",
    "            if int(num) > max_num:\n",
    "                max_num = int(num)\n",
    "                max_int = i\n",
    "                max_tuple = j\n",
    "                break\n",
    "        \n",
    "        j += 1\n",
    "        prod = i*j\n",
    "        \n",
    "        if '0' in str(prod):\n",
    "            break\n",
    "\n",
    "        num += str(prod)\n",
    "        curr_cnt = count_digs(prod, curr_cnt.copy())"
   ]
  },
  {
   "cell_type": "code",
   "execution_count": null,
   "metadata": {},
   "outputs": [],
   "source": []
  }
 ],
 "metadata": {
  "kernelspec": {
   "display_name": "Python 3",
   "language": "python",
   "name": "python3"
  },
  "language_info": {
   "codemirror_mode": {
    "name": "ipython",
    "version": 3
   },
   "file_extension": ".py",
   "mimetype": "text/x-python",
   "name": "python",
   "nbconvert_exporter": "python",
   "pygments_lexer": "ipython3",
   "version": "3.12.0"
  }
 },
 "nbformat": 4,
 "nbformat_minor": 2
}
