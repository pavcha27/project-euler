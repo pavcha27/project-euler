{
 "cells": [
  {
   "cell_type": "code",
   "execution_count": 4,
   "metadata": {},
   "outputs": [],
   "source": [
    "import numpy as np\n",
    "import pandas as pd"
   ]
  },
  {
   "cell_type": "code",
   "execution_count": 5,
   "metadata": {},
   "outputs": [],
   "source": [
    "def find_smallest_prime_divisor(n):\n",
    "    if n == 1:\n",
    "        return 1\n",
    "\n",
    "    if n % 2 == 0:\n",
    "        return 2\n",
    "    \n",
    "    i = 3\n",
    "    while i <= np.sqrt(n):\n",
    "        if not n % i:\n",
    "            return i\n",
    "        i += 2\n",
    "    \n",
    "    if i >= np.sqrt(n):\n",
    "        return n"
   ]
  },
  {
   "cell_type": "code",
   "execution_count": 6,
   "metadata": {},
   "outputs": [],
   "source": [
    "prime_lists = {1: [], 2: [2], 3: [3], 4: [2,2], 5: [5]}\n",
    "def prime_factorization(n):\n",
    "    if not (n in prime_lists):\n",
    "        sd = find_smallest_prime_divisor(n)\n",
    "        prime_lists[n] = [sd] + prime_factorization(n // sd)\n",
    "    \n",
    "    return prime_lists[n]\n",
    "\n",
    "    "
   ]
  },
  {
   "cell_type": "code",
   "execution_count": 7,
   "metadata": {},
   "outputs": [
    {
     "data": {
      "text/plain": [
       "[71, 839, 1471, 6857]"
      ]
     },
     "execution_count": 7,
     "metadata": {},
     "output_type": "execute_result"
    }
   ],
   "source": [
    "prime_factorization(600851475143)"
   ]
  },
  {
   "cell_type": "code",
   "execution_count": 11,
   "metadata": {},
   "outputs": [
    {
     "name": "stdout",
     "output_type": "stream",
     "text": [
      "[]\n",
      "[2]\n",
      "[3]\n",
      "[2, 2]\n",
      "[5]\n",
      "[2, 3]\n",
      "[7]\n",
      "[2, 2, 2]\n",
      "[3, 3]\n",
      "[2, 5]\n",
      "[11]\n",
      "[2, 2, 3]\n",
      "[13]\n",
      "[2, 7]\n",
      "[3, 5]\n",
      "[2, 2, 2, 2]\n",
      "[17]\n",
      "[2, 3, 3]\n",
      "[19]\n",
      "[2, 2, 5]\n"
     ]
    }
   ],
   "source": [
    "for i in range(1,21):\n",
    "    prime_factorization(i)\n",
    "    print(prime_lists[i])"
   ]
  },
  {
   "cell_type": "code",
   "execution_count": null,
   "metadata": {},
   "outputs": [],
   "source": []
  }
 ],
 "metadata": {
  "kernelspec": {
   "display_name": "Python 3",
   "language": "python",
   "name": "python3"
  },
  "language_info": {
   "codemirror_mode": {
    "name": "ipython",
    "version": 3
   },
   "file_extension": ".py",
   "mimetype": "text/x-python",
   "name": "python",
   "nbconvert_exporter": "python",
   "pygments_lexer": "ipython3",
   "version": "3.12.0"
  },
  "orig_nbformat": 4
 },
 "nbformat": 4,
 "nbformat_minor": 2
}
