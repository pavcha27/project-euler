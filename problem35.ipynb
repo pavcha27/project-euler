{
 "cells": [
  {
   "cell_type": "code",
   "execution_count": 1,
   "metadata": {},
   "outputs": [],
   "source": [
    "import pandas as pd\n",
    "import numpy as np"
   ]
  },
  {
   "cell_type": "code",
   "execution_count": 13,
   "metadata": {},
   "outputs": [],
   "source": [
    "def sieve(n):\n",
    "    arr = [0] + [1]*n\n",
    "    arr[1] = 0\n",
    "\n",
    "    for j in range(4, n+1, 2):\n",
    "        arr[j] = 0\n",
    "\n",
    "    i = 3\n",
    "    while i*i <= n:\n",
    "        if arr[i]:\n",
    "            for j in range(i**2, n+1, i):\n",
    "                arr[j] = 0\n",
    "        \n",
    "        i += 2\n",
    "    \n",
    "    ret = []\n",
    "    for i in range(n+1):\n",
    "        if arr[i]:\n",
    "            ret.append(i)\n",
    "\n",
    "    return arr, ret"
   ]
  },
  {
   "cell_type": "code",
   "execution_count": 25,
   "metadata": {},
   "outputs": [],
   "source": [
    "def circular_prime(n):\n",
    "    rotations = len(str(n))\n",
    "    x = n\n",
    "\n",
    "    for i in range(rotations):\n",
    "        if not prime_binary[x]:\n",
    "            return False\n",
    "        \n",
    "        new_x = x // 10\n",
    "        x = new_x + (x % 10)*10**(rotations - 1)\n",
    "    \n",
    "    return True"
   ]
  },
  {
   "cell_type": "code",
   "execution_count": 26,
   "metadata": {},
   "outputs": [
    {
     "name": "stdout",
     "output_type": "stream",
     "text": [
      "55\n"
     ]
    }
   ],
   "source": [
    "cnt = 0\n",
    "for i in sieve(10**6)[1]:\n",
    "    if circular_prime(i):\n",
    "        cnt += 1\n",
    "\n",
    "print(cnt)"
   ]
  },
  {
   "cell_type": "code",
   "execution_count": null,
   "metadata": {},
   "outputs": [],
   "source": []
  }
 ],
 "metadata": {
  "kernelspec": {
   "display_name": "Python 3",
   "language": "python",
   "name": "python3"
  },
  "language_info": {
   "codemirror_mode": {
    "name": "ipython",
    "version": 3
   },
   "file_extension": ".py",
   "mimetype": "text/x-python",
   "name": "python",
   "nbconvert_exporter": "python",
   "pygments_lexer": "ipython3",
   "version": "3.12.0"
  }
 },
 "nbformat": 4,
 "nbformat_minor": 2
}
