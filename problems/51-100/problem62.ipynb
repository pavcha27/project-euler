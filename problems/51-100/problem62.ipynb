{
 "cells": [
  {
   "cell_type": "code",
   "execution_count": 5,
   "metadata": {},
   "outputs": [],
   "source": [
    "import pandas as pd\n",
    "import numpy as np\n",
    "\n",
    "import math\n",
    "from itertools import permutations"
   ]
  },
  {
   "cell_type": "code",
   "execution_count": 13,
   "metadata": {},
   "outputs": [],
   "source": [
    "perfect_cubes = []\n",
    "for i in range(10**7):\n",
    "    perfect_cubes.append(i**3)\n",
    "\n",
    "pcs = set(perfect_cubes)"
   ]
  },
  {
   "cell_type": "code",
   "execution_count": 27,
   "metadata": {},
   "outputs": [
    {
     "name": "stdout",
     "output_type": "stream",
     "text": [
      "['127035954683', 5]\n"
     ]
    }
   ],
   "source": [
    "sorted_digits = {}\n",
    "i = 1\n",
    "while True:\n",
    "    num_key = ''.join(sorted(str(i**3)))\n",
    "    if num_key in sorted_digits:\n",
    "        sorted_digits[num_key][1] += 1\n",
    "    else:\n",
    "        sorted_digits[num_key] = [str(i**3), 1]\n",
    "    \n",
    "    if sorted_digits[num_key][1] == 5:\n",
    "        print(sorted_digits[num_key])\n",
    "        break\n",
    "\n",
    "    i += 1"
   ]
  },
  {
   "cell_type": "code",
   "execution_count": null,
   "metadata": {},
   "outputs": [],
   "source": []
  }
 ],
 "metadata": {
  "kernelspec": {
   "display_name": "Python 3",
   "language": "python",
   "name": "python3"
  },
  "language_info": {
   "codemirror_mode": {
    "name": "ipython",
    "version": 3
   },
   "file_extension": ".py",
   "mimetype": "text/x-python",
   "name": "python",
   "nbconvert_exporter": "python",
   "pygments_lexer": "ipython3",
   "version": "3.12.0"
  }
 },
 "nbformat": 4,
 "nbformat_minor": 2
}
