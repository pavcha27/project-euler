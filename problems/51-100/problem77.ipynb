{
 "cells": [
  {
   "cell_type": "code",
   "execution_count": 1,
   "metadata": {},
   "outputs": [],
   "source": [
    "import pandas as pd\n",
    "import numpy as np"
   ]
  },
  {
   "cell_type": "markdown",
   "metadata": {},
   "source": [
    "This is the same as the previous problem, the only difference being that we update the outer list to using primes only (not range). We can use a sieve to quickly calculate the primes beforehand. This is identical to the coin sum problem (problem 31), but the coins are all primes here."
   ]
  },
  {
   "cell_type": "code",
   "execution_count": 15,
   "metadata": {},
   "outputs": [
    {
     "name": "stdout",
     "output_type": "stream",
     "text": [
      "number: 71 , prime partitions: 5007\n"
     ]
    }
   ],
   "source": [
    "def sieve(n):\n",
    "    arr = [0,0,1] + [1,0]*(n//2 + 1)\n",
    "    i = 3\n",
    "    while i*i <= n:\n",
    "        if arr[i]:  \n",
    "            arr[i*i::2*i] = [0]*len(arr[i*i::2*i])\n",
    "        i += 2\n",
    "\n",
    "    ret = []\n",
    "    for (i, p) in enumerate(arr):\n",
    "        if p:\n",
    "            ret.append(i)\n",
    "\n",
    "    return arr, ret\n",
    "\n",
    "def partition(n, primes):\n",
    "    # initialize partitions\n",
    "    partitions = [1] + [0]*n\n",
    "\n",
    "    # for each prime\n",
    "    for p in primes:\n",
    "        if p > n:\n",
    "            break\n",
    "\n",
    "        # for every later partition\n",
    "        for j in range(p, n+1):\n",
    "            # how do previous partitions affect future partitions\n",
    "            partitions[j] += partitions[j - p]\n",
    "\n",
    "    # adjustment since we are only looking for solutions with >= 2 numbers\n",
    "    return np.array(partitions)\n",
    "\n",
    "\n",
    "for n in range(1, 10**5):\n",
    "    pbs, ps = sieve(n)\n",
    "    if partition(n, ps)[-1] > 5000:\n",
    "        print(\"number:\", n, \", prime partitions:\", partition(n,ps)[-1])\n",
    "        break\n"
   ]
  },
  {
   "cell_type": "code",
   "execution_count": null,
   "metadata": {},
   "outputs": [],
   "source": []
  }
 ],
 "metadata": {
  "kernelspec": {
   "display_name": "Python 3",
   "language": "python",
   "name": "python3"
  },
  "language_info": {
   "codemirror_mode": {
    "name": "ipython",
    "version": 3
   },
   "file_extension": ".py",
   "mimetype": "text/x-python",
   "name": "python",
   "nbconvert_exporter": "python",
   "pygments_lexer": "ipython3",
   "version": "3.12.0"
  }
 },
 "nbformat": 4,
 "nbformat_minor": 2
}
