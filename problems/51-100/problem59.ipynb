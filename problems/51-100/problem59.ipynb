{
 "cells": [
  {
   "cell_type": "code",
   "execution_count": 115,
   "metadata": {},
   "outputs": [],
   "source": [
    "import pandas as pd\n",
    "import numpy as np\n",
    "\n",
    "import string"
   ]
  },
  {
   "cell_type": "code",
   "execution_count": 94,
   "metadata": {},
   "outputs": [],
   "source": [
    "with open('../../inputs/0059_cipher.txt', 'r') as f:\n",
    "    message = f.read().strip()\n",
    "    nums = [int(num) for num in message.split(\",\")]"
   ]
  },
  {
   "cell_type": "code",
   "execution_count": 125,
   "metadata": {},
   "outputs": [
    {
     "name": "stdout",
     "output_type": "stream",
     "text": [
      "e in position 0\n",
      "x in position 1\n",
      "p in position 2\n",
      "[{'e'}, {'x'}, {'p'}]\n"
     ]
    }
   ],
   "source": [
    "valid_characters = string.ascii_letters + string.digits + \" .:;,?()+!/-[]'\\\"\"\n",
    "cs = [ord(c) for c in valid_characters]\n",
    "letters = [set(), set(), set()]\n",
    "num_sets = [nums[::3], nums[1::3], nums[2::3]]\n",
    "\n",
    "for x in range(3):\n",
    "    for c in string.ascii_lowercase:\n",
    "        app = True\n",
    "        for num in num_sets[x]:\n",
    "            if num ^ ord(c) not in cs:\n",
    "                app = False\n",
    "                break\n",
    "        \n",
    "        if app:\n",
    "            letters[x].add(c)\n",
    "            print(f'{c} in position {x}')\n",
    "            # break\n",
    "\n",
    "print(letters)"
   ]
  },
  {
   "cell_type": "code",
   "execution_count": 121,
   "metadata": {},
   "outputs": [
    {
     "name": "stdout",
     "output_type": "stream",
     "text": [
      "An extract taken from the introduction of one of Euler's most celebrated papers, \"De summis serierum reciprocarum\" [On the sums of series of reciprocals]: I have recently found, quite unexpectedly, an elegant expression for the entire sum of this series 1 + 1/4 + 1/9 + 1/16 + etc., which depends on the quadrature of the circle, so that if the true sum of this series is obtained, from it at once the quadrature of the circle follows. Namely, I have found that the sum of this series is a sixth part of the square of the perimeter of the circle whose diameter is 1; or by putting the sum of this series equal to s, it has the ratio sqrt(6) multiplied by s to 1 of the perimeter to the diameter. I will soon show that the sum of this series to be approximately 1.644934066842264364; and from multiplying this number by six, and then taking the square root, the number 3.141592653589793238 is indeed produced, which expresses the perimeter of a circle whose diameter is 1. Following again the same steps by which I had arrived at this sum, I have discovered that the sum of the series 1 + 1/16 + 1/81 + 1/256 + 1/625 + etc. also depends on the quadrature of the circle. Namely, the sum of this multiplied by 90 gives the biquadrate (fourth power) of the circumference of the perimeter of a circle whose diameter is 1. And by similar reasoning I have likewise been able to determine the sums of the subsequent series in which the exponents are even numbers.\n",
      "129448\n"
     ]
    }
   ],
   "source": [
    "s = \"\"\n",
    "su = 0\n",
    "key = 0\n",
    "keys = [ord('e'), ord('x'), ord('p')]\n",
    "for num in nums:\n",
    "    s += chr(num ^ keys[key])\n",
    "    su += num ^ keys[key]\n",
    "    key += 1\n",
    "    key %= 3\n",
    "print(s)\n",
    "print(su)"
   ]
  },
  {
   "cell_type": "code",
   "execution_count": 91,
   "metadata": {},
   "outputs": [
    {
     "data": {
      "text/plain": [
       "[103, 111, 100]"
      ]
     },
     "execution_count": 91,
     "metadata": {},
     "output_type": "execute_result"
    }
   ],
   "source": [
    "keys"
   ]
  },
  {
   "cell_type": "code",
   "execution_count": null,
   "metadata": {},
   "outputs": [],
   "source": []
  }
 ],
 "metadata": {
  "kernelspec": {
   "display_name": "Python 3",
   "language": "python",
   "name": "python3"
  },
  "language_info": {
   "codemirror_mode": {
    "name": "ipython",
    "version": 3
   },
   "file_extension": ".py",
   "mimetype": "text/x-python",
   "name": "python",
   "nbconvert_exporter": "python",
   "pygments_lexer": "ipython3",
   "version": "3.12.0"
  }
 },
 "nbformat": 4,
 "nbformat_minor": 2
}
