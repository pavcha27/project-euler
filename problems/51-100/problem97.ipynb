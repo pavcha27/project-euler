{
 "cells": [
  {
   "cell_type": "code",
   "execution_count": 1,
   "metadata": {},
   "outputs": [],
   "source": [
    "import pandas as pd\n",
    "import numpy as np\n",
    "\n",
    "import math"
   ]
  },
  {
   "cell_type": "markdown",
   "metadata": {},
   "source": [
    "This is simple with the built-in python function `pow`, or using the [exponentiation by squaring algorithm][1] or the [modular expoentiation algorithm][2].\n",
    "\n",
    "[1]: https://en.wikipedia.org/wiki/Exponentiation_by_squaring\n",
    "[2]: https://en.wikipedia.org/wiki/Modular_exponentiation"
   ]
  },
  {
   "cell_type": "code",
   "execution_count": 3,
   "metadata": {},
   "outputs": [
    {
     "data": {
      "text/plain": [
       "8739992577"
      ]
     },
     "execution_count": 3,
     "metadata": {},
     "output_type": "execute_result"
    }
   ],
   "source": [
    "((28433*pow(2, 7830457, 10**10)) % 10**10 + 1) % 10**10"
   ]
  },
  {
   "cell_type": "code",
   "execution_count": 13,
   "metadata": {},
   "outputs": [],
   "source": [
    "def fast_mod_exp(x, k, m):\n",
    "    '''\n",
    "    Fast modular exponentiation of x**k mod m\n",
    "    Uses that (ab) mod m = [(a mod m)(b mod m)] mod m\n",
    "    Also uses exponent as bits instead of as base 10, \"Right-to-Left Binary\"\n",
    "    '''\n",
    "\n",
    "    res, x = 1, x % m\n",
    "    while k > 0:\n",
    "        if k % 2 == 1:\n",
    "            res *= x\n",
    "            res %= m\n",
    "        \n",
    "        k >>= 1\n",
    "        x *= x\n",
    "        x %= m\n",
    "\n",
    "    return res % m"
   ]
  },
  {
   "cell_type": "code",
   "execution_count": 39,
   "metadata": {},
   "outputs": [
    {
     "data": {
      "text/plain": [
       "8739992577"
      ]
     },
     "execution_count": 39,
     "metadata": {},
     "output_type": "execute_result"
    }
   ],
   "source": [
    "((28433 * fast_mod_exp(2, 7830457, 10**10)) % 10**10 + 1) % 10**10"
   ]
  },
  {
   "cell_type": "code",
   "execution_count": 68,
   "metadata": {},
   "outputs": [],
   "source": [
    "def exponentation_by_squaring(x, k, recursive = False):\n",
    "    # recursive\n",
    "    if recursive:\n",
    "        if k == 0:\n",
    "            return 1\n",
    "\n",
    "        if k < 0:\n",
    "            return exponentation_by_squaring(1/x, -1*k, recursive)\n",
    "\n",
    "        # if even exponent\n",
    "        if k % 2 == 0:\n",
    "            # x**n = (x**2)**n/2\n",
    "            return exponentation_by_squaring(x*x, k//2, recursive)\n",
    "        \n",
    "        # if odd exponent\n",
    "        # x**n = x * x**(n-1) = x * (x**2)**(n-1)/2\n",
    "        return x*exponentation_by_squaring(x*x, (k-1)//2, recursive)\n",
    "\n",
    "    # iterative\n",
    "    if k < 0:\n",
    "        x = 1/x\n",
    "        k = -1*k\n",
    "    \n",
    "    if k == 0:\n",
    "        return 1\n",
    "    \n",
    "    res = 1\n",
    "    while k > 1:\n",
    "        # if odd, multiply by an extra x\n",
    "        if k % 2 == 1:\n",
    "            res *= x\n",
    "            k -= 1\n",
    "        \n",
    "        x *= x\n",
    "        k //= 2\n",
    "    \n",
    "    return x*res"
   ]
  },
  {
   "cell_type": "code",
   "execution_count": 70,
   "metadata": {},
   "outputs": [
    {
     "data": {
      "text/plain": [
       "8739992577"
      ]
     },
     "execution_count": 70,
     "metadata": {},
     "output_type": "execute_result"
    }
   ],
   "source": [
    "((28433 * (exponentation_by_squaring(2,7830457) % 10**10)) % 10**10 + 1) % 10**10"
   ]
  }
 ],
 "metadata": {
  "kernelspec": {
   "display_name": "Python 3",
   "language": "python",
   "name": "python3"
  },
  "language_info": {
   "codemirror_mode": {
    "name": "ipython",
    "version": 3
   },
   "file_extension": ".py",
   "mimetype": "text/x-python",
   "name": "python",
   "nbconvert_exporter": "python",
   "pygments_lexer": "ipython3",
   "version": "3.12.0"
  }
 },
 "nbformat": 4,
 "nbformat_minor": 2
}
