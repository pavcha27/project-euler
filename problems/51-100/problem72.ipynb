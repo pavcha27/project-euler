{
 "cells": [
  {
   "cell_type": "code",
   "execution_count": 20,
   "metadata": {},
   "outputs": [],
   "source": [
    "import pandas as pd\n",
    "import numpy as np\n",
    "\n",
    "from collections import Counter\n",
    "from functools import reduce"
   ]
  },
  {
   "cell_type": "markdown",
   "metadata": {},
   "source": [
    "From 2 to 3, we add two fractions\n",
    "$$\n",
    "\\frac{1}{2} \\implies \\frac{1}{3}, \\frac{1}{2}, \\frac{2}{3}\n",
    "$$\n",
    "\n",
    "From 3 to 4, we add two fractions\n",
    "$$\n",
    "\\frac{1}{3}, \\frac{1}{2}, \\frac{2}{3} \\implies \\frac{1}{4}, \\frac{1}{3}, \\frac{2}{4}, \\frac{2}{3}, \\frac{3}{4}\n",
    "$$\n",
    "\n",
    "From 4 to 5, we add four fractions (5 is prime).\n",
    "From 5 to 6, we add two fractions\n",
    "$$\n",
    "\\frac{1}{6}, \\frac{5}{6}\n",
    "$$\n",
    "\n",
    "From 6 to 7, we add 6 fractions (7 is prime).\n",
    "From 7 to 8, we add 4 fractions.\n",
    "$$\n",
    "\\frac{1}{8}, \\frac{3}{8}, \\frac{5}{8}, \\frac{7}{8}\n",
    "$$\n",
    "\n",
    "In general, the number of new fractions added from $n-1$ to $n$ is Euler's totient function $\\phi(n)$, which says how many number $<n$ are coprime to $n$. We combine the Sieve of Erastosthenes with the Euler's totient properties to get the following \"totient sieve.\""
   ]
  },
  {
   "cell_type": "code",
   "execution_count": 64,
   "metadata": {},
   "outputs": [],
   "source": [
    "def totient_sieve(n):\n",
    "    if n < 2:\n",
    "        print('totient function only applies to value > 2')\n",
    "        return []\n",
    "\n",
    "    arr = list(range(n+1))\n",
    "    for m in arr[2:]:\n",
    "        # if m is unchanged, it must be prime\n",
    "        if arr[m] == m:\n",
    "            # totient is m - 1\n",
    "            arr[m] -= 1\n",
    "            i = 2\n",
    "            while m*i < n+1:\n",
    "                # all other numbers with m as a factor need to be multiplied by (m-1)/m\n",
    "                arr[m*i] = (arr[m*i]*m - arr[m*i]) // m\n",
    "                i+=1\n",
    "\n",
    "    return arr[2:]"
   ]
  },
  {
   "cell_type": "code",
   "execution_count": 66,
   "metadata": {},
   "outputs": [
    {
     "data": {
      "text/plain": [
       "303963552391"
      ]
     },
     "execution_count": 66,
     "metadata": {},
     "output_type": "execute_result"
    }
   ],
   "source": [
    "sum(totient_sieve(10**6))"
   ]
  },
  {
   "cell_type": "code",
   "execution_count": null,
   "metadata": {},
   "outputs": [],
   "source": []
  }
 ],
 "metadata": {
  "kernelspec": {
   "display_name": "Python 3",
   "language": "python",
   "name": "python3"
  },
  "language_info": {
   "codemirror_mode": {
    "name": "ipython",
    "version": 3
   },
   "file_extension": ".py",
   "mimetype": "text/x-python",
   "name": "python",
   "nbconvert_exporter": "python",
   "pygments_lexer": "ipython3",
   "version": "3.12.0"
  }
 },
 "nbformat": 4,
 "nbformat_minor": 2
}
