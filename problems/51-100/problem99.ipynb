{
 "cells": [
  {
   "cell_type": "code",
   "execution_count": 10,
   "metadata": {},
   "outputs": [],
   "source": [
    "import pandas as pd\n",
    "import numpy as np"
   ]
  },
  {
   "cell_type": "code",
   "execution_count": 22,
   "metadata": {},
   "outputs": [],
   "source": [
    "with open('../../inputs/0099_base_exp.txt', 'r') as f:\n",
    "    bases_exps_string = f.read()"
   ]
  },
  {
   "cell_type": "markdown",
   "metadata": {},
   "source": [
    "This is similar to problem 97 which can be solved without modulus. Thus we could solve with [exponentiation by squaring][1]. However, this is way too slow for this problem. We can use the monotonicity of $\\log$: if $a^b < c^d \\implies b \\log(a) < d \\log(c)$.\n",
    "\n",
    "[1]: https://en.wikipedia.org/wiki/Exponentiation_by_squaring"
   ]
  },
  {
   "cell_type": "code",
   "execution_count": 39,
   "metadata": {},
   "outputs": [
    {
     "name": "stdout",
     "output_type": "stream",
     "text": [
      "709 : 6919995.552420337\n"
     ]
    }
   ],
   "source": [
    "bases_exps = [[int(c) for c in e.split(',')] for e in bases_exps_string.split('\\n')]\n",
    "max_ind = -1\n",
    "max_val = -1\n",
    "\n",
    "for i in range(1000):\n",
    "    b, e = tuple(int(n) for n in bases_exps[i])\n",
    "    if e*np.log(b) > max_val:\n",
    "        max_val = e*np.log(b)\n",
    "        max_ind = i+1\n",
    "\n",
    "print(max_ind, \":\", max_val)"
   ]
  },
  {
   "cell_type": "code",
   "execution_count": null,
   "metadata": {},
   "outputs": [],
   "source": []
  }
 ],
 "metadata": {
  "kernelspec": {
   "display_name": "Python 3",
   "language": "python",
   "name": "python3"
  },
  "language_info": {
   "codemirror_mode": {
    "name": "ipython",
    "version": 3
   },
   "file_extension": ".py",
   "mimetype": "text/x-python",
   "name": "python",
   "nbconvert_exporter": "python",
   "pygments_lexer": "ipython3",
   "version": "3.12.0"
  }
 },
 "nbformat": 4,
 "nbformat_minor": 2
}
