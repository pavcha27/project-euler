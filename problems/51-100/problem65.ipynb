{
 "cells": [
  {
   "cell_type": "code",
   "execution_count": 3,
   "metadata": {},
   "outputs": [],
   "source": [
    "import pandas as pd\n",
    "import numpy as np"
   ]
  },
  {
   "cell_type": "code",
   "execution_count": 3,
   "metadata": {},
   "outputs": [],
   "source": [
    "euler = [2, 1]\n",
    "k = 1\n",
    "for i in range(10**4):\n",
    "    if i%3:\n",
    "        euler.append(1)\n",
    "    else:\n",
    "        euler.append(2*k)\n",
    "        k += 1"
   ]
  },
  {
   "cell_type": "markdown",
   "metadata": {},
   "source": [
    "$$\n",
    "a_0 \\implies a_0 + \\frac{1}{a_1} = \\frac{a_0 a_1 + 1}{a_1}\n",
    "$$\n",
    "$$\n",
    "a_0 + \\frac{1}{a_1} = \\frac{a_0 a_1 + 1}{a_1} \\implies a_0 + \\frac{1}{a_1 + \\frac{1}{a_2}} = a_0 + \\frac{a_2}{a_1 a_2 + 1} = \\frac{a_0 a_1 a_2 + a_0 + a_2}{a_1 a_2 + 1}\n",
    "$$\n",
    "$$\n",
    "a_0 + \\frac{1}{a_1 + \\frac{1}{a_2}} = \\frac{a_0 a_1 a_2 + a_0 + a_2}{a_1 a_2 + 1} \\implies a_0 + \\frac{1}{a_1 + \\frac{1}{a_2 + \\frac{1}{a_3}}} = a_0 + \\frac{1}{a_1 + \\frac{a_3}{a_2 a_3 + 1}} = a_0 + \\frac{a_2 a_3 + 1}{a_1 a_2 a_3 + a_1 + a_3} = \\frac{a_0 a_1 a_2 a_3 + a0 a_1 + a_0 a_3}{a_1 a_2 a_3 + a_1 + a_3}\n",
    "$$"
   ]
  },
  {
   "cell_type": "code",
   "execution_count": 4,
   "metadata": {},
   "outputs": [],
   "source": [
    "# find convergent based on continued fraction coefs\n",
    "def convergents(series, cons_needed = 10, suppress = True):\n",
    "    nums = []\n",
    "    denoms = []\n",
    "    for i in range(cons_needed):\n",
    "        num, denom = 1, series[i]\n",
    "        for j in range(1, i)[::-1]:\n",
    "            next_num = series[j]\n",
    "            num, denom = denom, next_num*denom + num\n",
    "        \n",
    "        if i > 0:\n",
    "            num = series[0]*denom + num\n",
    "        else:\n",
    "            num, denom = denom, num\n",
    "\n",
    "        nums.append(num)\n",
    "        denoms.append(denom)\n",
    "        \n",
    "        if not suppress:\n",
    "            print(f\"n/d = {num} / {denom}\")\n",
    "            print()\n",
    "    \n",
    "    return nums, denoms\n"
   ]
  },
  {
   "cell_type": "code",
   "execution_count": 8,
   "metadata": {},
   "outputs": [
    {
     "name": "stdout",
     "output_type": "stream",
     "text": [
      "272\n"
     ]
    }
   ],
   "source": [
    "ns, ds = convergents(euler, 100)\n",
    "print(sum([int(c) for c in str(ns[-1])]))"
   ]
  },
  {
   "cell_type": "code",
   "execution_count": null,
   "metadata": {},
   "outputs": [],
   "source": []
  }
 ],
 "metadata": {
  "kernelspec": {
   "display_name": "Python 3",
   "language": "python",
   "name": "python3"
  },
  "language_info": {
   "codemirror_mode": {
    "name": "ipython",
    "version": 3
   },
   "file_extension": ".py",
   "mimetype": "text/x-python",
   "name": "python",
   "nbconvert_exporter": "python",
   "pygments_lexer": "ipython3",
   "version": "3.12.0"
  }
 },
 "nbformat": 4,
 "nbformat_minor": 2
}
