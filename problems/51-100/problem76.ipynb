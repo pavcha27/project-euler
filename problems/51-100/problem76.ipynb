{
 "cells": [
  {
   "cell_type": "code",
   "execution_count": 212,
   "metadata": {},
   "outputs": [],
   "source": [
    "import pandas as pd\n",
    "import numpy as np\n",
    "\n",
    "from functools import reduce"
   ]
  },
  {
   "cell_type": "markdown",
   "metadata": {},
   "source": [
    "This problem in math is defined as finding [partitions][1] of 100. \n",
    "\n",
    "A simple start is to generate all lists for each sum, and use recursion and a cache to optimize slightly. However, even for $n = 100$, this is far too slow. So then we use a dynamic programming approach.\n",
    "\n",
    "The idea of the approach is that for each integer $i$, if it has more partitions, it contributes to all future integers $j$. This is reflected in the double for loop, where we are considering the partitions of $i$ in the outer loop, and in the inner loop we update each future partition based on all previously completed partitions.\n",
    "\n",
    "So in iteration $i = 1$, $j - i$ lags behind $j$ by $1$. So this is showing the effect of each $j-1$ partitions on the $j$ partitions. In iteration $i = k$, $j - i$ lags behind $j$ by $k$. So this is showing the effect of the $j-k$ partitions on the $j$ partitions.\n",
    "\n",
    "  [1]: https://en.wikipedia.org/wiki/Partition_(number_theory)"
   ]
  },
  {
   "cell_type": "code",
   "execution_count": 236,
   "metadata": {},
   "outputs": [
    {
     "name": "stdout",
     "output_type": "stream",
     "text": [
      "36167251325636293988820471890953695495016030339315650422081868605887952568754066420592310556052906916435143\n"
     ]
    }
   ],
   "source": [
    "def partition(n):\n",
    "    # initialize partitions\n",
    "    partitions = [1] + [0]*n\n",
    "\n",
    "    # for each iteration\n",
    "    for i in range(1, n+1):\n",
    "        # for every later partition\n",
    "        for j in range(i, n+1):\n",
    "            # how do previous partitions affect future partitions\n",
    "            partitions[j] += partitions[j - i]\n",
    "\n",
    "    # adjustment since we are only looking for solutions with >= 2 numbers\n",
    "    return np.array(partitions) - np.ones(n+1, int)\n",
    "\n",
    "n = 10**4\n",
    "print(partition(n)[n])"
   ]
  },
  {
   "cell_type": "markdown",
   "metadata": {},
   "source": [
    "If we want to improve further, it would be better, for large $n$ (for example $ n = 10,\\!000$), to use a formulation based on [Euler's pentagonal theorem][1].\n",
    "\n",
    "  [1]: https://en.wikipedia.org/wiki/Pentagonal_number_theorem#Relation_with_partitions"
   ]
  },
  {
   "cell_type": "code",
   "execution_count": 235,
   "metadata": {},
   "outputs": [
    {
     "name": "stdout",
     "output_type": "stream",
     "text": [
      "36167251325636293988820471890953695495016030339315650422081868605887952568754066420592310556052906916435143\n"
     ]
    }
   ],
   "source": [
    "def partition_pentagonal(n):\n",
    "    # intialize partitions\n",
    "    partitions = [1] + [0]*n\n",
    "\n",
    "    # initialzie pentagonal numbers and signs for the summation\n",
    "    pentagonals = [0]\n",
    "    signs = [0]\n",
    "    k, sign = 1, 1\n",
    "    while pentagonals[-1] < n:\n",
    "        pentagonals.append(k*(3*k - 1) // 2)\n",
    "        pentagonals.append(k*(3*k + 1) // 2)\n",
    "        signs += [sign, sign]\n",
    "        k += 1\n",
    "        sign *= -1\n",
    "    \n",
    "    for x in range(1, n+1):\n",
    "        # implement Euler's pentagonal number theorem\n",
    "        # p(n) = sum(k) signs(k) * partition(x - pentagonals(k))\n",
    "        # we can stop when x - pentagonals(k) < 0, since partition(n) = 0 when n < 0\n",
    "        k = 1\n",
    "        while pentagonals[k] <= x:\n",
    "            partitions[x] += partitions[x - pentagonals[k]] * signs[k]\n",
    "            k += 1\n",
    "            if k >= len(pentagonals):\n",
    "                break\n",
    "\n",
    "    # adjustment since we are only looking for solutions with >= 2 numbers\n",
    "    return np.array(partitions) - np.ones(n+1, int)\n",
    "\n",
    "n = 10**4\n",
    "print(partition_pentagonal(n)[n])"
   ]
  },
  {
   "cell_type": "code",
   "execution_count": null,
   "metadata": {},
   "outputs": [],
   "source": []
  }
 ],
 "metadata": {
  "kernelspec": {
   "display_name": "Python 3",
   "language": "python",
   "name": "python3"
  },
  "language_info": {
   "codemirror_mode": {
    "name": "ipython",
    "version": 3
   },
   "file_extension": ".py",
   "mimetype": "text/x-python",
   "name": "python",
   "nbconvert_exporter": "python",
   "pygments_lexer": "ipython3",
   "version": "3.12.0"
  }
 },
 "nbformat": 4,
 "nbformat_minor": 2
}
