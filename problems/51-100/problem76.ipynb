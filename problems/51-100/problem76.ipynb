{
 "cells": [
  {
   "cell_type": "code",
   "execution_count": 2,
   "metadata": {},
   "outputs": [],
   "source": [
    "import pandas as pd\n",
    "import numpy as np\n",
    "\n",
    "from functools import reduce"
   ]
  },
  {
   "cell_type": "markdown",
   "metadata": {},
   "source": [
    "This problem in math is defined as finding [partitions][1] of 100. This is also the same as the coin sum problem from problem 31, with coins being any number $\\leq 100$. We also have to make a small adjustment of reducing the count by $1$ at the end, since we want sums of at least $2$ numbers.\n",
    "\n",
    "  [1]: https://en.wikipedia.org/wiki/Partition_(number_theory)"
   ]
  },
  {
   "cell_type": "code",
   "execution_count": 6,
   "metadata": {},
   "outputs": [
    {
     "name": "stdout",
     "output_type": "stream",
     "text": [
      "190569291\n"
     ]
    }
   ],
   "source": [
    "def partition(n):\n",
    "    # initialize partitions\n",
    "    partitions = [1] + [0]*n\n",
    "\n",
    "    # for each iteration\n",
    "    for i in range(1, n+1):\n",
    "        # for every later partition\n",
    "        for j in range(i, n+1):\n",
    "            # how do previous partitions affect future partitions\n",
    "            partitions[j] += partitions[j - i]\n",
    "\n",
    "    # adjustment since we are only looking for solutions with >= 2 numbers\n",
    "    return np.array(partitions) - np.ones(n+1, int)\n",
    "\n",
    "n = 10**2\n",
    "print(partition(n)[n])"
   ]
  },
  {
   "cell_type": "markdown",
   "metadata": {},
   "source": [
    "If we want to improve further, it would be better, for large $n$ (for example $ n = 10,\\!000$), to use a formulation based on [Euler's pentagonal theorem][1].\n",
    "\n",
    "  [1]: https://en.wikipedia.org/wiki/Pentagonal_number_theorem#Relation_with_partitions"
   ]
  },
  {
   "cell_type": "code",
   "execution_count": 5,
   "metadata": {},
   "outputs": [
    {
     "name": "stdout",
     "output_type": "stream",
     "text": [
      "190569291\n"
     ]
    }
   ],
   "source": [
    "def partition_pentagonal(n):\n",
    "    # intialize partitions\n",
    "    partitions = [1] + [0]*n\n",
    "\n",
    "    # initialzie pentagonal numbers and signs for the summation\n",
    "    pentagonals = [0]\n",
    "    signs = [0]\n",
    "    k, sign = 1, 1\n",
    "    while pentagonals[-1] < n:\n",
    "        pentagonals.append(k*(3*k - 1) // 2)\n",
    "        pentagonals.append(k*(3*k + 1) // 2)\n",
    "        signs += [sign, sign]\n",
    "        k += 1\n",
    "        sign *= -1\n",
    "    \n",
    "    for x in range(1, n+1):\n",
    "        # implement Euler's pentagonal number theorem\n",
    "        # p(n) = sum(k) signs(k) * partition(x - pentagonals(k))\n",
    "        # we can stop when x - pentagonals(k) < 0, since partition(n) = 0 when n < 0\n",
    "        k = 1\n",
    "        while pentagonals[k] <= x:\n",
    "            partitions[x] += partitions[x - pentagonals[k]] * signs[k]\n",
    "            k += 1\n",
    "            if k >= len(pentagonals):\n",
    "                break\n",
    "\n",
    "    # adjustment since we are only looking for solutions with >= 2 numbers\n",
    "    return np.array(partitions) - np.ones(n+1, int)\n",
    "\n",
    "n = 10**2\n",
    "print(partition_pentagonal(n)[n])"
   ]
  },
  {
   "cell_type": "code",
   "execution_count": null,
   "metadata": {},
   "outputs": [],
   "source": []
  }
 ],
 "metadata": {
  "kernelspec": {
   "display_name": "Python 3",
   "language": "python",
   "name": "python3"
  },
  "language_info": {
   "codemirror_mode": {
    "name": "ipython",
    "version": 3
   },
   "file_extension": ".py",
   "mimetype": "text/x-python",
   "name": "python",
   "nbconvert_exporter": "python",
   "pygments_lexer": "ipython3",
   "version": "3.12.0"
  }
 },
 "nbformat": 4,
 "nbformat_minor": 2
}
