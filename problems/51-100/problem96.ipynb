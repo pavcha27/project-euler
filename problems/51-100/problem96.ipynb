{
 "cells": [
  {
   "cell_type": "code",
   "execution_count": 259,
   "metadata": {},
   "outputs": [],
   "source": [
    "import pandas as pd\n",
    "import numpy as np\n",
    "\n",
    "from itertools import product\n",
    "from collections import Counter\n",
    "from functools import reduce"
   ]
  },
  {
   "cell_type": "code",
   "execution_count": 260,
   "metadata": {},
   "outputs": [],
   "source": [
    "with open('../../inputs/0096_sudoku.txt', 'r') as f:\n",
    "    sudoku_string = f.read()"
   ]
  },
  {
   "cell_type": "markdown",
   "metadata": {},
   "source": [
    "My code basically find an emtpy cell, checks all possible value for that cell, and uses a backtracking approach (i.e., depth first search) to see if the value leads to a solution or not. If it fails, it goes back and tests the next possible value of that cell."
   ]
  },
  {
   "cell_type": "code",
   "execution_count": 287,
   "metadata": {},
   "outputs": [],
   "source": [
    "def check_box(puzz, box, num):\n",
    "    bc = Counter([puzz[box[0]+i][box[1]+j] for i,j in product(range(3), repeat = 2)])\n",
    "    return bc.get(num, 0) >= 1"
   ]
  },
  {
   "cell_type": "code",
   "execution_count": 288,
   "metadata": {},
   "outputs": [],
   "source": [
    "def check_col(puzz, col, num):\n",
    "    return (np.transpose(puzz)[col] == num).any()\n",
    "\n",
    "    # cc = Counter(np.transpose(puzz)[col])\n",
    "    # return cc.get(num, 0) >= 1"
   ]
  },
  {
   "cell_type": "code",
   "execution_count": 289,
   "metadata": {},
   "outputs": [],
   "source": [
    "def check_row(puzz, row, num):\n",
    "    return (puzz[row] == num).any()\n",
    "\n",
    "    # rc = Counter(puzz[row])\n",
    "    # return rc.get(num, 0) >= 1"
   ]
  },
  {
   "cell_type": "code",
   "execution_count": 290,
   "metadata": {},
   "outputs": [],
   "source": [
    "sudoku_lines = sudoku_string.split('\\n')\n",
    "sudoku_puzzles = np.array([[[int(c) for c in l] for l in sudoku_lines[i+1:i+10]] for i in range(0,500,10)])"
   ]
  },
  {
   "cell_type": "code",
   "execution_count": 291,
   "metadata": {},
   "outputs": [],
   "source": [
    "def solve_puzzle(puzz, poss = None, suppress = True):\n",
    "    if not suppress:\n",
    "        print(puzz)\n",
    "\n",
    "    if not poss:\n",
    "        poss = [[{i+1 for i in range(9)} for _ in range(9)] for _ in range(9)]\n",
    "        for i,j in product(range(9), repeat = 2):\n",
    "            if puzz[i][j] > 0:\n",
    "                # store nums in rows and cols and boxes\n",
    "                for x,y in product(range(9), repeat = 2):\n",
    "                    if x == i and y == j:\n",
    "                        poss[x][y] = {puzz[i][j]}\n",
    "                        continue\n",
    "\n",
    "                    # if same row, column, or box, remove possibility\n",
    "                    if x == i or y == j or (x//3 == i//3 and y//3 == j//3):\n",
    "                        poss[x][y] -= {puzz[i][j]}\n",
    "\n",
    "        if not suppress: print(poss)\n",
    "\n",
    "    if not suppress: print()\n",
    "\n",
    "    a,b = -1,-1\n",
    "    for i,j in product(range(9), repeat = 2):\n",
    "        if puzz[i][j] == 0:\n",
    "            a,b = i,j\n",
    "            break\n",
    "\n",
    "    # if no empties, then puzzle is solved\n",
    "    if a < 0 and b < 0:\n",
    "        return puzz.copy()\n",
    "\n",
    "    for val in poss[a][b]:\n",
    "        if check_row(puzz, a, val):\n",
    "            if not suppress: print(a,b,val, 'failed row')\n",
    "            continue\n",
    "        \n",
    "        if check_col(puzz, b, val):\n",
    "            if not suppress: print(a,b,val, 'failed col')\n",
    "            continue\n",
    "        \n",
    "        if check_box(puzz, (3*(a//3),3*(b//3)), val):\n",
    "            if not suppress: print(a,b,a//3,b//3,val, 'failed box')\n",
    "            continue\n",
    "\n",
    "        if not suppress: print(a,b,val, 'valid')\n",
    "        puzz[a][b] = val\n",
    "        solution = solve_puzzle(puzz, poss, suppress)\n",
    "\n",
    "        if 0 not in solution:\n",
    "            return solution.copy()\n",
    "\n",
    "        puzz[a][b] = 0\n",
    "    \n",
    "    return np.zeros((9,9))"
   ]
  },
  {
   "cell_type": "code",
   "execution_count": 292,
   "metadata": {},
   "outputs": [
    {
     "data": {
      "text/plain": [
       "array([[9, 7, 6, 1, 2, 5, 4, 3, 8],\n",
       "       [1, 5, 8, 4, 3, 6, 9, 2, 7],\n",
       "       [4, 2, 3, 8, 7, 9, 1, 5, 6],\n",
       "       [2, 3, 4, 7, 6, 1, 8, 9, 5],\n",
       "       [8, 6, 7, 9, 5, 2, 3, 1, 4],\n",
       "       [5, 1, 9, 3, 8, 4, 7, 6, 2],\n",
       "       [7, 8, 2, 5, 1, 3, 6, 4, 9],\n",
       "       [3, 9, 5, 6, 4, 7, 2, 8, 1],\n",
       "       [6, 4, 1, 2, 9, 8, 5, 7, 3]])"
      ]
     },
     "execution_count": 292,
     "metadata": {},
     "output_type": "execute_result"
    }
   ],
   "source": [
    "solve_puzzle(np.array(sudoku_puzzles[10]))"
   ]
  },
  {
   "cell_type": "code",
   "execution_count": 294,
   "metadata": {},
   "outputs": [
    {
     "name": "stdout",
     "output_type": "stream",
     "text": [
      "1 : 483\n",
      "2 : 245\n",
      "3 : 462\n",
      "4 : 137\n",
      "5 : 523\n",
      "6 : 176\n",
      "7 : 143\n",
      "8 : 487\n",
      "9 : 814\n",
      "10 : 761\n",
      "11 : 976\n",
      "12 : 962\n",
      "13 : 397\n",
      "14 : 639\n",
      "15 : 697\n",
      "16 : 361\n",
      "17 : 359\n",
      "18 : 786\n",
      "19 : 743\n",
      "20 : 782\n",
      "21 : 428\n",
      "22 : 425\n",
      "23 : 348\n",
      "24 : 124\n",
      "25 : 361\n",
      "26 : 581\n",
      "27 : 387\n",
      "28 : 345\n",
      "29 : 235\n",
      "30 : 298\n",
      "31 : 761\n",
      "32 : 132\n",
      "33 : 698\n",
      "34 : 852\n",
      "35 : 453\n",
      "36 : 516\n",
      "37 : 945\n",
      "38 : 365\n",
      "39 : 134\n",
      "40 : 193\n",
      "41 : 814\n",
      "42 : 384\n",
      "43 : 469\n",
      "44 : 316\n",
      "45 : 586\n",
      "46 : 954\n",
      "47 : 159\n",
      "48 : 861\n",
      "49 : 294\n",
      "50 : 351\n",
      "24702\n"
     ]
    }
   ],
   "source": [
    "i = 1\n",
    "s = 0\n",
    "for p in sudoku_puzzles:\n",
    "    sol = solve_puzzle(np.array(p))[0][:3]\n",
    "    val = reduce(lambda a,b: a + sol[b]*10**(2-b), range(3), 0)\n",
    "    s += val\n",
    "\n",
    "    print(i, \":\", val)\n",
    "    i += 1\n",
    "\n",
    "print(s)"
   ]
  },
  {
   "cell_type": "code",
   "execution_count": null,
   "metadata": {},
   "outputs": [],
   "source": []
  }
 ],
 "metadata": {
  "kernelspec": {
   "display_name": "Python 3",
   "language": "python",
   "name": "python3"
  },
  "language_info": {
   "codemirror_mode": {
    "name": "ipython",
    "version": 3
   },
   "file_extension": ".py",
   "mimetype": "text/x-python",
   "name": "python",
   "nbconvert_exporter": "python",
   "pygments_lexer": "ipython3",
   "version": "3.12.0"
  }
 },
 "nbformat": 4,
 "nbformat_minor": 2
}
