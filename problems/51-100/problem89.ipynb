{
 "cells": [
  {
   "cell_type": "code",
   "execution_count": 3,
   "metadata": {},
   "outputs": [],
   "source": [
    "import pandas as pd\n",
    "import numpy as np\n",
    "\n",
    "from functools import reduce\n",
    "from collections import Counter"
   ]
  },
  {
   "cell_type": "code",
   "execution_count": 4,
   "metadata": {},
   "outputs": [],
   "source": [
    "with open('../../inputs/0089_roman.txt', 'r') as f:\n",
    "    roman_string = f.read()"
   ]
  },
  {
   "cell_type": "markdown",
   "metadata": {},
   "source": [
    "This problem is relatively easy. We just have to parse the strings carefully. My method here will basically just be to convert the Roman Numeral string to a number, then convert the number back to a Minimal Roman Numeral string, and finally subtract the lengths to get the total improvement.\n",
    "\n",
    "The key thing is you need to make sure to handle cases of subtractives. The way I did this in the Roman to Number function is to peek ahead an extra character--if it's a subtractive, do some slightly different behavior. In the Number to Roman function, I just use a grand case statement, since it's generally most efficient to use as big of a denomination as possible at each step.\n",
    "\n",
    "And this approach worked quickly."
   ]
  },
  {
   "cell_type": "code",
   "execution_count": 5,
   "metadata": {},
   "outputs": [],
   "source": [
    "# quick dictionaries for switching romans to nums and back\n",
    "roman_nums = {\n",
    "    'I': 1, 'V': 5, 'X': 10, 'L': 50, \n",
    "    'C': 100, 'D': 500, 'M': 1000,\n",
    "    'IV': 4, 'IX': 9, 'XL': 40,\n",
    "    'XC': 90, 'CD': 400, 'CM': 900\n",
    "}\n",
    "\n",
    "# read each string separately\n",
    "romans = roman_string.split('\\n')"
   ]
  },
  {
   "cell_type": "code",
   "execution_count": 6,
   "metadata": {},
   "outputs": [],
   "source": [
    "def roman_to_num(roman_str):\n",
    "    num = 0\n",
    "\n",
    "    i = 0\n",
    "    while i < len(roman_str)-1:\n",
    "        char1, char2 = roman_str[i], roman_str[i+1] \n",
    "\n",
    "        # if subtractive make sure to increment by 2\n",
    "        if roman_nums[char1] < roman_nums[char2]:\n",
    "            num += roman_nums[char1 + char2]\n",
    "            i += 2\n",
    "        else:\n",
    "            num += roman_nums[char1]\n",
    "            i += 1\n",
    "    \n",
    "    if i == len(roman_str) - 1:\n",
    "        num += roman_nums[roman_str[i]]\n",
    "\n",
    "    return num"
   ]
  },
  {
   "cell_type": "code",
   "execution_count": 7,
   "metadata": {},
   "outputs": [],
   "source": [
    "def num_to_roman(num):\n",
    "    # giant case statement build from biggest numbers first\n",
    "    match num:\n",
    "        case 0:\n",
    "            return ''\n",
    "        case num if num >= 1000:\n",
    "            return 'M' + num_to_roman(num - 1000)\n",
    "        case num if num >= 900:\n",
    "            return 'CM' + num_to_roman(num - 900)\n",
    "        case num if num >= 500:\n",
    "            return 'D' + num_to_roman(num - 500)\n",
    "        case num if num >= 400:\n",
    "            return 'CD' + num_to_roman(num - 400)\n",
    "        case num if num >= 100:\n",
    "            return 'C' + num_to_roman(num - 100)\n",
    "        case num if num >= 90:\n",
    "            return 'XC' + num_to_roman(num - 90)\n",
    "        case num if num >= 50:\n",
    "            return 'L' + num_to_roman(num - 50)\n",
    "        case num if num >= 40:\n",
    "            return 'XL' + num_to_roman(num - 40)\n",
    "        case num if num >= 10:\n",
    "            return 'X' + num_to_roman(num - 10)\n",
    "        case num if num >= 9:\n",
    "            return 'IX' + num_to_roman(num - 9)\n",
    "        case num if num >= 5:\n",
    "            return 'V' + num_to_roman(num - 5)\n",
    "        case num if num >= 4:\n",
    "            return 'IV' + num_to_roman(num - 4)\n",
    "        case num if num > 0:\n",
    "            return 'I'*num\n",
    "        case _:\n",
    "            raise ValueError(f'{num}: number was negative, failed')\n",
    "        "
   ]
  },
  {
   "cell_type": "code",
   "execution_count": 8,
   "metadata": {},
   "outputs": [
    {
     "name": "stdout",
     "output_type": "stream",
     "text": [
      "743\n"
     ]
    }
   ],
   "source": [
    "old_romans = ''\n",
    "new_romans = ''\n",
    "for roman in romans:\n",
    "    old_romans += roman\n",
    "    new_romans += num_to_roman(roman_to_num(roman))\n",
    "    # print(roman, '\\t ', num_to_roman(roman_to_num(roman)))\n",
    "\n",
    "print(len(old_romans) - len(new_romans))"
   ]
  },
  {
   "cell_type": "code",
   "execution_count": null,
   "metadata": {},
   "outputs": [],
   "source": []
  }
 ],
 "metadata": {
  "kernelspec": {
   "display_name": "Python 3",
   "language": "python",
   "name": "python3"
  },
  "language_info": {
   "codemirror_mode": {
    "name": "ipython",
    "version": 3
   },
   "file_extension": ".py",
   "mimetype": "text/x-python",
   "name": "python",
   "nbconvert_exporter": "python",
   "pygments_lexer": "ipython3",
   "version": "3.12.0"
  }
 },
 "nbformat": 4,
 "nbformat_minor": 2
}
