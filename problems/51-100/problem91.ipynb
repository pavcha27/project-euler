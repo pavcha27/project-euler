{
 "cells": [
  {
   "cell_type": "code",
   "execution_count": 61,
   "metadata": {},
   "outputs": [],
   "source": [
    "import pandas as pd\n",
    "import numpy as np\n",
    "import math\n",
    "\n",
    "from itertools import product"
   ]
  },
  {
   "cell_type": "markdown",
   "metadata": {},
   "source": [
    "We can simply check with brute force for grid size $\\leq 50$ using the fact that the dot product or two vectors has to be $0$ at a right angle. We can double count the triangles with a right angle at $P$, since we can flip the triangle to have angle at $Q$. We finally divide the count by $2!$ to account for order of $(px, py)$ and $(qx, qy)$."
   ]
  },
  {
   "cell_type": "code",
   "execution_count": 127,
   "metadata": {},
   "outputs": [
    {
     "name": "stdout",
     "output_type": "stream",
     "text": [
      "14234\n",
      "14234\n"
     ]
    }
   ],
   "source": [
    "n = 50\n",
    "cnt = 0\n",
    "triangles = set()\n",
    "\n",
    "for px, py, qx, qy in product(range(n+1), repeat = 4):\n",
    "    if (px == qx and py == qy) or (px == py == 0) or (qx == qy == 0):\n",
    "        continue\n",
    "\n",
    "    # first point will always be where the right angle is\n",
    "    # check if right angle at origin\n",
    "    if px*qx + py*qy == 0:\n",
    "        triangles.add(tuple(sorted(((0,0), (px,py), (qx,qy)))))\n",
    "        cnt += 1\n",
    "    \n",
    "    # check if right angle at P\n",
    "    if px*(qx - px) + py*(qy - py) == 0:\n",
    "        triangles.add(tuple(sorted(((px,py), (qx,qy), (0,0)))))\n",
    "        cnt += 2\n",
    "\n",
    "print(len(triangles))\n",
    "print(cnt // 2)"
   ]
  },
  {
   "cell_type": "code",
   "execution_count": null,
   "metadata": {},
   "outputs": [],
   "source": []
  }
 ],
 "metadata": {
  "kernelspec": {
   "display_name": "Python 3",
   "language": "python",
   "name": "python3"
  },
  "language_info": {
   "codemirror_mode": {
    "name": "ipython",
    "version": 3
   },
   "file_extension": ".py",
   "mimetype": "text/x-python",
   "name": "python",
   "nbconvert_exporter": "python",
   "pygments_lexer": "ipython3",
   "version": "3.12.0"
  }
 },
 "nbformat": 4,
 "nbformat_minor": 2
}
