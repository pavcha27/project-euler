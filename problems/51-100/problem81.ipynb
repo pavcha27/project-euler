{
 "cells": [
  {
   "cell_type": "code",
   "execution_count": 3,
   "metadata": {},
   "outputs": [],
   "source": [
    "import pandas as pd\n",
    "import numpy as np\n",
    "\n",
    "import heapq"
   ]
  },
  {
   "cell_type": "code",
   "execution_count": 4,
   "metadata": {},
   "outputs": [],
   "source": [
    "with open('../../inputs/0081_matrix.txt', 'r') as f:\n",
    "    matrix_string = f.read()"
   ]
  },
  {
   "cell_type": "markdown",
   "metadata": {},
   "source": [
    "This is a classic dynamic programming problem where we calculate the minimum path sum.\n",
    "\n",
    "It's similar to the maximum path sum (problem 18 and 67) in that from each node, we can only go in two directions, so we can use a dynamic programming approach similar to that problem, except the shape here is a rhombus (imagine turning the matrix $45^{\\circ}$), instead of a triangle. In the triangle version, we guarantee that the next row has more values than the previous row (so each number in the previous row has two numbers below it that we can check); in the rhombus, we have to be more careful about boundaries, since numbers on the edge can only go to 1 number in the next row.\n",
    "\n",
    "It's also similar to the lattice paths (problem 15), since we can try to analyze each path, in that we can only move right and down, and we can analyze each path similarly. However, the big difference is there we could speed up the calculation signifcantly by doing a mathematical (combinatoric) formulation, since we were just counting; in this problem, we need to actually take the sume, so we can't just use a general mathematical approach.\n",
    "\n",
    "The first approach I use here is a greedy approach (bottom-up dynamic programming), more similar to the lattice paths. We precalculate the sum of the first column and first row, since they are only affected by one direction (affected by above for first column, affected by left for first row). Then at each other number (starting from $(i,j) = (1,1)$), we add on the minimum of the number above and the number to the left. In notation, for a matrix $A$, we assign $A_{i,j} = A_{i,j} + \\min(A_{i,j-1}, A_{i-1,j})$."
   ]
  },
  {
   "cell_type": "code",
   "execution_count": 5,
   "metadata": {},
   "outputs": [
    {
     "name": "stdout",
     "output_type": "stream",
     "text": [
      "427337\n"
     ]
    }
   ],
   "source": [
    "# read in matrix\n",
    "matrix = np.array([[int(n) for n in row.split(',')] for row in matrix_string.split('\\n')], int)\n",
    "m = len(matrix)\n",
    "n = len(matrix[0])\n",
    "\n",
    "# sum first column, since path must come from above\n",
    "for i in range(1,m):\n",
    "    matrix[i, 0] += matrix[i-1, 0]\n",
    "\n",
    "# sum first row, since path must come from left\n",
    "for j in range(1,n):\n",
    "    matrix[0, j] += matrix[0, j-1]\n",
    "\n",
    "# at each other row and col, greedily add on the minimum of the number above and number to the left\n",
    "for i in range(1,m):\n",
    "    for j in range(1,n):\n",
    "        matrix[i,j] += min(matrix[i,j-1], matrix[i-1, j])\n",
    "\n",
    "# the bottom right corner stores the path sum\n",
    "print(matrix[-1,-1])"
   ]
  },
  {
   "cell_type": "markdown",
   "metadata": {},
   "source": [
    "The second approach here is more like the triangular maximum path sum, where we start at the bottom right corner and move left and up back toward the start node."
   ]
  },
  {
   "cell_type": "code",
   "execution_count": 6,
   "metadata": {},
   "outputs": [
    {
     "name": "stdout",
     "output_type": "stream",
     "text": [
      "427337\n"
     ]
    }
   ],
   "source": [
    "# read in matrix\n",
    "matrix = np.array([[int(n) for n in row.split(',')] for row in matrix_string.split('\\n')], int)\n",
    "m = len(matrix)\n",
    "n = len(matrix[0])\n",
    "\n",
    "for i in range(m)[::-1]:\n",
    "    for j in range(n)[::-1]:\n",
    "        # if in bottom right corner, you don't need to do anything\n",
    "        if i == m-1 and j == n-1:\n",
    "            continue\n",
    "\n",
    "        # you're on last row, so you only need to look right\n",
    "        if i == m-1:\n",
    "            matrix[i, j] += matrix[i,j+1]\n",
    "            continue\n",
    "\n",
    "        # you're on the last column so you only need to look below\n",
    "        if j == n-1:\n",
    "            matrix[i,j] += matrix[i+1,j]\n",
    "            continue\n",
    "        \n",
    "        # look right and down and see which path would give a minimum\n",
    "        matrix[i,j] += min(matrix[i+1,j], matrix[i,j+1])\n",
    "\n",
    "# the top left corner stores the path sum\n",
    "print(matrix[0,0])"
   ]
  },
  {
   "cell_type": "markdown",
   "metadata": {},
   "source": [
    "Another approach would be the [BFS (breadth-first search)][1] algorithm, which uses a queue and sums along the way.\n",
    "\n",
    "  [1]: https://en.wikipedia.org/wiki/Breadth-first_search"
   ]
  },
  {
   "cell_type": "code",
   "execution_count": 9,
   "metadata": {},
   "outputs": [
    {
     "name": "stdout",
     "output_type": "stream",
     "text": [
      "427337\n"
     ]
    }
   ],
   "source": [
    "# read in the matrix\n",
    "matrix = np.array([[int(n) for n in row.split(',')] for row in matrix_string.split('\\n')], int)\n",
    "m = len(matrix)\n",
    "n = len(matrix[0])\n",
    "sum_list = []\n",
    "\n",
    "r, c = 0, 0\n",
    "ssf = 0\n",
    "visited = np.zeros_like(matrix)\n",
    "\n",
    "# use a queue with elements (row, col, sum_so_far)\n",
    "queue = [(ssf, r, c)]\n",
    "\n",
    "# transform into a minheap priority queue\n",
    "heapq.heapify(queue)\n",
    "while queue:\n",
    "    ssf, r, c = heapq.heappop(queue)\n",
    "    # if out of bounds then skip\n",
    "    # if you have already visited earlier, there must have been a shorter path\n",
    "    # to this number before, so skip\n",
    "    if r > m-1 or c > n-1 or visited[r,c]:\n",
    "        continue\n",
    "    if r == m-1 and c == n-1:\n",
    "        sum_list.append(ssf + matrix[r,c])\n",
    "        continue\n",
    "    \n",
    "    visited[r,c] = 1\n",
    "\n",
    "    # append right, up, and down moves\n",
    "    heapq.heappush(queue, (ssf + matrix[r,c], r, c+1))\n",
    "    heapq.heappush(queue, (ssf + matrix[r,c], r+1, c))\n",
    "\n",
    "print(np.min(sum_list))"
   ]
  },
  {
   "cell_type": "code",
   "execution_count": null,
   "metadata": {},
   "outputs": [],
   "source": []
  }
 ],
 "metadata": {
  "kernelspec": {
   "display_name": "Python 3",
   "language": "python",
   "name": "python3"
  },
  "language_info": {
   "codemirror_mode": {
    "name": "ipython",
    "version": 3
   },
   "file_extension": ".py",
   "mimetype": "text/x-python",
   "name": "python",
   "nbconvert_exporter": "python",
   "pygments_lexer": "ipython3",
   "version": "3.12.0"
  }
 },
 "nbformat": 4,
 "nbformat_minor": 2
}
