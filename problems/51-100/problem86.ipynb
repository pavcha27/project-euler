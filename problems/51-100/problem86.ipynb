{
 "cells": [
  {
   "cell_type": "code",
   "execution_count": 2,
   "metadata": {},
   "outputs": [],
   "source": [
    "import pandas as pd\n",
    "import numpy as np\n",
    "\n",
    "import math"
   ]
  },
  {
   "cell_type": "markdown",
   "metadata": {},
   "source": [
    "Suppose $a,b,c$ are the side lengths of the box and $a \\geq b \\geq c$. Suppose the spider always start at the corner touching side lengths $a$ and $b$ and the fly is in the opposite corner touching side lengths $b$ and $c$.\n",
    "\n",
    "Then if we flatten the box out, requiring the spider to walk \"straight\" means that we need them to walk the hypotenuse of a right triangle with legs $a$ and $(b + c)$. \n",
    "\n",
    "Then for any $b + c$ that works, we can find the number of combinations of $b,c$ that work. In general, if $b + c = x$ is one leg of a valid solution, and we require $b \\geq c$, then $(b-1, c+1), (b-2, c+2), \\dots$ are all valid as well, as long as $b \\geq c$. The ellipses would stop at the midpoint of $b$ and $c$, which is $\\frac{b + c}{2}$. In particular, we say for any valid $b + c$, there are $\\lfloor \\frac{b + c}{2} \\rfloor$ valid solutions. But if $a < b + c$ then we also have to reject some of these valid solutions."
   ]
  },
  {
   "cell_type": "code",
   "execution_count": 3,
   "metadata": {},
   "outputs": [],
   "source": [
    "def count_sub_valid(a, b_plus_c):\n",
    "    if b_plus_c > 2*a:\n",
    "        return 0\n",
    "\n",
    "    if a > b_plus_c:\n",
    "        return (b_plus_c) // 2\n",
    "    \n",
    "    return a -  (b_plus_c - 1) // 2"
   ]
  },
  {
   "cell_type": "code",
   "execution_count": 4,
   "metadata": {},
   "outputs": [],
   "source": [
    "def count_valid(a):\n",
    "    cnt = 0\n",
    "    for bpc in range(1, 2*a+1):\n",
    "        d = math.floor(np.sqrt(a*a + bpc*bpc))\n",
    "        if d*d == a*a + bpc*bpc:\n",
    "            cnt += count_sub_valid(a, bpc)\n",
    "\n",
    "    return cnt\n",
    "\n",
    "cnt = 0\n",
    "a = 0\n",
    "while cnt < 10**6:\n",
    "    a += 1\n",
    "    cnt += count_valid(a)\n",
    "\n",
    "print(a, cnt)"
   ]
  },
  {
   "cell_type": "markdown",
   "metadata": {},
   "source": [
    "The thing to realize is we want the the distance walked, $d = \\sqrt{a^2 + (b + c)^2}$, to be an integer. This is the same as saying $a, (b+c), d$ is a Pythagorean triple! Thus we can speed up the problem by finding $(a, b+c, d)$ Pythagorean triples, which we can do quickly (like in problem 75). We can speed this up further with a sieve appraoch, since it $(x,y,z)$ is a Pythagorean triple, then $(kx, ky, kz)$ also is."
   ]
  },
  {
   "cell_type": "code",
   "execution_count": 46,
   "metadata": {},
   "outputs": [
    {
     "name": "stdout",
     "output_type": "stream",
     "text": [
      "1818 1000457\n"
     ]
    }
   ],
   "source": [
    "def gcd(a,b):\n",
    "    if a == 0:\n",
    "        return b\n",
    "    return gcd(b % a, a)\n",
    "\n",
    "def count_valid2(max_sum):\n",
    "    valid_as = np.zeros(max_sum + 1, int)\n",
    "\n",
    "    for m in range(1, math.floor(2*np.sqrt(max_sum)) + 1):\n",
    "        for n in range(1, m):\n",
    "            # requirements for a primitive Pythagorean triple\n",
    "            if gcd(m,n) == 1 and (m + n)%2 == 1:\n",
    "                x = m*m - n*n\n",
    "                y = 2*m*n\n",
    "\n",
    "                valid_as[x::x] += np.array([count_sub_valid(k*x, k*y) for k in range(1, (max_sum // x) + 1)], int)\n",
    "                valid_as[y::y] += np.array([count_sub_valid(k*y, k*x) for k in range(1, (max_sum // y) + 1)], int)\n",
    "    \n",
    "    return valid_as\n",
    "\n",
    "vals = count_valid2(10**4)\n",
    "i = -1\n",
    "s = 0\n",
    "while True:\n",
    "    if s >= 10**6:\n",
    "        print(i, s)\n",
    "        break\n",
    "\n",
    "    i += 1\n",
    "    s += vals[i]\n"
   ]
  }
 ],
 "metadata": {
  "kernelspec": {
   "display_name": "Python 3",
   "language": "python",
   "name": "python3"
  },
  "language_info": {
   "codemirror_mode": {
    "name": "ipython",
    "version": 3
   },
   "file_extension": ".py",
   "mimetype": "text/x-python",
   "name": "python",
   "nbconvert_exporter": "python",
   "pygments_lexer": "ipython3",
   "version": "3.12.0"
  }
 },
 "nbformat": 4,
 "nbformat_minor": 2
}
