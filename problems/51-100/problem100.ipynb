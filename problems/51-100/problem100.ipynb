{
 "cells": [
  {
   "cell_type": "code",
   "execution_count": 30,
   "metadata": {},
   "outputs": [],
   "source": [
    "import pandas as pd\n",
    "import numpy as np\n",
    "\n",
    "from decimal import Decimal, getcontext\n",
    "getcontext().prec = 50"
   ]
  },
  {
   "cell_type": "markdown",
   "metadata": {},
   "source": [
    "Suppose that $S$ is the amount of total frisbees and $p$ is the proportion of frisbees that are blue. Then we can write the math problem as\n",
    "$$\n",
    "\\frac{pS}{S} \\cdot \\frac{pS - 1}{S - 1} = \\frac{1}{2} \\implies \\frac{p^2 S^2 - pS}{S^2 - S} = \\frac{1}{2}.\n",
    "$$\n",
    "\n",
    "Since we need $S$ to be really big, we know that the $S^2$ term will dominate:\n",
    "$$\n",
    "\\lim_{S \\to \\infty} \\frac{p^2 S^2 - pS}{S^2 - S} = p^2 = \\frac{1}{2} \\implies p = \\frac{\\sqrt{2}}{2}.\n",
    "$$\n",
    "\n",
    "So for any $S$, we need to just test $2$ numbers for the number of blue discs: $pS = \\left\\lfloor\\frac{S\\sqrt{2}}{2}\\right\\rfloor$ and $pS = \\left\\lceil\\frac{S\\sqrt{2}}{2}\\right\\rceil$.\n",
    "\n",
    "Additionally, to speed up, we look at the pattern of the ratio of the first few values of $S$. We notice two things. First, the value $pS = \\left\\lceil\\frac{S\\sqrt{2}}{2}\\right\\rceil$ is always the solution. Second, \n",
    "$$\n",
    "\\frac{21}{4} < \\frac{120}{21} < \\frac{697}{120} < \\dots\n",
    "$$\n",
    "\n",
    "In particular, what that means is we can alway skip ahead by the previous ratio of $S$. So once we reach a solution $S_n$, we skip ahead by $\\left\\lfloor \\frac{S_{n}}{S_{n-1}} \\right\\rfloor$ since we know $\\frac{S_{n+1}}{S_{n}} \\geq \\frac{S_{n}}{S_{n-1}} \\implies S_{n+1} \\geq \\left\\lfloor \\frac{S_{n}^2}{S_{n-1}} \\right\\rfloor$.\n",
    "\n",
    "We can prove both these patterns by showing that the limit at the very top is monotonically increasing."
   ]
  },
  {
   "cell_type": "code",
   "execution_count": 68,
   "metadata": {},
   "outputs": [
    {
     "name": "stdout",
     "output_type": "stream",
     "text": [
      "2 15 21\n",
      "2 85 120\n",
      "2 493 697\n",
      "2 2871 4060\n",
      "2 16731 23661\n",
      "2 97513 137904\n",
      "2 568345 803761\n",
      "2 3312555 4684660\n",
      "2 19306983 27304197\n",
      "2 112529341 159140520\n",
      "2 655869061 927538921\n",
      "2 3822685023 5406093004\n",
      "2 22280241075 31509019101\n",
      "2 129858761425 183648021600\n",
      "2 756872327473 1070379110497\n",
      "756872327473 1070379110497\n"
     ]
    }
   ],
   "source": [
    "last_blues = 3\n",
    "last_total = 4\n",
    "p = Decimal(np.sqrt(2)/2)\n",
    "total = 5\n",
    "\n",
    "while True:\n",
    "    # break out when last_total > 10**12\n",
    "    if last_total > 10**12:\n",
    "        break\n",
    "    \n",
    "    # check ceiling\n",
    "    blues = np.ceil(p*total)\n",
    "    if Decimal(blues**2 - blues)/Decimal(total**2 - total) == 0.5:\n",
    "        print(2, blues, total)\n",
    "        tmp = Decimal(total / last_total)\n",
    "        last_blues = blues\n",
    "        last_total = total\n",
    "        total *= tmp\n",
    "        total = np.floor(total)\n",
    "\n",
    "        continue\n",
    "        \n",
    "    total += 1\n",
    "\n",
    "print(last_blues, last_total)"
   ]
  },
  {
   "cell_type": "code",
   "execution_count": null,
   "metadata": {},
   "outputs": [],
   "source": []
  }
 ],
 "metadata": {
  "kernelspec": {
   "display_name": "Python 3",
   "language": "python",
   "name": "python3"
  },
  "language_info": {
   "codemirror_mode": {
    "name": "ipython",
    "version": 3
   },
   "file_extension": ".py",
   "mimetype": "text/x-python",
   "name": "python",
   "nbconvert_exporter": "python",
   "pygments_lexer": "ipython3",
   "version": "3.12.0"
  }
 },
 "nbformat": 4,
 "nbformat_minor": 2
}
