{
 "cells": [
  {
   "cell_type": "code",
   "execution_count": 112,
   "metadata": {},
   "outputs": [],
   "source": [
    "import pandas as pd\n",
    "import numpy as np\n",
    "\n",
    "from collections import defaultdict, Counter\n",
    "from functools import reduce\n",
    "from itertools import permutations\n",
    "import math"
   ]
  },
  {
   "cell_type": "code",
   "execution_count": 2,
   "metadata": {},
   "outputs": [],
   "source": [
    "with open('../../inputs/0098_words.txt', 'r') as f:\n",
    "    words_string = f.read()"
   ]
  },
  {
   "cell_type": "code",
   "execution_count": 13,
   "metadata": {},
   "outputs": [],
   "source": [
    "words = words_string.replace('\"','').split(',')"
   ]
  },
  {
   "cell_type": "code",
   "execution_count": 145,
   "metadata": {},
   "outputs": [],
   "source": [
    "def words_to_anagrams(word_list):\n",
    "    preret = defaultdict(lambda: [])\n",
    "\n",
    "    for word in word_list:\n",
    "        preret[tuple(sorted(word))].append(word)\n",
    "    \n",
    "    ret = {}\n",
    "    for tup in preret:\n",
    "        if len(preret[tup]) > 1:\n",
    "            if preret[tup][0] != preret[tup][1][::-1]:\n",
    "                ret[tup] = preret[tup]\n",
    "\n",
    "    return ret"
   ]
  },
  {
   "cell_type": "markdown",
   "metadata": {},
   "source": [
    "First we filter all words only with anagrams in the file, ignoring palindromes, using a dictionary in Python. This comes out to 40 word pairs.\n",
    "\n",
    "The largest word with an anagram in the file is length 9. So we need to generate any perfect square up to and including 9 digits. In general I create the array `perfect_squares` dynamically where `perfect_squares[i]` gives all perfect squares with `i` digits."
   ]
  },
  {
   "cell_type": "code",
   "execution_count": 189,
   "metadata": {},
   "outputs": [
    {
     "name": "stdout",
     "output_type": "stream",
     "text": [
      "longest word with an anagram: len(\"INTRODUCE\") = 9\n"
     ]
    }
   ],
   "source": [
    "anagrams = words_to_anagrams(words)\n",
    "reduced_words = reduce(lambda a,b: a + b, anagrams.values())\n",
    "longest_length = len(max(reduced_words, key = lambda a: len(a)))\n",
    "\n",
    "perfect_squares = []\n",
    "for j in range(longest_length+1):\n",
    "    psqs = defaultdict(lambda: [])\n",
    "    for i in range(math.ceil(math.sqrt(10**(j-1))), math.ceil(math.sqrt(10**j))):\n",
    "        ns = str(i*i)\n",
    "        if len(set(ns)) == len(ns):\n",
    "            psqs[tuple(sorted(ns))].append(ns)\n",
    "\n",
    "    add_to = []\n",
    "    for psq_set in psqs.values():\n",
    "        if len(psq_set) > 1:\n",
    "            add_to.append(psq_set)\n",
    "\n",
    "    perfect_squares.append(add_to)\n",
    "\n",
    "\n",
    "print(f'longest word with an anagram: len(\"{max(reduced_words, key = lambda a: len(a))}\") =', len(max(reduced_words, key = lambda a: len(a))))"
   ]
  },
  {
   "cell_type": "code",
   "execution_count": 192,
   "metadata": {},
   "outputs": [],
   "source": [
    "def word_map(word, num_dict):\n",
    "    retstr = \"\"\n",
    "    for c in word:\n",
    "        retstr += num_dict[c]\n",
    "\n",
    "    return retstr"
   ]
  },
  {
   "cell_type": "code",
   "execution_count": 193,
   "metadata": {},
   "outputs": [
    {
     "name": "stdout",
     "output_type": "stream",
     "text": [
      "['ACT', 'CAT']\n",
      "\n",
      "['ARISE', 'RAISE']\n",
      "\n",
      "['BOARD', 'BROAD']\n",
      "found BOARD 17689 BROAD 18769\n",
      "\n",
      "['CARE', 'RACE']\n",
      "found CARE 1296 RACE 9216\n",
      "\n",
      "['CENTRE', 'RECENT']\n",
      "\n",
      "['COURSE', 'SOURCE']\n",
      "\n",
      "['CREATION', 'REACTION']\n",
      "\n",
      "['CREDIT', 'DIRECT']\n",
      "\n",
      "['DANGER', 'GARDEN']\n",
      "\n",
      "['DEAL', 'LEAD']\n",
      "found DEAL 1764 LEAD 4761\n",
      "\n",
      "['EARN', 'NEAR']\n",
      "\n",
      "['EARTH', 'HEART']\n",
      "\n",
      "['EAST', 'SEAT']\n",
      "found EAST 2916 SEAT 1296\n",
      "\n",
      "['EAT', 'TEA']\n",
      "found EAT 961 TEA 196\n",
      "\n",
      "['EXCEPT', 'EXPECT']\n",
      "\n",
      "['FILE', 'LIFE']\n",
      "found FILE 1296 LIFE 9216\n",
      "\n",
      "['FORM', 'FROM']\n",
      "\n",
      "['FORMER', 'REFORM']\n",
      "\n",
      "['HATE', 'HEAT']\n",
      "found HATE 1369 HEAT 1936\n",
      "\n",
      "['HOW', 'WHO']\n",
      "found HOW 961 WHO 196\n",
      "\n",
      "['IGNORE', 'REGION']\n",
      "\n",
      "['INTRODUCE', 'REDUCTION']\n",
      "\n",
      "['ITEM', 'TIME']\n",
      "\n",
      "['ITS', 'SIT']\n",
      "found ITS 961 SIT 196\n",
      "\n",
      "['LEAST', 'STEAL']\n",
      "\n",
      "['MALE', 'MEAL']\n",
      "found MALE 1369 MEAL 1936\n",
      "\n",
      "['MEAN', 'NAME']\n",
      "found MEAN 2401 NAME 1024\n",
      "\n",
      "['NIGHT', 'THING']\n",
      "\n",
      "['NOTE', 'TONE']\n",
      "found NOTE 1296 TONE 9216\n",
      "\n",
      "['NOW', 'OWN']\n",
      "found NOW 196 OWN 961\n",
      "\n",
      "['PHASE', 'SHAPE']\n",
      "\n",
      "['POST', 'SPOT', 'STOP']\n",
      "found POST 2916 SPOT 1296\n",
      "\n",
      "['QUIET', 'QUITE']\n",
      "\n",
      "['RATE', 'TEAR']\n",
      "found RATE 1024 TEAR 2401\n",
      "\n",
      "['SHEET', 'THESE']\n",
      "\n",
      "['SHOUT', 'SOUTH']\n",
      "\n",
      "['SHUT', 'THUS']\n",
      "found SHUT 1764 THUS 4761\n",
      "\n",
      "['SIGN', 'SING']\n",
      "\n",
      "['SURE', 'USER']\n",
      "\n",
      "['THROW', 'WORTH']\n",
      "\n",
      "18769\n"
     ]
    }
   ],
   "source": [
    "max_square = -1\n",
    "\n",
    "for anagram in (anagrams.keys()):\n",
    "    ws = anagrams[anagram]\n",
    "    l = len(anagram)\n",
    "    psqs = perfect_squares[l]\n",
    "\n",
    "    print(ws)\n",
    "    for psq in psqs:\n",
    "        found = False\n",
    "        for perm in permutations(psq[0], l):\n",
    "            nd = {anagram[i]: perm[i] for i in range(l)}\n",
    "            n1 = word_map(ws[0], nd)\n",
    "            n2 = word_map(ws[1], nd)\n",
    "            if n1 in psq and n2 in psq:\n",
    "                print('found', ws[0], n1, ws[1], n2)\n",
    "                max_square = max(int(n1), int(n2), max_square)\n",
    "                found = True\n",
    "                break\n",
    "        \n",
    "        if found:\n",
    "            break\n",
    "\n",
    "    print()\n",
    "\n",
    "print(max_square)"
   ]
  },
  {
   "cell_type": "code",
   "execution_count": null,
   "metadata": {},
   "outputs": [],
   "source": []
  }
 ],
 "metadata": {
  "kernelspec": {
   "display_name": "Python 3",
   "language": "python",
   "name": "python3"
  },
  "language_info": {
   "codemirror_mode": {
    "name": "ipython",
    "version": 3
   },
   "file_extension": ".py",
   "mimetype": "text/x-python",
   "name": "python",
   "nbconvert_exporter": "python",
   "pygments_lexer": "ipython3",
   "version": "3.12.0"
  }
 },
 "nbformat": 4,
 "nbformat_minor": 2
}
