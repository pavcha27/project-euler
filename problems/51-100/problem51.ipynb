{
 "cells": [
  {
   "cell_type": "code",
   "execution_count": 12,
   "metadata": {},
   "outputs": [],
   "source": [
    "import pandas as pd\n",
    "import numpy as np\n",
    "\n",
    "from itertools import product"
   ]
  },
  {
   "cell_type": "code",
   "execution_count": 221,
   "metadata": {},
   "outputs": [],
   "source": [
    "def sieve(n):\n",
    "    arr = [0] + [1]*n\n",
    "    arr[1] = 0\n",
    "\n",
    "    for j in range(4, n+1, 2):\n",
    "        arr[j] = 0\n",
    "\n",
    "    i = 3\n",
    "    while i*i <= n:\n",
    "        if arr[i]:\n",
    "            for j in range(i**2, n+1, i):\n",
    "                arr[j] = 0\n",
    "        \n",
    "        i += 2\n",
    "    \n",
    "    ret = []\n",
    "    for i in range(n+1):\n",
    "        if arr[i]:\n",
    "            ret.append(i)\n",
    "\n",
    "    return arr, ret"
   ]
  },
  {
   "cell_type": "code",
   "execution_count": 222,
   "metadata": {},
   "outputs": [],
   "source": [
    "def possible_numbers(n):\n",
    "    return [f\"{i:0{n}d}\" for i in range(10**n)]"
   ]
  },
  {
   "cell_type": "code",
   "execution_count": 229,
   "metadata": {},
   "outputs": [],
   "source": [
    "def permutations(s):\n",
    "    if len(s) == 1:\n",
    "        return s\n",
    "    \n",
    "    ret = set()\n",
    "    retsub = permutations(s[1:])\n",
    "    for sub in retsub:\n",
    "        ret.add(s[0] + sub)\n",
    "        \n",
    "        if s[0] == \"*\":\n",
    "            for subk in range(len(sub)):\n",
    "                ret.add(sub[:subk] + s[0] + sub[subk:])\n",
    "            \n",
    "            ret.add(sub + s[0])\n",
    "\n",
    "    return list(ret)\n"
   ]
  },
  {
   "cell_type": "code",
   "execution_count": 251,
   "metadata": {},
   "outputs": [],
   "source": [
    "def wildcards(n):\n",
    "    if n == 1:\n",
    "        return {\"*\"}\n",
    "\n",
    "    retraw = []\n",
    "    ret = set()\n",
    "    i = n-1\n",
    "    while i > 0:\n",
    "        pns = possible_numbers(i)\n",
    "        stars = \"*\"*(n-i)\n",
    "        for pn in pns:\n",
    "            retraw += permutations(stars + pn)\n",
    "\n",
    "        i -= 1\n",
    "\n",
    "    for s in retraw:\n",
    "        if s[0] != \"0\" and s[-1] in [\"1\", \"3\", \"7\", \"9\", \"*\"]:\n",
    "            ret.add(s)\n",
    "\n",
    "    return ret"
   ]
  },
  {
   "cell_type": "code",
   "execution_count": 252,
   "metadata": {},
   "outputs": [],
   "source": [
    "def digit_replace(wildcard):\n",
    "    digits = [\"0\", \"1\", \"2\", \"3\", \"4\", \"5\", \"6\", \"7\", \"8\", \"9\"]\n",
    "    ret = []\n",
    "    for d in ([\"1\", \"3\", \"7\", \"9\"] if wildcard[-1] == \"*\" else digits):\n",
    "        s = wildcard.replace(\"*\", d)\n",
    "\n",
    "        if s and s[0] != \"0\":\n",
    "            ret.append(s)\n",
    "\n",
    "    return [int(n) for n in ret]"
   ]
  },
  {
   "cell_type": "code",
   "execution_count": 262,
   "metadata": {},
   "outputs": [
    {
     "name": "stdout",
     "output_type": "stream",
     "text": [
      "*3 : 6\n",
      "56**3 : 7\n",
      "*2*3*3 : 8\n",
      "121313\n"
     ]
    }
   ],
   "source": [
    "pbs, ps = sieve(10**7)\n",
    "\n",
    "x = 2\n",
    "six = True\n",
    "seven = True\n",
    "finished = False\n",
    "while True:\n",
    "    for wc in sorted(wildcards(x)):\n",
    "        cnt = sum([pbs[i] for i in digit_replace(wc)])\n",
    "\n",
    "        if six and cnt >= 6:\n",
    "            six = False\n",
    "            print(wc, \":\", cnt)\n",
    "        \n",
    "        if seven and cnt >= 7:\n",
    "            seven = False\n",
    "            print(wc, \":\", cnt)\n",
    "        \n",
    "        if cnt >= 8:\n",
    "            finished = True\n",
    "            print(wc, \":\", cnt)\n",
    "            print(min(digit_replace(wc)))\n",
    "            break\n",
    "\n",
    "    if finished:\n",
    "        break\n",
    "\n",
    "    x += 1"
   ]
  },
  {
   "cell_type": "code",
   "execution_count": null,
   "metadata": {},
   "outputs": [],
   "source": []
  }
 ],
 "metadata": {
  "kernelspec": {
   "display_name": "Python 3",
   "language": "python",
   "name": "python3"
  },
  "language_info": {
   "codemirror_mode": {
    "name": "ipython",
    "version": 3
   },
   "file_extension": ".py",
   "mimetype": "text/x-python",
   "name": "python",
   "nbconvert_exporter": "python",
   "pygments_lexer": "ipython3",
   "version": "3.11.7"
  }
 },
 "nbformat": 4,
 "nbformat_minor": 2
}
