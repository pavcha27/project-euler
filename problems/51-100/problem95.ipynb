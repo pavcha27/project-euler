{
 "cells": [
  {
   "cell_type": "code",
   "execution_count": 162,
   "metadata": {},
   "outputs": [],
   "source": [
    "import numpy as np\n",
    "import pandas as pd\n",
    "\n",
    "from itertools import product\n",
    "from functools import reduce"
   ]
  },
  {
   "cell_type": "code",
   "execution_count": 163,
   "metadata": {},
   "outputs": [],
   "source": [
    "def sieve(n):\n",
    "    arr = [0,0,1] + [1,0]*(n//2 + 1)\n",
    "    i = 3\n",
    "    while i*i <= n:\n",
    "        if arr[i]:  \n",
    "            arr[i*i::2*i] = [0]*len(arr[i*i::2*i])\n",
    "        i += 2\n",
    "\n",
    "    ret = []\n",
    "    for (i, p) in enumerate(arr):\n",
    "        if p:\n",
    "            ret.append(i)\n",
    "\n",
    "    return arr, ret\n",
    "\n",
    "pbs, ps = sieve(10**7)"
   ]
  },
  {
   "cell_type": "code",
   "execution_count": 164,
   "metadata": {},
   "outputs": [],
   "source": [
    "f_cache = {p: [1] for p in ps}\n",
    "def factors(n):\n",
    "    if n not in f_cache:   \n",
    "        facts = {1}\n",
    "        i = 2\n",
    "        while i*i <= n:\n",
    "            if n%i == 0:\n",
    "                facts.add(i)\n",
    "                facts.add(n//i)\n",
    "\n",
    "            i += 1\n",
    "\n",
    "        f_cache[n] = sorted(facts)\n",
    "\n",
    "    return f_cache[n]"
   ]
  },
  {
   "cell_type": "code",
   "execution_count": 165,
   "metadata": {},
   "outputs": [],
   "source": [
    "chain_cache = {}\n",
    "def amicable_chain(n, seen_so_far = [], suppress = True):\n",
    "    if not suppress:\n",
    "        print(seen_so_far)\n",
    "    \n",
    "    if n not in chain_cache:\n",
    "        # went back to beginning of chain\n",
    "        if seen_so_far and n == seen_so_far[0]:\n",
    "            chain_cache[n] = (len(seen_so_far), seen_so_far)\n",
    "\n",
    "        # does not go back to beginning of chain\n",
    "        elif n in seen_so_far:\n",
    "            ind = seen_so_far.index(n)\n",
    "            chain_cache[n] = (len(seen_so_far[ind:]), seen_so_far[ind:])\n",
    "\n",
    "        # chain hits a number > 10**6\n",
    "        elif n > 10**6:\n",
    "            return (0, [])\n",
    "\n",
    "        else:\n",
    "            chain_cache[n] = amicable_chain(sum(factors(n)), seen_so_far + [n], suppress)\n",
    "    \n",
    "    return chain_cache[n]"
   ]
  },
  {
   "cell_type": "code",
   "execution_count": 171,
   "metadata": {},
   "outputs": [
    {
     "name": "stdout",
     "output_type": "stream",
     "text": [
      "1 [1]\n",
      "2 [220, 284]\n",
      "28 [14316, 19116, 31704, 47616, 83328, 177792, 295488, 629072, 589786, 294896, 358336, 418904, 366556, 274924, 275444, 243760, 376736, 381028, 285778, 152990, 122410, 97946, 48976, 45946, 22976, 22744, 19916, 17716]\n",
      "[14316, 19116, 31704, 47616, 83328, 177792, 295488, 629072, 589786, 294896, 358336, 418904, 366556, 274924, 275444, 243760, 376736, 381028, 285778, 152990, 122410, 97946, 48976, 45946, 22976, 22744, 19916, 17716] 28 100000\n",
      "[14316, 19116, 31704, 47616, 83328, 177792, 295488, 629072, 589786, 294896, 358336, 418904, 366556, 274924, 275444, 243760, 376736, 381028, 285778, 152990, 122410, 97946, 48976, 45946, 22976, 22744, 19916, 17716] 28 200000\n",
      "[14316, 19116, 31704, 47616, 83328, 177792, 295488, 629072, 589786, 294896, 358336, 418904, 366556, 274924, 275444, 243760, 376736, 381028, 285778, 152990, 122410, 97946, 48976, 45946, 22976, 22744, 19916, 17716] 28 300000\n",
      "[14316, 19116, 31704, 47616, 83328, 177792, 295488, 629072, 589786, 294896, 358336, 418904, 366556, 274924, 275444, 243760, 376736, 381028, 285778, 152990, 122410, 97946, 48976, 45946, 22976, 22744, 19916, 17716] 28 400000\n",
      "[14316, 19116, 31704, 47616, 83328, 177792, 295488, 629072, 589786, 294896, 358336, 418904, 366556, 274924, 275444, 243760, 376736, 381028, 285778, 152990, 122410, 97946, 48976, 45946, 22976, 22744, 19916, 17716] 28 500000\n",
      "[14316, 19116, 31704, 47616, 83328, 177792, 295488, 629072, 589786, 294896, 358336, 418904, 366556, 274924, 275444, 243760, 376736, 381028, 285778, 152990, 122410, 97946, 48976, 45946, 22976, 22744, 19916, 17716] 28 600000\n",
      "[14316, 19116, 31704, 47616, 83328, 177792, 295488, 629072, 589786, 294896, 358336, 418904, 366556, 274924, 275444, 243760, 376736, 381028, 285778, 152990, 122410, 97946, 48976, 45946, 22976, 22744, 19916, 17716] 28 700000\n",
      "[14316, 19116, 31704, 47616, 83328, 177792, 295488, 629072, 589786, 294896, 358336, 418904, 366556, 274924, 275444, 243760, 376736, 381028, 285778, 152990, 122410, 97946, 48976, 45946, 22976, 22744, 19916, 17716] 28 800000\n",
      "[14316, 19116, 31704, 47616, 83328, 177792, 295488, 629072, 589786, 294896, 358336, 418904, 366556, 274924, 275444, 243760, 376736, 381028, 285778, 152990, 122410, 97946, 48976, 45946, 22976, 22744, 19916, 17716] 28 900000\n",
      "[14316, 19116, 31704, 47616, 83328, 177792, 295488, 629072, 589786, 294896, 358336, 418904, 366556, 274924, 275444, 243760, 376736, 381028, 285778, 152990, 122410, 97946, 48976, 45946, 22976, 22744, 19916, 17716] 28 1000000\n"
     ]
    }
   ],
   "source": [
    "max_chain = []\n",
    "max_chain_length = -1\n",
    "for i in range(1,10**6+1):\n",
    "    if i % 100000 == 0:\n",
    "        print(max_chain, max_chain_length, i)\n",
    "\n",
    "    l, c = amicable_chain(i)\n",
    "\n",
    "    if l > max_chain_length:\n",
    "        print(l, c)\n",
    "        max_chain_length, max_chain = l, c.copy()\n"
   ]
  },
  {
   "cell_type": "code",
   "execution_count": null,
   "metadata": {},
   "outputs": [],
   "source": []
  }
 ],
 "metadata": {
  "kernelspec": {
   "display_name": "Python 3",
   "language": "python",
   "name": "python3"
  },
  "language_info": {
   "codemirror_mode": {
    "name": "ipython",
    "version": 3
   },
   "file_extension": ".py",
   "mimetype": "text/x-python",
   "name": "python",
   "nbconvert_exporter": "python",
   "pygments_lexer": "ipython3",
   "version": "3.12.0"
  }
 },
 "nbformat": 4,
 "nbformat_minor": 2
}
