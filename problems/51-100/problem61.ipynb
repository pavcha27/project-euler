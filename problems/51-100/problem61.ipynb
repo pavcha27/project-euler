{
 "cells": [
  {
   "cell_type": "code",
   "execution_count": 56,
   "metadata": {},
   "outputs": [],
   "source": [
    "import pandas as pd \n",
    "import numpy as np\n",
    "\n",
    "from itertools import product, chain"
   ]
  },
  {
   "cell_type": "code",
   "execution_count": 175,
   "metadata": {},
   "outputs": [],
   "source": [
    "def cyclic(prev,next):\n",
    "    return prev % 100 == next // 100"
   ]
  },
  {
   "cell_type": "code",
   "execution_count": 176,
   "metadata": {},
   "outputs": [],
   "source": [
    "tris, squs, pens, hexs, heps, octs = [], [], [], [], [], []\n",
    "for i in range(1, 150):\n",
    "    tri = (i*i + i) // 2\n",
    "    squ = i*i\n",
    "    pen = (3*i*i - i) // 2\n",
    "    hex = 2*i*i - i\n",
    "    hep = (5*i*i - 3*i) // 2\n",
    "    oct = 3*i*i - 2*i\n",
    "    if 1000 <= tri < 10000:\n",
    "        tris.append((tri, 'tri'))\n",
    "    if 1000 <= squ < 10000:\n",
    "        squs.append((squ, 'squ'))\n",
    "    if 1000 <= pen < 10000:\n",
    "        pens.append((pen, 'pen'))\n",
    "    if 1000 <= hex < 10000:\n",
    "        hexs.append((hex, 'hex'))\n",
    "    if 1000 <= hep < 10000:\n",
    "        heps.append((hep, 'hep'))\n",
    "    if 1000 <= oct < 10000:\n",
    "        octs.append((oct, 'oct'))\n",
    "\n",
    "all = set(tris + squs + pens + hexs + heps + octs)\n",
    "graph = {(n,c): [] for (n,c) in all}\n",
    "\n",
    "for (n1, c1), (n2, c2) in product(all, all):\n",
    "    if n1 != n2 and c1 != c2 and cyclic(n1, n2):\n",
    "        graph[(n1, c1)] = graph.get((n1,c1), []) + [(n2, c2)]"
   ]
  },
  {
   "cell_type": "code",
   "execution_count": 189,
   "metadata": {},
   "outputs": [
    {
     "name": "stdout",
     "output_type": "stream",
     "text": [
      "(8256, 'tri') (5625, 'squ') (2512, 'hep') (1281, 'oct') (8128, 'hex') (2882, 'pen')\n",
      "28684\n",
      "\n"
     ]
    }
   ],
   "source": [
    "for a in tris:\n",
    "    br = False\n",
    "    for b in graph[a]:\n",
    "        shapes_seen = {a[1]}\n",
    "        if b[1] in shapes_seen:\n",
    "            continue\n",
    "        for c in graph[b]:\n",
    "            shapes_seen = {a[1], b[1]}\n",
    "            if c[1] in shapes_seen:\n",
    "                continue\n",
    "\n",
    "            for d in graph[c]:\n",
    "                shapes_seen = {a[1], b[1], c[1]}\n",
    "                if d[1] in shapes_seen:\n",
    "                    continue\n",
    "\n",
    "                for e in graph[d]:\n",
    "                    shapes_seen = {a[1], b[1], c[1], d[1]}\n",
    "                    if e[1] in shapes_seen:\n",
    "                        continue\n",
    "\n",
    "                    for f in graph[e]:\n",
    "                        shapes_seen = {a[1], b[1], c[1], d[1], e[1], f[1]}\n",
    "\n",
    "                        if len(shapes_seen) == 6 and cyclic(f[0], a[0]):\n",
    "                            print(a,b,c,d,e,f)\n",
    "                            print(sum([a[0], b[0], c[0], d[0], e[0], f[0]]))\n",
    "                            print()\n",
    "                            # br = True\n",
    "                            # break\n",
    "                    if br:\n",
    "                        break\n",
    "                if br:\n",
    "                    break\n",
    "            if br:\n",
    "                break\n",
    "        if br:\n",
    "            break\n",
    "    if br:\n",
    "        break\n",
    "\n",
    "                    "
   ]
  }
 ],
 "metadata": {
  "kernelspec": {
   "display_name": "Python 3",
   "language": "python",
   "name": "python3"
  },
  "language_info": {
   "codemirror_mode": {
    "name": "ipython",
    "version": 3
   },
   "file_extension": ".py",
   "mimetype": "text/x-python",
   "name": "python",
   "nbconvert_exporter": "python",
   "pygments_lexer": "ipython3",
   "version": "3.12.0"
  }
 },
 "nbformat": 4,
 "nbformat_minor": 2
}
