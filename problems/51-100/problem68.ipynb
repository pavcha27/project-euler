{
 "cells": [
  {
   "cell_type": "code",
   "execution_count": 44,
   "metadata": {},
   "outputs": [],
   "source": [
    "import pandas as pd\n",
    "import numpy as np\n",
    "\n",
    "from functools import reduce"
   ]
  },
  {
   "cell_type": "code",
   "execution_count": 45,
   "metadata": {},
   "outputs": [],
   "source": [
    "ring = np.zeros(shape = (5,3))"
   ]
  },
  {
   "cell_type": "markdown",
   "metadata": {},
   "source": [
    "If we check all solutions, there are only $\\frac{10!}{5!} = {10 \\choose 5} 5! = 30,\\!240$ 5-gon rings to construct (count as permutations of placing 10 objects, but the 5 on the outside (or inside) can be repeated, or can be thought of as choosing 5 for the outside, and then permuting 5 on the inside). We can optimize further by noticing for a $16$-digit string, $10$ must be on the outside. \n",
    "\n",
    "Even if we don't optimize and allow repeats, we are only checking $10! = 3,\\!628,\\!800$ tuples. Ideally, we want a ring where the biggest numbers are on the outside, so that even the smallest of the biggest numbers becomes the first digit.\n",
    "\n",
    "I will number the tuple as shown in the picture below.\n",
    "\n",
    "<p align=\"center\">\n",
    "<img src=\"../../pictures/5gon.png\" alt=\"5-gon Labels\" width=\"300\" class=\"center\"/>\n",
    "</p>\n",
    "\n",
    "So then the sums to check for tuple $x = \\langle x_0, x_1, x_2, \\dots, x_9 \\rangle$ are\n",
    "$$\n",
    "\\begin{align*}\n",
    "s_1 &= x_0 + x_1 + x_3 \\\\\n",
    "s_2 &= x_2 + x_3 + x_5 \\\\\n",
    "s_3 &= x_4 + x_5 + x_7 \\\\\n",
    "s_4 &= x_6 + x_7 + x_9 \\\\\n",
    "s_5 &= x_8 + x_9 + x_1 \\\\\n",
    "\\end{align*}\n",
    "$$\n",
    "\n",
    "and solutions $x^*$ will be such that the condition $s_1 = s_2 = s_3 = s_4 = s_5$."
   ]
  },
  {
   "cell_type": "code",
   "execution_count": 61,
   "metadata": {},
   "outputs": [],
   "source": [
    "def generate_all_tuples(n):\n",
    "    if n == 1:\n",
    "        return [[1]]\n",
    "\n",
    "    sub_vecs = generate_all_tuples(n-1)\n",
    "    vecs = []\n",
    "    for sub_vec in sub_vecs:\n",
    "        for i in range(n):\n",
    "            vecs.append(sub_vec[:i] + [n] + sub_vec[i:])\n",
    "\n",
    "    return vec\n"
   ]
  },
  {
   "cell_type": "code",
   "execution_count": 108,
   "metadata": {},
   "outputs": [],
   "source": [
    "def magic_5gon():\n",
    "    vecs = generate_all_tuples(10)\n",
    "    solutions = []\n",
    "    \n",
    "    for vec in vecs:\n",
    "        if 10 not in (vec[0], vec[2], vec[4], vec[6], vec[8]):\n",
    "            continue\n",
    "\n",
    "        a,b,c,d,e,f,g,h,i,k = vec\n",
    "        if a + b + d == c + d + f == e + f + h == g + h + k == i + k + b:\n",
    "            solution = sorted([(a,b,d), (c,d,f), (e,f,h), (g,h,k), (i,k,b)])\n",
    "            solution = [solution[0]] + sorted(solution[1:], reverse = True)\n",
    "            sol_string = reduce(lambda x,y: x + f'{y[0]}{y[1]}{y[2]}', solution, '')\n",
    "            solutions.append((int(sol_string), a + b + d, tuple(vec)))\n",
    "\n",
    "    return solutions"
   ]
  },
  {
   "cell_type": "code",
   "execution_count": 109,
   "metadata": {},
   "outputs": [
    {
     "data": {
      "text/plain": [
       "(6531031914842725, 14, (10, 3, 9, 1, 8, 4, 7, 2, 6, 5))"
      ]
     },
     "execution_count": 109,
     "metadata": {},
     "output_type": "execute_result"
    }
   ],
   "source": [
    "sols = sorted(magic_5gon())\n",
    "sols[-1]"
   ]
  },
  {
   "cell_type": "code",
   "execution_count": null,
   "metadata": {},
   "outputs": [],
   "source": []
  }
 ],
 "metadata": {
  "kernelspec": {
   "display_name": "Python 3",
   "language": "python",
   "name": "python3"
  },
  "language_info": {
   "codemirror_mode": {
    "name": "ipython",
    "version": 3
   },
   "file_extension": ".py",
   "mimetype": "text/x-python",
   "name": "python",
   "nbconvert_exporter": "python",
   "pygments_lexer": "ipython3",
   "version": "3.12.0"
  }
 },
 "nbformat": 4,
 "nbformat_minor": 2
}
