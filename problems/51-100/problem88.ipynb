{
 "cells": [
  {
   "cell_type": "code",
   "execution_count": 2,
   "metadata": {},
   "outputs": [],
   "source": [
    "import pandas as pd\n",
    "import numpy as np\n",
    "\n",
    "from itertools import product\n",
    "from functools import reduce"
   ]
  },
  {
   "cell_type": "markdown",
   "metadata": {},
   "source": [
    "Some interesting things I noticed:\n",
    "1. For $k \\geq 2$, you can never have more than $k-2$ ones.\n",
    "    * If you had all $k$ ones, then the product is $1$ and the sum is definitely $\\geq 2$.\n",
    "    * If you had $k-1$ ones and the remaining number is $x$, then the product is $x$ and the sum is $\\geq x+1$.\n",
    "    * This means prime numbers will never be product-sum numbers.\n",
    "\n",
    "2. If any number $N$ is a product of two numbers where $x,y \\geq 2$ and $xy = N$, then the number of ones needed is $A = xy - (x + y)$ and the set needed is size $k = 2 + A$. In general, if you take a product of $n$ numbers, $x_i \\geq 2$ for each $i \\leq n$, such that $\\prod_{i=1}^{n} x_i = N$, then the number of additional ones needed is $A = \\prod_{i=1}^{n} x_i - \\sum_{i=1}^{n} x_i$ and thus the set needed is $k = n + A$.\n",
    "    * If $x + y > xy$ then either $x = 1$ or $y = 1$.\n",
    "    * This means the smallest set needed for a particular number is where $k = n + A$ is minimized, meaning that we want to minimize the difference between the product and the sum, while simultaneously using as few divisors possible.\n",
    "\n",
    "3. For any $k$, the set $\\{k, 2, (k-2) \\text{ ones}\\}$ creates a product-sum number ($2k = k + k = k + 2 + (k - 2)$). The product is $2k$, so that tells us for any $k$, we only need to check numbers up to $2k$.\n"
   ]
  },
  {
   "cell_type": "code",
   "execution_count": 3,
   "metadata": {},
   "outputs": [],
   "source": [
    "def sieve(n):\n",
    "    arr = [0,0,1] + [1,0]*(n//2 + 1)\n",
    "    i = 3\n",
    "    while i*i <= n:\n",
    "        if arr[i]:  \n",
    "            arr[i*i::2*i] = [0]*len(arr[i*i::2*i])\n",
    "        i += 2\n",
    "\n",
    "    ret = []\n",
    "    for (i, p) in enumerate(arr):\n",
    "        if p:\n",
    "            ret.append(i)\n",
    "\n",
    "    return arr, ret\n",
    "\n",
    "pbs, ps = sieve(10**5)"
   ]
  },
  {
   "cell_type": "markdown",
   "metadata": {},
   "source": [
    "### My approach\n",
    "\n",
    "0. Initialize a dictionary `min_ks` and `factor_cache` to store results. `min_ks` can be initialized with every key $2 \\leq k \\leq 12000$ and set each value to be $25000$ which is larger than the maximum number (in general $2 \\cdot \\max(k)$).\n",
    "\n",
    "1. Factorize every number, $n$, with every combination of factors. We cache these results so larger numbers can use can reuse results from their factors. So for example, for $36$ we would have\n",
    "    $$\n",
    "    \\text{factorize}(n) = [(36), (4,9), (2,2,9), (2,18), (3,3,4), (3,12), (2,3,6), (6,6), (2,2,3,3)]\n",
    "    $$\n",
    "    which may reuse values from $2, 6,$ and $18$.\n",
    "\n",
    "2. For each tuple, $t$, we find their $k_t$ which is (as said above)\n",
    "    $$\n",
    "    k_t = \\text{len}(t) + \\text{prod}(t) - \\text{sum}(t)\n",
    "    $$\n",
    "\n",
    "3. We see if `min_ks[k_t] < n`. If it is, then we update the dictionary value with $n$. If not, then we continue.\n",
    "\n",
    "This algorithm is obviously not the fastest (~10 sec if not pre-cached). But it gets the job done."
   ]
  },
  {
   "cell_type": "code",
   "execution_count": 15,
   "metadata": {},
   "outputs": [],
   "source": [
    "min_ks = {i: 25000 for i in range(12001)}\n",
    "factor_cache = {}\n",
    "def factorize(n, prime_bins, limit):\n",
    "    if n == 1 or prime_bins[n]:\n",
    "        return [(n,)]\n",
    "\n",
    "    if n not in factor_cache:\n",
    "        factorization = {(n,)}\n",
    "        i = 2\n",
    "        while i*i <= n:\n",
    "            if n % i == 0:\n",
    "                # put in all possible factorizations\n",
    "                left_factors = factorize(i, pbs, limit)\n",
    "                right_factors = factorize(n // i, pbs, limit)\n",
    "\n",
    "                for left, right in product(left_factors, right_factors):\n",
    "                    factorization.add(tuple(sorted(list(left) + list(right))))\n",
    "\n",
    "            i += 1\n",
    "\n",
    "        for f in factorization:\n",
    "            pot_k = len(f) + reduce(lambda a,b: a*b, f, 1) - sum(f)\n",
    "            if 2 <= pot_k <= limit:\n",
    "                min_ks[pot_k] = min(min_ks[pot_k], n)\n",
    "\n",
    "        factor_cache[n] = tuple(factorization)\n",
    "    \n",
    "    return factor_cache[n]"
   ]
  },
  {
   "cell_type": "code",
   "execution_count": 12,
   "metadata": {},
   "outputs": [],
   "source": [
    "klim = 12000\n",
    "for x in range(2*klim + 1)[::-1]:\n",
    "    if pbs[x]: continue\n",
    "    factorize(x, pbs, klim)"
   ]
  },
  {
   "cell_type": "code",
   "execution_count": 13,
   "metadata": {},
   "outputs": [
    {
     "name": "stdout",
     "output_type": "stream",
     "text": [
      "7587457\n"
     ]
    }
   ],
   "source": [
    "s = set()\n",
    "for x in range(2, 12001):\n",
    "    s.add(min_ks[x])\n",
    "\n",
    "print(sum(s))"
   ]
  },
  {
   "cell_type": "code",
   "execution_count": null,
   "metadata": {},
   "outputs": [],
   "source": []
  }
 ],
 "metadata": {
  "kernelspec": {
   "display_name": "Python 3",
   "language": "python",
   "name": "python3"
  },
  "language_info": {
   "codemirror_mode": {
    "name": "ipython",
    "version": 3
   },
   "file_extension": ".py",
   "mimetype": "text/x-python",
   "name": "python",
   "nbconvert_exporter": "python",
   "pygments_lexer": "ipython3",
   "version": "3.12.0"
  }
 },
 "nbformat": 4,
 "nbformat_minor": 2
}
