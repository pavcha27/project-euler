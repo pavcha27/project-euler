{
 "cells": [
  {
   "cell_type": "code",
   "execution_count": 81,
   "metadata": {},
   "outputs": [],
   "source": [
    "import pandas as pd\n",
    "import numpy as np\n",
    "\n",
    "from collections import defaultdict\n",
    "from itertools import combinations, permutations, product\n",
    "import time"
   ]
  },
  {
   "cell_type": "markdown",
   "metadata": {},
   "source": [
    "Let's just try a brute force method since there are only ${10 \\choose 4} \\cdot 4^4 \\cdot 4^4 = 13762560$ combinations."
   ]
  },
  {
   "cell_type": "code",
   "execution_count": 82,
   "metadata": {},
   "outputs": [],
   "source": [
    "def plus(a,b):\n",
    "    return a + b\n",
    "def minus(a,b):\n",
    "    return a - b\n",
    "def times(a,b):\n",
    "    return a*b\n",
    "def divided_by(a,b):\n",
    "    return a/b"
   ]
  },
  {
   "cell_type": "code",
   "execution_count": 97,
   "metadata": {},
   "outputs": [],
   "source": [
    "possible_nums = defaultdict(lambda: set())\n",
    "operators = [plus, minus, times, divided_by]\n",
    "for tup in combinations(range(1,10), 4):\n",
    "    for o1, o2, o3 in product(operators, repeat=3):\n",
    "        for w,x,y,z in permutations(tup, 4):\n",
    "            try:\n",
    "                for to_add in [\n",
    "                        o1(o2(o3(w,x), y), z), \n",
    "                        o1(o2(w,x), o3(y,z)), \n",
    "                        o1(z, o2(o3(w,x), y)), \n",
    "                        o1(z, o2(y, o3(w,x))),\n",
    "                        o1(o2(y, o3(w,x)), z)\n",
    "                ]:\n",
    "                    if to_add == int(to_add) and to_add > 0:\n",
    "                        possible_nums[tup].add(int(to_add))\n",
    "            except ZeroDivisionError as e:\n",
    "                pass"
   ]
  },
  {
   "cell_type": "code",
   "execution_count": 101,
   "metadata": {},
   "outputs": [
    {
     "name": "stdout",
     "output_type": "stream",
     "text": [
      "(1, 2, 3, 4)\n",
      "(1, 2, 3, 8)\n",
      "(1, 2, 4, 7)\n",
      "(1, 2, 4, 9)\n",
      "(1, 2, 5, 6)\n",
      "(1, 2, 5, 8)\n",
      "(1, 2, 5, 8) : 51\n"
     ]
    }
   ],
   "source": [
    "max_len = 28\n",
    "max_quad = (1,2,3,4)\n",
    "for tup in possible_nums:\n",
    "    pns = sorted(possible_nums[tup])\n",
    "    cnt = 0\n",
    "    i = 0\n",
    "    while i < len(pns) and pns[i] == i+1:\n",
    "        i += 1\n",
    "    if i+1 > max_len:\n",
    "        print(tup)\n",
    "        max_len = i\n",
    "        max_quad = tup\n",
    "\n",
    "print(max_quad, \":\", max_len)"
   ]
  },
  {
   "cell_type": "code",
   "execution_count": null,
   "metadata": {},
   "outputs": [],
   "source": []
  }
 ],
 "metadata": {
  "kernelspec": {
   "display_name": "Python 3",
   "language": "python",
   "name": "python3"
  },
  "language_info": {
   "codemirror_mode": {
    "name": "ipython",
    "version": 3
   },
   "file_extension": ".py",
   "mimetype": "text/x-python",
   "name": "python",
   "nbconvert_exporter": "python",
   "pygments_lexer": "ipython3",
   "version": "3.12.0"
  }
 },
 "nbformat": 4,
 "nbformat_minor": 2
}
