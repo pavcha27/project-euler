{
 "cells": [
  {
   "cell_type": "code",
   "execution_count": 56,
   "metadata": {},
   "outputs": [],
   "source": [
    "import pandas as pd\n",
    "import numpy as np\n",
    "\n",
    "from functools import reduce"
   ]
  },
  {
   "cell_type": "code",
   "execution_count": 57,
   "metadata": {},
   "outputs": [],
   "source": [
    "# factorial of digits\n",
    "fact = [1]\n",
    "for i in range(1,10):\n",
    "    fact.append(fact[-1]*i)\n",
    "\n",
    "dfs_cache = np.zeros(6*fact[9] + 1, int)\n",
    "def digit_fact_sum(n):\n",
    "    if dfs_cache[n] == 0:\n",
    "        dfs_cache[n] = reduce(lambda a,b: a + fact[int(b)], str(n), 0)\n",
    "    \n",
    "    return dfs_cache[n]"
   ]
  },
  {
   "cell_type": "markdown",
   "metadata": {},
   "source": [
    "At first I solved this problem by simply looping through every number, and finding its chain length, just to see if it was practically possible (using caching on the factorials and the digit-factorial-sums, for slight optimizations). It actually solved the problem in ~40s. \n",
    "\n",
    "But we can do better by realizing once we see a number, we are already seeing it's chain in action; so if we ever encounter it again, we already know what it's chain length will be! In particular, if we have seen some number before, we can break the loop/recursion and just add that value onto the end of the loop/recursion."
   ]
  },
  {
   "cell_type": "markdown",
   "metadata": {},
   "source": [
    "Here is a recursion version of the solution, which works like most cached recursion solutions. The function $LOC(x)$, which represents the length of chain of $x \\in \\mathbb{N}$, works as follows:\n",
    "\n",
    "0. Initialize a cache $c(x) = 0$ for every $x \\in \\mathbb{N}$ that is of interest. For this problem, I used $x < 3 \\cdot 10^6$. Also, pre-cache all the digit factorials from $0!$ to $9!$, and create a function $\\text{DFS}(x)$ that does the digit-factorial-sum of a number $x \\in \\mathbb{N}$ (this is also cached for optimization). \n",
    "1. We are given a value $n$. If we have seen it already in this chain, then the chain has repeated, so return $0$.\n",
    "2. If you have seen $n$ in a previous chain, but not before in this current chain (i.e., $n$ is already in the cache $c(n)$, so $c(n) > 0$), then you can just return the cached value, $c(n)$.\n",
    "3. If you have not seen $n$ before (i.e., $c(n) = 0$), then we need to populate the chain. We add $n$ to the chain and apply the recursion to the next value, $\\text{DFS}(n)$. We add $1$ to the result of the chain on the next value, so we set the cached value to $c(n) = 1 + \\text{LengthOfChain}(DFS(n))$.\n",
    "4. Return the cached value, $c(n)$."
   ]
  },
  {
   "cell_type": "code",
   "execution_count": 68,
   "metadata": {},
   "outputs": [
    {
     "name": "stdout",
     "output_type": "stream",
     "text": [
      "402\n"
     ]
    }
   ],
   "source": [
    "chain_cache = np.zeros(3*10**6, int)\n",
    "def length_of_chain(n, seen_so_far = set()):\n",
    "    if n in seen_so_far:\n",
    "        return 0\n",
    "\n",
    "    if chain_cache[n] == 0:\n",
    "        seen = []\n",
    "        curr = n\n",
    "\n",
    "        new_set = seen_so_far.copy()\n",
    "        new_set.add(n)\n",
    "        chain_cache[n] = 1 + length_of_chain(digit_fact_sum(curr), new_set)\n",
    "\n",
    "    return chain_cache[n]\n",
    "\n",
    "max_chain = 0\n",
    "for i in range(10**6)[::-1]:\n",
    "    max_chain += 1 if length_of_chain(i) >= 60 else 0\n",
    "\n",
    "print(max_chain)"
   ]
  },
  {
   "cell_type": "markdown",
   "metadata": {},
   "source": [
    "Here is an iterative solution, which works similarly with caching. Here we increment the cache based on the list of elements we have seen so far. But more or less, the logic matches what came in the recursion solution."
   ]
  },
  {
   "cell_type": "code",
   "execution_count": 69,
   "metadata": {},
   "outputs": [
    {
     "name": "stdout",
     "output_type": "stream",
     "text": [
      "402\n"
     ]
    }
   ],
   "source": [
    "max_chain = 0\n",
    "seen_cache = np.zeros(3*10**6, int)\n",
    "for n in range(10**6)[::-1]:    \n",
    "    if seen_cache[n] >= 60:\n",
    "        max_chain += 1\n",
    "        continue\n",
    "\n",
    "    seen = []\n",
    "    curr = n\n",
    "\n",
    "    go_to_cache = False\n",
    "    while curr not in seen:\n",
    "        seen.append(curr)\n",
    "        curr = digit_fact_sum(curr)\n",
    "        if seen_cache[curr]:\n",
    "            go_to_cache = True\n",
    "            break\n",
    "    \n",
    "    if go_to_cache:\n",
    "        nums_seen = len(seen) + seen_cache[curr]\n",
    "    else:\n",
    "        nums_seen = len(seen)\n",
    "\n",
    "    ind = None\n",
    "    for i in range(len(seen)):\n",
    "        if seen[i] == curr:\n",
    "            ind = i\n",
    "\n",
    "        seen_cache[seen[i]] = nums_seen - ind if ind else nums_seen - i\n",
    "\n",
    "    max_chain += 1 if seen_cache[n] >= 60 else 0\n",
    "\n",
    "print(max_chain)"
   ]
  },
  {
   "cell_type": "code",
   "execution_count": null,
   "metadata": {},
   "outputs": [],
   "source": []
  }
 ],
 "metadata": {
  "kernelspec": {
   "display_name": "Python 3",
   "language": "python",
   "name": "python3"
  },
  "language_info": {
   "codemirror_mode": {
    "name": "ipython",
    "version": 3
   },
   "file_extension": ".py",
   "mimetype": "text/x-python",
   "name": "python",
   "nbconvert_exporter": "python",
   "pygments_lexer": "ipython3",
   "version": "3.12.0"
  }
 },
 "nbformat": 4,
 "nbformat_minor": 2
}
