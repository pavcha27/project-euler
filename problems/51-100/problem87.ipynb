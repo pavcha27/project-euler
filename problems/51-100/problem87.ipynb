{
 "cells": [
  {
   "cell_type": "code",
   "execution_count": 20,
   "metadata": {},
   "outputs": [],
   "source": [
    "import pandas as pd\n",
    "import numpy as np\n",
    "\n",
    "from itertools import product"
   ]
  },
  {
   "cell_type": "markdown",
   "metadata": {},
   "source": [
    "Using a sieve, we can quickly find all primes up to a number $N$. For the primes, the largest one we can possibly use would be the one in the ${p}^2$ term. That is, if $p^2 \\geq 50,\\!000,\\!000$ then the remaining numbers don't matter. Thus $p < \\sqrt{50,\\!000,\\!000} < 7072$. The largest prime to check will thus be $7069$ (the next prime is $7079$, which is too large)."
   ]
  },
  {
   "cell_type": "code",
   "execution_count": 14,
   "metadata": {},
   "outputs": [],
   "source": [
    "def sieve(n):\n",
    "    arr = [0,0,1] + [1,0]*(n//2 + 1)\n",
    "    i = 3\n",
    "    while i*i <= n:\n",
    "        if arr[i]:  \n",
    "            arr[i*i::2*i] = [0]*len(arr[i*i::2*i])\n",
    "        i += 2\n",
    "\n",
    "    ret = []\n",
    "    for (i, p) in enumerate(arr):\n",
    "        if p:\n",
    "            ret.append(i)\n",
    "\n",
    "    return arr, ret\n",
    "\n",
    "pbs, ps = sieve(7070)"
   ]
  },
  {
   "cell_type": "code",
   "execution_count": 31,
   "metadata": {},
   "outputs": [
    {
     "name": "stdout",
     "output_type": "stream",
     "text": [
      "1097343\n"
     ]
    }
   ],
   "source": [
    "p2s = []\n",
    "p3s = []\n",
    "p4s = []\n",
    "\n",
    "for p in ps:\n",
    "    p2s.append(p**2)\n",
    "\n",
    "    if p**3 < 50 * 10**6:\n",
    "        p3s.append(p**3)\n",
    "    \n",
    "    if p**4 < 50 * 10**6:\n",
    "        p4s.append(p**4)\n",
    "\n",
    "seen = np.zeros(50 * 10**6, int)\n",
    "cnt = 0\n",
    "for a, b, c in product(p2s, p3s, p4s):\n",
    "    if a+b+c < 50 * 10**6:\n",
    "        cnt += 1 - seen[a+b+c]\n",
    "        seen[a+b+c] = 1\n",
    "\n",
    "print(cnt)"
   ]
  },
  {
   "cell_type": "code",
   "execution_count": null,
   "metadata": {},
   "outputs": [],
   "source": []
  }
 ],
 "metadata": {
  "kernelspec": {
   "display_name": "Python 3",
   "language": "python",
   "name": "python3"
  },
  "language_info": {
   "codemirror_mode": {
    "name": "ipython",
    "version": 3
   },
   "file_extension": ".py",
   "mimetype": "text/x-python",
   "name": "python",
   "nbconvert_exporter": "python",
   "pygments_lexer": "ipython3",
   "version": "3.12.0"
  }
 },
 "nbformat": 4,
 "nbformat_minor": 2
}
