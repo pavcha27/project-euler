{
 "cells": [
  {
   "cell_type": "code",
   "execution_count": 2,
   "metadata": {},
   "outputs": [],
   "source": [
    "import pandas as pd\n",
    "import numpy as np"
   ]
  },
  {
   "cell_type": "code",
   "execution_count": 3,
   "metadata": {},
   "outputs": [],
   "source": [
    "with open('../../inputs/0079_keylog.txt', 'r') as f:\n",
    "    keylog_string = f.read()"
   ]
  },
  {
   "cell_type": "markdown",
   "metadata": {},
   "source": [
    "I thought of this problem as a directed graph/tree based problem. In particular, I saw this problem as an application of the [toposort][1] (topological sorting) algorithm. Below is a general reasoning for how to apply it to this problem.\n",
    "\n",
    "Define each vertex as a digit. For each keylog, we create 3 directed edges: from the first to second number, from the first to third number, and finally from the second to third number (i.e., a directed edge between $A$ and $B$ tells us at least one keylog had $A$ before $B$). If there are cycles, then we have more work to do, since toposort is not possible with cycles. Fortunately, in this set of keylogs, there were no cycles (i.e., if $A$ is before $B$ then we know $B$ is not before $A$, as well).\n",
    "\n",
    "The passcode generation is simply toposort from there (I personally use Kahn's algorithm, although depth-first search would work well here, too). The only caveat here is that there are nodes here with no in-edges and no out-edges, so be sure to not include those in the final passcode--in this case, $4$ and $5$ should not be in the passcode.\n",
    "\n",
    "We want to start with the number $N_0$ that has in-degree $0$ (and out-degree $> 0$), since this would suggest nothing can come before $N_0$. Append that number to the passcode. Then, for any number that has a directed edge from $N_0$ to them, we simply subtract $1$ from their in-degree. Then we repeat, looking for in-degree $0$, appending to the passcode, then subtracting $1$ from future in-degrees.\n",
    "\n",
    "In this particular problem, every number was already in order by in-degree, and so we could just read off the passcode in order, instead of implementing Kahn's algorithm:\n",
    "* 7 comes first (in-degree = 0)\n",
    "* 3 comes second (in-degree = 1)\n",
    "* 1 comes third (in-degree = 2)\n",
    "\n",
    "$\\quad\\quad\\quad \\vdots$\n",
    "\n",
    "  [1]: https://en.wikipedia.org/wiki/Topological_sorting"
   ]
  },
  {
   "cell_type": "code",
   "execution_count": 4,
   "metadata": {},
   "outputs": [
    {
     "name": "stdout",
     "output_type": "stream",
     "text": [
      "[7. 3. 1. 6. 2. 8. 9. 0.]\n"
     ]
    }
   ],
   "source": [
    "keylogs = [[int(c) for c in n] for n in keylog_string.split('\\n')]\n",
    "\n",
    "# store edge information\n",
    "edges = np.zeros((10,10), int)\n",
    "\n",
    "# if edges[b, a] = 1, this means b has an in-edge from a\n",
    "# in the passcode, this means b comes after a\n",
    "for keylog in keylogs:\n",
    "    edges[keylog[0], keylog[1]] = 1\n",
    "    edges[keylog[0], keylog[2]] = 1\n",
    "    edges[keylog[1], keylog[2]] = 1\n",
    "\n",
    "# # we can use this to see if there are any numbers that are in cycles (i.e., a before b and b before a)\n",
    "# # in this case there are not\n",
    "# for i in range(10):\n",
    "#     for j in range(10):\n",
    "#         if edges[i,j] and edges[j,i]:\n",
    "#             print(i,j)\n",
    "\n",
    "s1, s2 = np.sum(edges, axis = 0), np.sum(edges, axis = 1)\n",
    "passcode = np.zeros(10)\n",
    "for i,j in enumerate(s1):\n",
    "    # if a number has no in-edges or out-edges, then it doesn't need to be in the passcode\n",
    "    if s1[i] == s2[i] == 0:\n",
    "        passcode = passcode[:-1]\n",
    "        continue\n",
    "\n",
    "    passcode[j] = i\n",
    "\n",
    "\n",
    "print(passcode)\n"
   ]
  }
 ],
 "metadata": {
  "kernelspec": {
   "display_name": "Python 3",
   "language": "python",
   "name": "python3"
  },
  "language_info": {
   "codemirror_mode": {
    "name": "ipython",
    "version": 3
   },
   "file_extension": ".py",
   "mimetype": "text/x-python",
   "name": "python",
   "nbconvert_exporter": "python",
   "pygments_lexer": "ipython3",
   "version": "3.12.0"
  }
 },
 "nbformat": 4,
 "nbformat_minor": 2
}
