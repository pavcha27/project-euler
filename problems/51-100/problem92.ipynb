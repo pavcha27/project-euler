{
 "cells": [
  {
   "cell_type": "code",
   "execution_count": 6,
   "metadata": {},
   "outputs": [],
   "source": [
    "import pandas as pd\n",
    "import numpy as np\n",
    "\n",
    "import math\n",
    "from itertools import product, combinations_with_replacement\n",
    "from functools import reduce\n",
    "from collections import Counter"
   ]
  },
  {
   "cell_type": "markdown",
   "metadata": {},
   "source": [
    "We can do this by brute force, using a cache to speed up the number chain recursion slightly. In order to speed it up further, we recognize that once you have a number, you can include any order of them, so we can \n",
    "1. Only check where the digits are ordered least to greatest\n",
    "2. Reform orders of the digits using the multinomial coefficient ${7 \\choose {C_1, C_2, C_3, \\dots, C_9}}$, where $C_i$ tells us how many of digit $i$ are in the number, which gives us the number of ways to shuffle up the digits.\n",
    "\n",
    "This gives us the right answer almost instantly."
   ]
  },
  {
   "cell_type": "code",
   "execution_count": 7,
   "metadata": {},
   "outputs": [],
   "source": [
    "nc_cache = {1: 1, 89: 89}\n",
    "def number_chain(n):\n",
    "    if n not in nc_cache:\n",
    "        sum_of_square_digits = 0\n",
    "        while n > 0:\n",
    "            sum_of_square_digits += (n % 10)*(n % 10)\n",
    "            n //= 10\n",
    "\n",
    "        nc_cache[n] = number_chain(sum_of_square_digits)\n",
    "\n",
    "    return nc_cache[n]"
   ]
  },
  {
   "cell_type": "code",
   "execution_count": 8,
   "metadata": {},
   "outputs": [],
   "source": [
    "fact = [1]\n",
    "for i in range(1,10):\n",
    "    fact.append(fact[-1]*i)"
   ]
  },
  {
   "cell_type": "code",
   "execution_count": 10,
   "metadata": {},
   "outputs": [
    {
     "data": {
      "text/plain": [
       "10717818"
      ]
     },
     "execution_count": 10,
     "metadata": {},
     "output_type": "execute_result"
    }
   ],
   "source": [
    "# very fast, and easy to change max_num\n",
    "max_num = 10**8\n",
    "\n",
    "cnts = {1:0, 89:0}\n",
    "for digs in sorted(combinations_with_replacement(range(10), r = math.ceil(math.log10(max_num)))):\n",
    "    cntr = Counter(digs)\n",
    "    s = reduce(lambda a,b: a + (b[1] * 10**b[0]), enumerate(digs), 0)\n",
    "    if s == 0: continue\n",
    "    if s >= max_num: break\n",
    "\n",
    "    cnts[number_chain(s)] += fact[7] // reduce(lambda a,b: a*fact[b], cntr.values(), 1)\n",
    "\n",
    "cnts[89]"
   ]
  },
  {
   "cell_type": "code",
   "execution_count": 38,
   "metadata": {},
   "outputs": [
    {
     "data": {
      "text/plain": [
       "8581146"
      ]
     },
     "execution_count": 38,
     "metadata": {},
     "output_type": "execute_result"
    }
   ],
   "source": [
    "# fast, but manual to replicate if we want to do <= 10**8 for example\n",
    "cnts = {1:0, 89:0}\n",
    "for a in range(10):\n",
    "    for b in range(a, 10):\n",
    "        for c in range(b, 10):\n",
    "            for d in range(c, 10):\n",
    "                for e in range(d, 10):\n",
    "                    for f in range(e, 10):\n",
    "                        for g in range(f, 10):\n",
    "                            digs = [a,b,c,d,e,f,g]\n",
    "                            cntr = Counter(digs)\n",
    "                            \n",
    "                            s = reduce(lambda a,b: a + (b[1] * 10**b[0]), enumerate(digs), 0)\n",
    "                            if s > 0:\n",
    "                                cnts[number_chain(s)] += fact[7] // reduce(lambda a,b: a*fact[b], cntr.values(), 1)\n",
    "cnts[89]"
   ]
  },
  {
   "cell_type": "code",
   "execution_count": 9,
   "metadata": {},
   "outputs": [
    {
     "name": "stdout",
     "output_type": "stream",
     "text": [
      "9000000\n",
      "8000000\n",
      "7000000\n",
      "6000000\n",
      "5000000\n",
      "4000000\n",
      "3000000\n",
      "2000000\n",
      "1000000\n"
     ]
    },
    {
     "data": {
      "text/plain": [
       "8581146"
      ]
     },
     "execution_count": 9,
     "metadata": {},
     "output_type": "execute_result"
    }
   ],
   "source": [
    "# brute force, easiest to understand but slowest but slowest\n",
    "cnts = {1:0, 89:0}\n",
    "for i in range(1, 10**7)[::-1]:\n",
    "    if i % 10**6 == 0:\n",
    "        print(i)\n",
    "    \n",
    "    cnts[number_chain(i)] += 1\n",
    "\n",
    "cnts[89]"
   ]
  },
  {
   "cell_type": "code",
   "execution_count": null,
   "metadata": {},
   "outputs": [],
   "source": []
  }
 ],
 "metadata": {
  "kernelspec": {
   "display_name": "Python 3",
   "language": "python",
   "name": "python3"
  },
  "language_info": {
   "codemirror_mode": {
    "name": "ipython",
    "version": 3
   },
   "file_extension": ".py",
   "mimetype": "text/x-python",
   "name": "python",
   "nbconvert_exporter": "python",
   "pygments_lexer": "ipython3",
   "version": "3.12.0"
  }
 },
 "nbformat": 4,
 "nbformat_minor": 2
}
