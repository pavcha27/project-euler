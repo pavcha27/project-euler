{
 "cells": [
  {
   "cell_type": "code",
   "execution_count": 1,
   "metadata": {},
   "outputs": [],
   "source": [
    "import pandas as pd\n",
    "import numpy as np\n",
    "\n",
    "import math\n",
    "import random\n",
    "from itertools import product"
   ]
  },
  {
   "cell_type": "code",
   "execution_count": 2,
   "metadata": {},
   "outputs": [],
   "source": [
    "def sieve(n):\n",
    "    arr = [0,0,1] + [1,0]*(n//2 + 1)\n",
    "    i = 3\n",
    "    while i*i <= n:\n",
    "        if arr[i]:  \n",
    "            arr[i*i::2*i] = [0]*len(arr[i*i::2*i])\n",
    "        i += 2\n",
    "\n",
    "    ret = []\n",
    "    for (i, p) in enumerate(arr):\n",
    "        if p:\n",
    "            ret.append(i)\n",
    "\n",
    "    return arr, ret"
   ]
  },
  {
   "cell_type": "code",
   "execution_count": 3,
   "metadata": {},
   "outputs": [],
   "source": [
    "def miller_rabin(n, k = 10):\n",
    "    if n <= 3:\n",
    "        return n == 2 or n == 3\n",
    "\n",
    "    if n % 2 == 0:\n",
    "        return False\n",
    "\n",
    "    r, s = 0, n - 1\n",
    "    while s % 2 == 0:\n",
    "        r += 1\n",
    "        s //= 2\n",
    "    for _ in range(k):\n",
    "        a = random.randrange(2, n - 1)\n",
    "        x = pow(a, s, n)\n",
    "        if x == 1 or x == n - 1:\n",
    "            continue\n",
    "        for _ in range(r - 1):\n",
    "            x = pow(x, 2, n)\n",
    "            if x == n - 1:\n",
    "                break\n",
    "        else:\n",
    "            return False\n",
    "    return True"
   ]
  },
  {
   "cell_type": "code",
   "execution_count": 6,
   "metadata": {},
   "outputs": [],
   "source": [
    "pbs, ps = sieve(10**4)\n",
    "relation_cache = -1*np.ones((10**4+1, 10**4+1))\n",
    "def relation(a, b):\n",
    "    if relation_cache[a,b] < 0:\n",
    "        alen, blen = math.floor(math.log10(a)) + 1, math.floor(math.log10(b)) + 1\n",
    "        a1, b1 = a*10**blen + b, b*10**alen + a\n",
    "        k = 5\n",
    "\n",
    "        if a1 < 10**4 and b1 < 10**4:\n",
    "            relation_cache[a,b] = 1 if pbs[a1] and pbs[b1] else 0\n",
    "            relation_cache[b,a] = relation_cache[a,b]\n",
    "        else:\n",
    "            relation_cache[a,b] = 1 if miller_rabin(a1, k) and miller_rabin(b1, k) else 0\n",
    "            relation_cache[b,a] = relation_cache[a,b]\n",
    "\n",
    "    return relation_cache[a,b] == 1"
   ]
  },
  {
   "cell_type": "code",
   "execution_count": 7,
   "metadata": {},
   "outputs": [
    {
     "name": "stdout",
     "output_type": "stream",
     "text": [
      "26033\n",
      "success: 13 5197 5701 6733 8389\n"
     ]
    }
   ],
   "source": [
    "for i in range(1, len(ps)):\n",
    "    br = False\n",
    "    p1 = ps[i]\n",
    "    for j in range(i+1, len(ps)):\n",
    "        p2 = ps[j]\n",
    "        if relation(p1, p2):\n",
    "            for k in range(j+1, len(ps)):\n",
    "                p3 = ps[k]\n",
    "                if relation(p1, p3) and relation(p2, p3):\n",
    "                    for l in range(k+1, len(ps)):\n",
    "                        p4 = ps[l]\n",
    "                        if relation(p1, p4) and relation(p2, p4) and relation(p3, p4):\n",
    "                            for m in range(l+1, len(ps)):\n",
    "                                p5 = ps[m]\n",
    "                                if relation(p1, p5) and relation(p2, p5) and relation(p3, p5) and relation(p4, p5):\n",
    "                                    print(p1 + p2 + p3 + p4 + p5)\n",
    "                                    br = True\n",
    "                                    break\n",
    "                                # print(\"failed:\", p1, p2, p3, p4, p5)\n",
    "\n",
    "                        if br:\n",
    "                            break\n",
    "                        # print(\"failed:\", p1, p2, p3, p4)\n",
    "                if br:\n",
    "                    break\n",
    "                # print(\"failed:\", p1, p2, p3)\n",
    "        if br:\n",
    "            break\n",
    "        # print(\"failed:\", p1, p2)\n",
    "    if br:\n",
    "        break\n",
    "\n",
    "print('success:', p1,p2,p3,p4,p5)\n"
   ]
  },
  {
   "cell_type": "code",
   "execution_count": null,
   "metadata": {},
   "outputs": [],
   "source": []
  }
 ],
 "metadata": {
  "kernelspec": {
   "display_name": "Python 3",
   "language": "python",
   "name": "python3"
  },
  "language_info": {
   "codemirror_mode": {
    "name": "ipython",
    "version": 3
   },
   "file_extension": ".py",
   "mimetype": "text/x-python",
   "name": "python",
   "nbconvert_exporter": "python",
   "pygments_lexer": "ipython3",
   "version": "3.12.0"
  }
 },
 "nbformat": 4,
 "nbformat_minor": 2
}
