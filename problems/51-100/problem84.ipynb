{
 "cells": [
  {
   "cell_type": "code",
   "execution_count": 4,
   "metadata": {},
   "outputs": [],
   "source": [
    "import pandas as pd\n",
    "import numpy as np\n",
    "\n",
    "from collections import Counter\n",
    "from itertools import product\n",
    "import random"
   ]
  },
  {
   "cell_type": "markdown",
   "metadata": {},
   "source": [
    "I tried a mathematical approach but failed. I want to try the problem using [Monte Carlo simulation][1] or [Markov chain][2], when I have the time.\n",
    "\n",
    "  [1]: https://en.wikipedia.org/wiki/Monte_Carlo_method\n",
    "  [2]: https://en.wikipedia.org/wiki/Markov_chain"
   ]
  },
  {
   "cell_type": "code",
   "execution_count": 11,
   "metadata": {},
   "outputs": [],
   "source": [
    "# special squares\n",
    "GO = 0\n",
    "JAIL = 10\n",
    "GO_TO_JAIL = 30\n",
    "COMMUNITY_CHESTS = {2, 17, 33}\n",
    "CHANCES = {7, 22, 36}\n",
    "RAILROADS = [5, 15, 25, 35]\n",
    "UTILITIES = {12, 28}\n",
    "C1 = 11\n",
    "E3 = 24\n",
    "H2 = 39\n",
    "\n",
    "# SET SIDES OF DIE\n",
    "sides_of_die = 6\n",
    "\n",
    "# die roll probabilities\n",
    "sum_of_dice = [i + j + 2 for i,j in product(range(sides_of_die), range(sides_of_die))]\n",
    "dice_probs = {i: sum([j == i for j in sum_of_dice])/(sides_of_die*sides_of_die) for i in range(2,sides_of_die*2 + 1)}\n",
    "\n",
    "# community chest probabilities\n",
    "cc_probs = np.array([1/16, 1/16, 14/16])\n",
    "\n",
    "# chance probabilities\n",
    "ch_probs = np.array([1/16, 1/16, 1/16, 1/16, 1/16, 1/16, 2/16, 1/16, 1/16, 6/16])"
   ]
  },
  {
   "cell_type": "code",
   "execution_count": 40,
   "metadata": {},
   "outputs": [
    {
     "data": {
      "text/plain": [
       "Counter({36: 1876049,\n",
       "         5: 935798,\n",
       "         24: 312952,\n",
       "         33: 312773,\n",
       "         10: 312720,\n",
       "         39: 312570,\n",
       "         0: 312536,\n",
       "         12: 312340,\n",
       "         11: 312262})"
      ]
     },
     "execution_count": 40,
     "metadata": {},
     "output_type": "execute_result"
    }
   ],
   "source": [
    "num_trials = 5*10**6\n",
    "dice_choice = np.random.choice(np.array(list(dice_probs.keys()), dtype = int), p = np.array(list(dice_probs.values())))\n",
    "\n",
    "current_square = 17\n",
    "cc_choice = np.random.choice(np.array([GO, JAIL, current_square], dtype = int), p = cc_probs)\n",
    "\n",
    "current_square = 36\n",
    "next_railroad = min(min([r if r > current_square else 40 for r in RAILROADS]), 5 if current_square >= 35 else 40)\n",
    "next_utility = min(min([u if u > current_square else 40 for u in UTILITIES]), 12 if current_square >= 28 else 40)\n",
    "ch_choice = np.random.choice(\n",
    "    np.array(\n",
    "        [GO, JAIL, C1, E3, H2, RAILROADS[0], next_railroad, next_utility, current_square - 3, current_square], \n",
    "        dtype = int\n",
    "    ), \n",
    "    size = (num_trials,),\n",
    "    p = ch_probs)\n",
    "\n",
    "Counter(ch_choice)"
   ]
  },
  {
   "cell_type": "code",
   "execution_count": 165,
   "metadata": {},
   "outputs": [],
   "source": [
    "board = np.zeros(40, int)\n",
    "\n",
    "for start_square in range(40):\n",
    "    for roll in sum_of_dice.keys():\n",
    "        next_square = (start_square + roll) % 40\n",
    "        prob = sum_of_dice[roll]\n",
    "\n",
    "        if next_square == GO_TO_JAIL:\n",
    "            board[JAIL] += 16*prob\n",
    "            continue\n",
    "\n",
    "        # cases for community chest\n",
    "        if next_square in COMMUNITY_CHESTS:\n",
    "            board[JAIL] += prob\n",
    "            board[GO] += prob\n",
    "            board[next_square] += 14*prob\n",
    "            continue\n",
    "        \n",
    "        # cases for chance\n",
    "        if next_square in CHANCES:\n",
    "            board[JAIL] += prob\n",
    "            board[GO] += prob\n",
    "            board[RAILROADS[0]] += prob\n",
    "            board[min([r if r > next_square else 40 for r in RAILROADS]) if next_square < 35 else 5] += 2*prob\n",
    "            board[min([u if u > next_square else 40 for u in UTILITIES]) if next_square < 28 else 5] += prob\n",
    "            board[C1] += prob\n",
    "            board[E3] += prob\n",
    "            board[H2] += prob\n",
    "            board[next_square - 3] += prob\n",
    "            board[next_square] += 6*prob\n",
    "            continue\n",
    "\n",
    "        # not jail, not community chest, not chance\n",
    "        board[next_square] += 16*prob"
   ]
  },
  {
   "cell_type": "code",
   "execution_count": 166,
   "metadata": {},
   "outputs": [
    {
     "data": {
      "text/plain": [
       "array([0.034375 , 0.025    , 0.021875 , 0.025    , 0.0265625, 0.034375 ,\n",
       "       0.025    , 0.009375 , 0.025    , 0.025    , 0.059375 , 0.0296875,\n",
       "       0.0265625, 0.025    , 0.025    , 0.028125 , 0.025    , 0.021875 ,\n",
       "       0.025    , 0.0265625, 0.025    , 0.025    , 0.009375 , 0.025    ,\n",
       "       0.0296875, 0.028125 , 0.025    , 0.025    , 0.0265625, 0.025    ,\n",
       "       0.       , 0.025    , 0.025    , 0.0234375, 0.025    , 0.025    ,\n",
       "       0.009375 , 0.025    , 0.025    , 0.0296875])"
      ]
     },
     "execution_count": 166,
     "metadata": {},
     "output_type": "execute_result"
    }
   ],
   "source": [
    "board / (40 * 16 * sides_of_die**2)"
   ]
  },
  {
   "cell_type": "code",
   "execution_count": 163,
   "metadata": {},
   "outputs": [
    {
     "data": {
      "text/plain": [
       "1.0"
      ]
     },
     "execution_count": 163,
     "metadata": {},
     "output_type": "execute_result"
    }
   ],
   "source": [
    "np.sum(board / (40 * 16 * sides_of_die**2))"
   ]
  },
  {
   "cell_type": "code",
   "execution_count": null,
   "metadata": {},
   "outputs": [],
   "source": []
  }
 ],
 "metadata": {
  "kernelspec": {
   "display_name": "Python 3",
   "language": "python",
   "name": "python3"
  },
  "language_info": {
   "codemirror_mode": {
    "name": "ipython",
    "version": 3
   },
   "file_extension": ".py",
   "mimetype": "text/x-python",
   "name": "python",
   "nbconvert_exporter": "python",
   "pygments_lexer": "ipython3",
   "version": "3.12.0"
  }
 },
 "nbformat": 4,
 "nbformat_minor": 2
}
