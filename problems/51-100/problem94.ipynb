{
 "cells": [
  {
   "cell_type": "code",
   "execution_count": 1,
   "metadata": {},
   "outputs": [],
   "source": [
    "import pandas as pd\n",
    "import numpy as np"
   ]
  },
  {
   "cell_type": "markdown",
   "metadata": {},
   "source": [
    "An almost-equilateral triangle is an isosceles triangle with sides $a, c, c$, which is made of two right triangles with sides $\\frac{1}{2}a, b = \\sqrt{c^2 - \\frac{1}{4}a^2}, c$ ($c$ is the hypotenuse). They have the special property that $|a - c| = 1$. Further, the height of the almost-equilateral triangle is $b$ and the base is $a$, and so the area is $A = \\frac{1}{2}ab = \\frac{1}{2}a\\sqrt{c^2 - \\frac{1}{4}a^2} = \\frac{1}{8}a\\sqrt{4c^2 - a^2}$ which also needs to be an integer. So our conditions:\n",
    "1. $a, c,$ and $\\frac{1}{2}ab$ are integers $\\iff 4c^2 - a^2 = k^2$ is a perfect square and $\\frac{1}{8} ak$ is an integer\n",
    "2. $|a - c|$ = 1"
   ]
  },
  {
   "cell_type": "code",
   "execution_count": 83,
   "metadata": {},
   "outputs": [],
   "source": [
    "def is_valid(a, c):\n",
    "    root = int(np.sqrt(4*c*c - a*a))\n",
    "    return root*root == 4*c*c - a*a"
   ]
  },
  {
   "cell_type": "code",
   "execution_count": 85,
   "metadata": {},
   "outputs": [
    {
     "name": "stdout",
     "output_type": "stream",
     "text": [
      "518408346\n"
     ]
    }
   ],
   "source": [
    "c1, c2, c3, c4 = 1,5,1,17\n",
    "\n",
    "# find all triangles using the recurrence\n",
    "two_sides = [c2, c4]\n",
    "while True:\n",
    "    c1, c2, c3, c4 = c2, 14*c2 - c1 - 4, c4, 14*c4 - c3 + 4\n",
    "    if c2*3 > 10**9 or c4*3 > 10**9:\n",
    "        if c2*3 <= 10**9:\n",
    "            two_sides.append(c2)\n",
    "\n",
    "        break\n",
    "\n",
    "    two_sides += [c2,c4]\n",
    "\n",
    "# sum the perimeters of the triangles\n",
    "s = 0\n",
    "add = 1\n",
    "for c in two_sides:\n",
    "    s += 3*c + add\n",
    "    add *= -1\n",
    "\n",
    "print(s)"
   ]
  },
  {
   "cell_type": "code",
   "execution_count": 101,
   "metadata": {},
   "outputs": [
    {
     "name": "stdout",
     "output_type": "stream",
     "text": [
      "6 5 15\n",
      "16 17 51\n",
      "66 65 195\n",
      "240 241 723\n",
      "902 901 2703\n",
      "3360 3361 10083\n",
      "12546 12545 37635\n",
      "46816 46817 140451\n",
      "174726 174725 524175\n"
     ]
    },
    {
     "ename": "KeyboardInterrupt",
     "evalue": "",
     "output_type": "error",
     "traceback": [
      "\u001b[0;31m---------------------------------------------------------------------------\u001b[0m",
      "\u001b[0;31mKeyboardInterrupt\u001b[0m                         Traceback (most recent call last)",
      "Cell \u001b[0;32mIn[101], line 8\u001b[0m\n\u001b[1;32m      6\u001b[0m \u001b[38;5;28;01mif\u001b[39;00m is_valid(c \u001b[38;5;241m+\u001b[39m \u001b[38;5;241m1\u001b[39m, c): \n\u001b[1;32m      7\u001b[0m     \u001b[38;5;28mprint\u001b[39m(c \u001b[38;5;241m+\u001b[39m \u001b[38;5;241m1\u001b[39m, c, i)\n\u001b[0;32m----> 8\u001b[0m \u001b[38;5;28;01mif\u001b[39;00m \u001b[43mis_valid\u001b[49m\u001b[43m(\u001b[49m\u001b[43mc\u001b[49m\u001b[43m \u001b[49m\u001b[38;5;241;43m-\u001b[39;49m\u001b[43m \u001b[49m\u001b[38;5;241;43m1\u001b[39;49m\u001b[43m,\u001b[49m\u001b[43m \u001b[49m\u001b[43mc\u001b[49m\u001b[43m)\u001b[49m:\n\u001b[1;32m      9\u001b[0m     \u001b[38;5;28mprint\u001b[39m(c \u001b[38;5;241m-\u001b[39m \u001b[38;5;241m1\u001b[39m, c, i)\n\u001b[1;32m     11\u001b[0m i \u001b[38;5;241m+\u001b[39m\u001b[38;5;241m=\u001b[39m \u001b[38;5;241m3\u001b[39m\n",
      "Cell \u001b[0;32mIn[83], line 2\u001b[0m, in \u001b[0;36mis_valid\u001b[0;34m(a, c)\u001b[0m\n\u001b[1;32m      1\u001b[0m \u001b[38;5;28;01mdef\u001b[39;00m \u001b[38;5;21mis_valid\u001b[39m(a, c):\n\u001b[0;32m----> 2\u001b[0m     root \u001b[38;5;241m=\u001b[39m \u001b[38;5;28mint\u001b[39m(\u001b[43mnp\u001b[49m\u001b[38;5;241;43m.\u001b[39;49m\u001b[43msqrt\u001b[49m\u001b[43m(\u001b[49m\u001b[38;5;241;43m4\u001b[39;49m\u001b[38;5;241;43m*\u001b[39;49m\u001b[43mc\u001b[49m\u001b[38;5;241;43m*\u001b[39;49m\u001b[43mc\u001b[49m\u001b[43m \u001b[49m\u001b[38;5;241;43m-\u001b[39;49m\u001b[43m \u001b[49m\u001b[43ma\u001b[49m\u001b[38;5;241;43m*\u001b[39;49m\u001b[43ma\u001b[49m\u001b[43m)\u001b[49m)\n\u001b[1;32m      3\u001b[0m     \u001b[38;5;28;01mreturn\u001b[39;00m root\u001b[38;5;241m*\u001b[39mroot \u001b[38;5;241m==\u001b[39m \u001b[38;5;241m4\u001b[39m\u001b[38;5;241m*\u001b[39mc\u001b[38;5;241m*\u001b[39mc \u001b[38;5;241m-\u001b[39m a\u001b[38;5;241m*\u001b[39ma\n",
      "\u001b[0;31mKeyboardInterrupt\u001b[0m: "
     ]
    }
   ],
   "source": [
    "# brute force not able to do problem in Python\n",
    "i = 15\n",
    "while i < 10**9:\n",
    "    c = i//3\n",
    "\n",
    "    if is_valid(c + 1, c): \n",
    "        print(c + 1, c, i)\n",
    "    if is_valid(c - 1, c):\n",
    "        print(c - 1, c, i)\n",
    "\n",
    "    i += 3"
   ]
  }
 ],
 "metadata": {
  "kernelspec": {
   "display_name": "Python 3",
   "language": "python",
   "name": "python3"
  },
  "language_info": {
   "codemirror_mode": {
    "name": "ipython",
    "version": 3
   },
   "file_extension": ".py",
   "mimetype": "text/x-python",
   "name": "python",
   "nbconvert_exporter": "python",
   "pygments_lexer": "ipython3",
   "version": "3.12.0"
  }
 },
 "nbformat": 4,
 "nbformat_minor": 2
}
