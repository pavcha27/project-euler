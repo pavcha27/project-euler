{
 "cells": [
  {
   "cell_type": "code",
   "execution_count": 1,
   "metadata": {},
   "outputs": [],
   "source": [
    "import pandas as pd\n",
    "import numpy as np\n",
    "\n",
    "import math"
   ]
  },
  {
   "cell_type": "markdown",
   "metadata": {},
   "source": [
    "For problem 9, we could simply just go through each possible triplet (applying some very basic triangle inequality assumptions) and get the correct triplet. Here, we may want to be smarter about choosing.\n",
    "\n",
    "From Wikipedia on [Pythagorean Triples][1], we use the [parent-child relationships][2] (Berggren 1934) and a queue to get all primitive triples up to a given permimeter. This works well for this problem, even though it may not be the absolute fastest. Nonetheless, it does reduce the search space significantly.\n",
    "\n",
    "  [1]: https://en.wikipedia.org/wiki/Pythagorean_triple\n",
    "  [2]: https://en.wikipedia.org/wiki/Pythagorean_triple#Parent/child_relationships"
   ]
  },
  {
   "cell_type": "code",
   "execution_count": 2,
   "metadata": {},
   "outputs": [
    {
     "name": "stdout",
     "output_type": "stream",
     "text": [
      "105353\n"
     ]
    }
   ],
   "source": [
    "max_perimeter = 15*10**5\n",
    "triples = set()\n",
    "triples_to_check = [(3,4,5)]\n",
    "\n",
    "while triples_to_check:\n",
    "    # pop side lengths of previously calculated primitive\n",
    "    a,b,c = triples_to_check.pop(0)\n",
    "    triples.add((a,b,c))\n",
    "\n",
    "    # transformation 1\n",
    "    new_a, new_b, new_c = a - 2*b + 2*c, 2*a - b + 2*c, 2*a - 2*b + 3*c\n",
    "    if new_a + new_b + new_c <= max_perimeter:\n",
    "        triples_to_check.append((min(new_a, new_b), max(new_a, new_b), new_c))\n",
    "    \n",
    "    # transformation 2\n",
    "    new_a, new_b, new_c = a + 2*b + 2*c, 2*a + b + 2*c, 2*a + 2*b + 3*c\n",
    "    if new_a + new_b + new_c <= max_perimeter:\n",
    "        triples_to_check.append((min(new_a, new_b), max(new_a, new_b), new_c))\n",
    "\n",
    "    # transformation 3\n",
    "    new_a, new_b, new_c = -1*a + 2*b + 2*c, -2*a + b + 2*c, -2*a + 2*b + 3*c\n",
    "    if new_a + new_b + new_c <= max_perimeter:\n",
    "        triples_to_check.append((min(new_a, new_b), max(new_a, new_b), new_c))\n",
    "\n",
    "print(len(triples))"
   ]
  },
  {
   "cell_type": "markdown",
   "metadata": {},
   "source": [
    "We can also use Euclid's formula with the extra conditions that $m$ and $n$ are coprime and $m$ and $n$ are opposite parity."
   ]
  },
  {
   "cell_type": "code",
   "execution_count": 15,
   "metadata": {},
   "outputs": [],
   "source": [
    "def gcd(a,b):\n",
    "    if a == 0:\n",
    "        return b\n",
    "    return gcd(b % a, a)\n",
    "\n",
    "max_perimeter = 15*10**5\n",
    "triples = set()\n",
    "for n in range(1,1000):\n",
    "    for m in range(n+1, 1000):\n",
    "        a,b,c = m*m - n*n, 2*m*n, m*m + n*n\n",
    "\n",
    "        if m > n and gcd(m,n) == 1 and (m + n) % 2 == 1 and a + b + c <= max_perimeter:\n",
    "            triples.add((a,b,c))"
   ]
  },
  {
   "cell_type": "markdown",
   "metadata": {},
   "source": [
    "We basically go through each triple and use a sieve (similar to prime sieve). For a right triangle with sides $a,b,c$, if $a + b + c = L$, then every triangle $2L, 3L, \\dots$ should be incremented since those can be created by non-primitive versions of the triple $(a,b,c)$. This makes the solution nearly instant."
   ]
  },
  {
   "cell_type": "code",
   "execution_count": 17,
   "metadata": {},
   "outputs": [
    {
     "data": {
      "text/plain": [
       "161667"
      ]
     },
     "execution_count": 17,
     "metadata": {},
     "output_type": "execute_result"
    }
   ],
   "source": [
    "triangle_cnts= np.zeros(max_perimeter + 1, int)\n",
    "for a,b,c in triples:\n",
    "    l = a + b + c\n",
    "    triangle_cnts[l::l] += np.ones(len(triangle_cnts[l::l]), int)\n",
    "\n",
    "sum(triangle_cnts == 1)"
   ]
  }
 ],
 "metadata": {
  "kernelspec": {
   "display_name": "Python 3",
   "language": "python",
   "name": "python3"
  },
  "language_info": {
   "codemirror_mode": {
    "name": "ipython",
    "version": 3
   },
   "file_extension": ".py",
   "mimetype": "text/x-python",
   "name": "python",
   "nbconvert_exporter": "python",
   "pygments_lexer": "ipython3",
   "version": "3.12.0"
  }
 },
 "nbformat": 4,
 "nbformat_minor": 2
}
