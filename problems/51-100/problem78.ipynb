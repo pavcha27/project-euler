{
 "cells": [
  {
   "cell_type": "code",
   "execution_count": 3,
   "metadata": {},
   "outputs": [],
   "source": [
    "import pandas as pd\n",
    "import numpy as np"
   ]
  },
  {
   "cell_type": "markdown",
   "metadata": {},
   "source": [
    "This is nearly identical to problem 76, except we don't need to adjust for $-1$. We reuse the second version (Euler's pentagonal number theorem) to get the results faster. Additionally, I use memoization and recursion here, instead of iteration, just to see if it's faster, but it's actually a bit slower."
   ]
  },
  {
   "cell_type": "code",
   "execution_count": 4,
   "metadata": {},
   "outputs": [
    {
     "name": "stdout",
     "output_type": "stream",
     "text": [
      "number: 55374 , partitions: 36325300925435785930832331577396761646715836173633893227071086460709268608053489541731404543537668438991170680745272159154493740615385823202158167635276250554555342115855424598920159035413044811245082197335097953570911884252410730174907784762924663654000000\n"
     ]
    }
   ],
   "source": [
    "def partition_pentagonal(n):\n",
    "    # intialize partitions\n",
    "    partitions = [1] + [0]*n\n",
    "\n",
    "    # initialzie pentagonal numbers and signs for the summation\n",
    "    pentagonals = [0]\n",
    "    signs = [0]\n",
    "    k, sign = 1, 1\n",
    "    while pentagonals[-1] < n:\n",
    "        pentagonals.append(k*(3*k - 1) // 2)\n",
    "        pentagonals.append(k*(3*k + 1) // 2)\n",
    "        signs += [sign, sign]\n",
    "        k += 1\n",
    "        sign *= -1\n",
    "    \n",
    "    for x in range(1, n+1):\n",
    "        # implement Euler's pentagonal number theorem\n",
    "        # p(n) = sum(k) signs(k) * partition(x - pentagonals(k))\n",
    "        # we can stop when x - pentagonals(k) < 0, since partition(n) = 0 when n < 0\n",
    "        k = 1\n",
    "        while pentagonals[k] <= x:\n",
    "            partitions[x] += partitions[x - pentagonals[k]] * signs[k]\n",
    "            k += 1\n",
    "            if k >= len(pentagonals):\n",
    "                break\n",
    "\n",
    "    return np.array(partitions)\n",
    "\n",
    "n = 6*10**4\n",
    "for i, part in enumerate(partition_pentagonal(n)):\n",
    "    if part % 10**6 == 0:\n",
    "        print(\"number:\", i, \", partitions:\", part)"
   ]
  },
  {
   "cell_type": "code",
   "execution_count": 1,
   "metadata": {},
   "outputs": [
    {
     "name": "stdout",
     "output_type": "stream",
     "text": [
      "\n",
      "55374 36325300925435785930832331577396761646715836173633893227071086460709268608053489541731404543537668438991170680745272159154493740615385823202158167635276250554555342115855424598920159035413044811245082197335097953570911884252410730174907784762924663654000000\n"
     ]
    }
   ],
   "source": [
    "# recursion\n",
    "def part_pent(n, pents = None, signs = None, memo = {0: 1}):\n",
    "    if n < 0:\n",
    "        return 0\n",
    "    \n",
    "    if n not in memo:\n",
    "        memo[n] = 0\n",
    "\n",
    "        if not pents or not signs or (pents and signs and pents[-1] < n):\n",
    "            # initialzie pentagonal numbers and signs for the summation\n",
    "            pents = [0]\n",
    "            signs = [0]\n",
    "            k, sign = 1, 1\n",
    "            while pents[-1] < n:\n",
    "                pents.append(k*(3*k - 1) // 2)\n",
    "                pents.append(k*(3*k + 1) // 2)\n",
    "                signs += [sign, sign]\n",
    "                k += 1\n",
    "                sign *= -1\n",
    "\n",
    "        for k in range(1, len(pents)):\n",
    "            if n - pents[k] < 0:\n",
    "                break\n",
    "\n",
    "            memo[n] = memo[n] + part_pent(n - pents[k], pents, signs, memo)[0] * signs[k]\n",
    "\n",
    "    return memo[n], memo\n",
    "\n",
    "# initialzie pentagonal numbers and signs for the summation\n",
    "ps = [0]\n",
    "ss = [0]\n",
    "k, s = 1, 1\n",
    "while ps[-1] < 10**6:\n",
    "    ps.append(k*(3*k - 1) // 2)\n",
    "    ps.append(k*(3*k + 1) // 2)\n",
    "    ss += [s, s]\n",
    "    k += 1\n",
    "    s *= -1\n",
    "\n",
    "k = 0\n",
    "part_memo = {0:1}\n",
    "while True:\n",
    "    part, part_memo = part_pent(k, pents = ps, signs = ss, memo = part_memo)\n",
    "    if part % 10**6 == 0:\n",
    "        print()\n",
    "        print(k, part)\n",
    "        break\n",
    "\n",
    "    k += 1"
   ]
  },
  {
   "cell_type": "code",
   "execution_count": null,
   "metadata": {},
   "outputs": [],
   "source": []
  }
 ],
 "metadata": {
  "kernelspec": {
   "display_name": "Python 3",
   "language": "python",
   "name": "python3"
  },
  "language_info": {
   "codemirror_mode": {
    "name": "ipython",
    "version": 3
   },
   "file_extension": ".py",
   "mimetype": "text/x-python",
   "name": "python",
   "nbconvert_exporter": "python",
   "pygments_lexer": "ipython3",
   "version": "3.12.0"
  }
 },
 "nbformat": 4,
 "nbformat_minor": 2
}
