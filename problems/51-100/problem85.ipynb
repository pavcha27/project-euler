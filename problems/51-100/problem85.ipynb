{
 "cells": [
  {
   "cell_type": "code",
   "execution_count": 2,
   "metadata": {},
   "outputs": [],
   "source": [
    "import pandas as pd\n",
    "import numpy as np\n",
    "\n",
    "from itertools import product"
   ]
  },
  {
   "cell_type": "markdown",
   "metadata": {},
   "source": [
    "My initial idea here was to think of a way to simulate filling in the blocks. What I decided was I was not going to actually draw the grid or anything, but instead just count out the blocks. \n",
    "\n",
    "I also thought of a recursive solution but the sub-problems may not look like the original problem, and there would be multiple ways to split up a large block into small blocks, each giving different solutions.\n",
    "\n",
    "The concept of my program is to treat each grid as a coordinate system, where each lattice point of the grid gets a coordinate. Suppose we have an $m \\times n$ grid, so the top left corner is $(0,0)$ and the bottom right is $(m,n)$. We start at $(0,0)$ and track our current position with $(x,y)$. Then for a given block width and height, $(w,h)$, we can fill in the rectangle sequentially, incrementing $y$ by $1$ (i.e., going horizontally), and if there's an overhang (i.e., $y > n$), then increment $x$ by $1$ (i.e., move $1$ unit vertically) and set $y = 0$ (i.e., start over horiztonally). Finally, if there is overhand in both directions (i.e., $x > m$), then you would break and try a new $(w,h)$. This first algorithm is quite fast and can deal with large enough numbers for this problem. \n",
    "\n",
    "However, there is one speedup that only becomes obvious if you visualize the problem and do some math: I don't need the while loop in my program! In fact, based on the grid dimensions $(m,n)$ and the block dimensions $(w,h)$, I can just calculate the number of blocks that would be able to go horizontally, $n - w + 1$, and then multiply by the number of rows it would fit vertically, $m - h + 1$."
   ]
  },
  {
   "cell_type": "code",
   "execution_count": 3,
   "metadata": {},
   "outputs": [],
   "source": [
    "def get_rect_count(m,n):\n",
    "    '''Given grid of size (m x n), count number of sub rectangles it has.'''\n",
    "    blocks_checked = set()\n",
    "    blocks = 0\n",
    "\n",
    "    for height,width in product(range(m), range(n)):\n",
    "            # i = block height, j = block width\n",
    "            if (height, width) in blocks_checked:\n",
    "                continue\n",
    "\n",
    "            blocks_checked.add((height, width))\n",
    "            blocks += (n - width)*(m - height)\n",
    "\n",
    "            # OLD VERSION OF THE SKELETON OF THE SOLUTION\n",
    "            # curr_x = x of top left corner\n",
    "            # curr_y = y of top left corner\n",
    "            #\n",
    "            # e.g., a 2x2 grid would look like this \n",
    "            #\n",
    "            #  (0,0) ---- (1,0) ---- (2,0)\n",
    "            #    |          |          |\n",
    "            #    |          |          |\n",
    "            #  (0,1) ---- (1,1) ---- (2,1)\n",
    "            #    |          |          |\n",
    "            #    |          |          |\n",
    "            #  (0,2) ---- (1,2) ---- (2,2)\n",
    "            #\n",
    "            # curr_x, curr_y = 0,0\n",
    "            # while True:\n",
    "            #     # if the block has gone all the way vertically, then break\n",
    "            #     if not (0 <= curr_x + height <= m):\n",
    "            #         break\n",
    "                \n",
    "            #     # the block has gone all the way horizontally, move down vertically and\n",
    "            #     # start over horiztonally\n",
    "            #     if not (0 <= curr_y + width <= n):\n",
    "            #         blocks_checked[(height, width)] = blocks\n",
    "            #         curr_x += 1\n",
    "            #         curr_y = 0\n",
    "            #         continue\n",
    "\n",
    "            #     # print((curr_x, curr_y))\n",
    "\n",
    "            #     blocks += 1\n",
    "            #     curr_y += 1\n",
    "\n",
    "    return blocks"
   ]
  },
  {
   "cell_type": "markdown",
   "metadata": {},
   "source": [
    "* It's relatively quick to show that both a $2000 \\times 1$ and a $1999 \\times 1$ grid are just $1000$ away from $2 \\times 10^6$. So that means the largest width we need to check is $2000$. \n",
    "* Also, because of the previous result, and because the area will always be part of the sum (since we have to count $1 \\times 1$ rectangles), if the area is $>2 \\times 10^6 + 1000$, then we don't need to check.\n",
    "* And, finally, we only need to check when $n \\geq m$, since if $m > n$, there is an identical rectangle where we just switch $n$ and $m$.\n",
    "* With that previous requirement, we can also see that when $m = 53$, then any number $n \\geq 53$ will violate the first condition. So we can stop at $m = 53$."
   ]
  },
  {
   "cell_type": "code",
   "execution_count": 29,
   "metadata": {},
   "outputs": [
    {
     "name": "stdout",
     "output_type": "stream",
     "text": [
      "1999998 52 54\n"
     ]
    }
   ],
   "source": [
    "best_m = 2000\n",
    "best_n = 1\n",
    "best_blocks = get_rect_count(best_m, best_n)\n",
    "\n",
    "for m in range(1,53):\n",
    "    if m == 53:\n",
    "        break\n",
    "\n",
    "    for n in range(m, 2001 - m):\n",
    "        if m*n > best_blocks:\n",
    "            break\n",
    "\n",
    "        blocks = get_rect_count(m, n)\n",
    "        if abs(blocks - 2 * 10**6) < abs(best_blocks - 2 * 10**6):\n",
    "            best_blocks = blocks\n",
    "            best_m = m\n",
    "            best_n = n\n",
    "        \n",
    "        if blocks > 2 * 10**6:\n",
    "            break\n",
    "\n",
    "print(best_blocks,m,n)"
   ]
  },
  {
   "cell_type": "code",
   "execution_count": null,
   "metadata": {},
   "outputs": [],
   "source": []
  }
 ],
 "metadata": {
  "kernelspec": {
   "display_name": "Python 3",
   "language": "python",
   "name": "python3"
  },
  "language_info": {
   "codemirror_mode": {
    "name": "ipython",
    "version": 3
   },
   "file_extension": ".py",
   "mimetype": "text/x-python",
   "name": "python",
   "nbconvert_exporter": "python",
   "pygments_lexer": "ipython3",
   "version": "3.12.0"
  }
 },
 "nbformat": 4,
 "nbformat_minor": 2
}
