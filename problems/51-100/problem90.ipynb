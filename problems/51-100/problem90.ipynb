{
 "cells": [
  {
   "cell_type": "code",
   "execution_count": 37,
   "metadata": {},
   "outputs": [],
   "source": [
    "import pandas as pd\n",
    "import numpy as np\n",
    "\n",
    "from itertools import product\n",
    "from collections import Counter"
   ]
  },
  {
   "cell_type": "markdown",
   "metadata": {},
   "source": [
    "This problem is surprisingly easy. For each die, there are ${10 \\choose 6} = 210$ distinct arrangements of the digits. This is very few so we can just get all possible combinations of arrangements on the two dice and check by brute force."
   ]
  },
  {
   "cell_type": "code",
   "execution_count": 47,
   "metadata": {},
   "outputs": [],
   "source": [
    "die_arrangements = set()\n",
    "# we can have the numbers in order since permutations don't matter\n",
    "for x1 in range(10):\n",
    "    for x2 in range(x1+1, 10):\n",
    "        for x3 in range(x2+1, 10):\n",
    "            for x4 in range(x3+1, 10):\n",
    "                for x5 in range(x4+1, 10):\n",
    "                    for x6 in range(x5+1, 10):\n",
    "                        die_arrangements.add((x1, x2, x3, x4, x5, x6))"
   ]
  },
  {
   "cell_type": "code",
   "execution_count": 48,
   "metadata": {},
   "outputs": [
    {
     "name": "stdout",
     "output_type": "stream",
     "text": [
      "1217\n"
     ]
    }
   ],
   "source": [
    "squares = np.zeros(100)\n",
    "for i in range(1,10):\n",
    "    squares[i*i] = 1\n",
    "\n",
    "cnt = 0\n",
    "for d1, d2 in product(die_arrangements, repeat = 2):\n",
    "    sc = squares.copy()\n",
    "\n",
    "    # check each dice pair for this arrangement\n",
    "    for i,j in product(d1, d2):\n",
    "        sc[int(f'{i}{j}')] = 0\n",
    "        sc[int(f'{j}{i}')] = 0\n",
    "\n",
    "        if i == 6:\n",
    "            sc[int(f'9{j}')] = 0\n",
    "            sc[int(f'{j}9')] = 0\n",
    "\n",
    "        if i == 9:\n",
    "            sc[int(f'6{j}')] = 0\n",
    "            sc[int(f'{j}6')] = 0\n",
    "\n",
    "        if j == 6:\n",
    "            sc[int(f'{i}9')] = 0\n",
    "            sc[int(f'9{i}')] = 0\n",
    "\n",
    "        if j == 9:\n",
    "            sc[int(f'{i}6')] = 0\n",
    "            sc[int(f'6{i}')] = 0\n",
    "    \n",
    "    cnt += 0 if np.sum(sc) else 1\n",
    "\n",
    "# divide by 2! to account for order of the two dice (i.e., when (d1, d2) == (d2, d1))\n",
    "print(cnt//2)"
   ]
  },
  {
   "cell_type": "code",
   "execution_count": null,
   "metadata": {},
   "outputs": [],
   "source": []
  }
 ],
 "metadata": {
  "kernelspec": {
   "display_name": "Python 3",
   "language": "python",
   "name": "python3"
  },
  "language_info": {
   "codemirror_mode": {
    "name": "ipython",
    "version": 3
   },
   "file_extension": ".py",
   "mimetype": "text/x-python",
   "name": "python",
   "nbconvert_exporter": "python",
   "pygments_lexer": "ipython3",
   "version": "3.12.0"
  }
 },
 "nbformat": 4,
 "nbformat_minor": 2
}
