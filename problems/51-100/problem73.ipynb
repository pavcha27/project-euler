{
 "cells": [
  {
   "cell_type": "code",
   "execution_count": 37,
   "metadata": {},
   "outputs": [],
   "source": [
    "import pandas as pd\n",
    "import numpy as np\n",
    "\n",
    "import math"
   ]
  },
  {
   "cell_type": "markdown",
   "metadata": {},
   "source": [
    "If we first ignore reducing, then we have $\\frac{1}{3} < \\frac{n}{d} < \\frac{1}{2} \\implies \\frac{d}{3} < n < \\frac{d}{2} \\implies \\lceil \\frac{d+1}{3} \\rceil \\leq n \\leq \\lfloor \\frac{d-1}{2} \\rfloor$. Also, we see that $d = 1,2,3,4$ will not produce any reduced fractions between $\\frac{1}{3}$ and $\\frac{1}{2}$. So we can start from $d = 5$.\n",
    "\n",
    "Without optimizations, since it's only $12,\\!000$ denominators to go through, it should be practical to just go through each one where $n$ is in the proper range, and just check if we have seen that fraction before."
   ]
  },
  {
   "cell_type": "code",
   "execution_count": 72,
   "metadata": {},
   "outputs": [],
   "source": [
    "def sieve(n):\n",
    "    arr = [0,0,1] + [1,0]*(n//2 + 1)\n",
    "    i = 3\n",
    "    while i*i <= n:\n",
    "        if arr[i]:  \n",
    "            arr[i*i::2*i] = [0]*len(arr[i*i::2*i])\n",
    "        i += 2\n",
    "\n",
    "    ret = []\n",
    "    for (i, p) in enumerate(arr):\n",
    "        if p:\n",
    "            ret.append(i)\n",
    "\n",
    "    return arr, ret"
   ]
  },
  {
   "cell_type": "code",
   "execution_count": 73,
   "metadata": {},
   "outputs": [],
   "source": [
    "pbs, ps = sieve(10**5)\n",
    "gcd_cache = np.zeros((10**5, 10**5), int)\n",
    "def gcd(a,b):\n",
    "    if a == 0:\n",
    "        return b\n",
    "\n",
    "    if gcd_cache[a,b] == 0:\n",
    "        gcd_cache[a,b] = math.gcd(b % a, a)\n",
    "        gcd_cache[b,a] = gcd_cache[a,b]\n",
    "    \n",
    "    return gcd_cache[a,b]"
   ]
  },
  {
   "cell_type": "code",
   "execution_count": 75,
   "metadata": {},
   "outputs": [
    {
     "name": "stdout",
     "output_type": "stream",
     "text": [
      "7295372\n"
     ]
    }
   ],
   "source": [
    "cnt = 0\n",
    "seen = set()\n",
    "for d in range(5, 12000+1):\n",
    "    for n in range(math.ceil((d+1)/3), math.floor((d-1)/2)+1):\n",
    "        if pbs[d]:\n",
    "            num, denom = n, d\n",
    "        else:\n",
    "            g = gcd(n,d)\n",
    "            num, denom =  n // g, d // g\n",
    "\n",
    "        if (num,denom) not in seen:\n",
    "            seen.add((num,denom))\n",
    "            cnt += 1\n",
    "\n",
    "print(cnt)"
   ]
  },
  {
   "cell_type": "markdown",
   "metadata": {},
   "source": [
    "We can start optimizing by finding mediants instead (i.e., using concepts from [Farey sequences][1]) and stopping once the denominator gets too big. Recursion is possible but it has risk of too much recursion depth, especially for even bigger Farey sequences.\n",
    "\n",
    "So we go with iteration. Basically we start at the fraction right after $\\frac{1}{3}$, and then loop through the Farey sequence until we reach $\\frac{1}{2}$. Note, this works well because we only need to track the denominator and when it get to $2$, we are done (since if the denominator is $2$, then the numerator must be $1$). So, the only thing to work out is what would be the denominator of the next fraction.\n",
    "\n",
    "From the section on [next terms of a Farey sequence][2], if the maximum allowable denominator is $D$, and the fraction I just passed has denominator $y$ (initialize $y=3$), and the fraction I am currently on has denominator $x$, then the next fraction in the sequence has denominator, $z$,\n",
    "\n",
    "$$\n",
    "z = x \\cdot \\left\\lfloor \\frac{D + y}{x} \\right\\rfloor - y = (D + y - [(D + y) \\!\\!\\!\\!\\mod x]) - y = D - [(D + y) \\!\\!\\!\\!\\mod x].\n",
    "$$\n",
    "\n",
    "For this problem, $D = 12000$, this suffices. However, if $D$ gets even larger, we need an even fast algorithm.\n",
    "\n",
    "  [1]: https://en.wikipedia.org/wiki/Farey_sequence\n",
    "  [2]: https://en.wikipedia.org/wiki/Farey_sequence#Next_term"
   ]
  },
  {
   "cell_type": "code",
   "execution_count": 121,
   "metadata": {},
   "outputs": [
    {
     "data": {
      "text/plain": [
       "506608484"
      ]
     },
     "execution_count": 121,
     "metadata": {},
     "output_type": "execute_result"
    }
   ],
   "source": [
    "def iterative_mediants(left_d, right_d, max_d):\n",
    "    # denominator of initial mediant\n",
    "    med_d = left_d + right_d\n",
    "\n",
    "    # start with current denominator for fraction as close to left_d as possible\n",
    "    while med_d + left_d <= max_d:\n",
    "        med_d += left_d\n",
    "    \n",
    "    # prev_d initialized to left_d\n",
    "    prev_d = left_d\n",
    "    \n",
    "    cnt = 0\n",
    "    while med_d != right_d:\n",
    "        # if prev_d, med_d are denominators next to each other in the Farey sequence,\n",
    "        # the next fraction has denominator \n",
    "        # (med_d*(max_d + prev_d) // med_d) - prev_d = max_d - ((max_d + prev_d) % med_d)\n",
    "        next_d = max_d - ((max_d + prev_d) % med_d)\n",
    "\n",
    "        # shift one to the right\n",
    "        prev_d = med_d\n",
    "        med_d = next_d\n",
    "\n",
    "        cnt += 1\n",
    "\n",
    "\n",
    "\n",
    "    return cnt\n",
    "\n",
    "iterative_mediants(3,2,100000)"
   ]
  },
  {
   "cell_type": "markdown",
   "metadata": {},
   "source": [
    "The fraction rank algorithm described in [this talk][1] is much much faster for this! It basically produces all fractions of a given denominator, and uses a sort of sieve to reduce fractions.\n",
    "\n",
    "  [1]: https://en.wikipedia.org/wiki/Farey_sequence"
   ]
  },
  {
   "cell_type": "code",
   "execution_count": 126,
   "metadata": {},
   "outputs": [
    {
     "data": {
      "text/plain": [
       "506608484"
      ]
     },
     "execution_count": 126,
     "metadata": {},
     "output_type": "execute_result"
    }
   ],
   "source": [
    "def fraction_rank(n, d, max_d):\n",
    "    ret = np.zeros((max_d + 1), int)\n",
    "    for i in range(max_d + 1):\n",
    "        ret[i] = math.floor(i*n/d)\n",
    "    \n",
    "    for i in range(1,max_d + 1):\n",
    "        ret[2*i::i] -= np.ones((len(ret[2*i::i])), int)*ret[i]\n",
    "\n",
    "    return sum(ret)\n",
    "\n",
    "fraction_rank(1, 2, 100000) - fraction_rank(1, 3, 100000) - 1"
   ]
  },
  {
   "cell_type": "code",
   "execution_count": null,
   "metadata": {},
   "outputs": [],
   "source": []
  }
 ],
 "metadata": {
  "kernelspec": {
   "display_name": "Python 3",
   "language": "python",
   "name": "python3"
  },
  "language_info": {
   "codemirror_mode": {
    "name": "ipython",
    "version": 3
   },
   "file_extension": ".py",
   "mimetype": "text/x-python",
   "name": "python",
   "nbconvert_exporter": "python",
   "pygments_lexer": "ipython3",
   "version": "3.12.0"
  }
 },
 "nbformat": 4,
 "nbformat_minor": 2
}
