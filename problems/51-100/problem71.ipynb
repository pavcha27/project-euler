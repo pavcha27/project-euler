{
 "cells": [
  {
   "cell_type": "code",
   "execution_count": 2,
   "metadata": {},
   "outputs": [],
   "source": [
    "import pandas as pd\n",
    "import numpy as np\n",
    "\n",
    "import math\n",
    "from collections import Counter\n",
    "from functools import reduce"
   ]
  },
  {
   "cell_type": "markdown",
   "metadata": {},
   "source": [
    "Obviously $\\frac{3}{7} = \\frac{3}{7}$, so $d \\geq 8$. Given some denominator $d$, we can get the best $n$ by doing $n = \\lfloor \\frac{3d - 1}{7} \\rfloor$."
   ]
  },
  {
   "cell_type": "code",
   "execution_count": 10,
   "metadata": {},
   "outputs": [
    {
     "name": "stdout",
     "output_type": "stream",
     "text": [
      "428567 999991 5.714337142914694e-07 4 1.0000010000100001\n",
      "428567 999992 1.0000080000183154e-06 7 1.00000200002\n",
      "428568 999993 4.285744285570381e-07 3 1.0000030000300002\n",
      "428568 999994 8.571480000219012e-07 6 1.0000040000400003\n",
      "428569 999995 2.8571571425439757e-07 2 1.0000050000500005\n",
      "428569 999996 7.142885714017666e-07 5 1.0000060000600006\n",
      "428570 999997 1.4285757138354782e-07 1 1.0\n",
      "428570 999998 5.71429714268934e-07 4 1.000001000003\n",
      "428570 999999 1.0000009999511228e-06 7 1.0000020000060001\n"
     ]
    }
   ],
   "source": [
    "best_num = -1\n",
    "best_denom = -1\n",
    "best_difference = 1\n",
    "for denom in range(8, 10**6):\n",
    "    num = math.floor((3*denom - 1)/7)\n",
    "    if 3*denom - 7*num < 7*denom*best_difference:\n",
    "        best_difference = (3*denom - 7*num)/(7*denom)\n",
    "        best_num = num\n",
    "        best_denom = denom\n",
    "\n",
    "    if denom > 999990:\n",
    "        print(num, denom, (3/7 - num/denom), 3*denom - 7*num, 7*denom*best_difference)"
   ]
  },
  {
   "cell_type": "code",
   "execution_count": 11,
   "metadata": {},
   "outputs": [
    {
     "data": {
      "text/plain": [
       "428570"
      ]
     },
     "execution_count": 11,
     "metadata": {},
     "output_type": "execute_result"
    }
   ],
   "source": [
    "best_num"
   ]
  },
  {
   "cell_type": "code",
   "execution_count": 12,
   "metadata": {},
   "outputs": [
    {
     "data": {
      "text/plain": [
       "999997"
      ]
     },
     "execution_count": 12,
     "metadata": {},
     "output_type": "execute_result"
    }
   ],
   "source": [
    "best_denom"
   ]
  }
 ],
 "metadata": {
  "kernelspec": {
   "display_name": "Python 3",
   "language": "python",
   "name": "python3"
  },
  "language_info": {
   "codemirror_mode": {
    "name": "ipython",
    "version": 3
   },
   "file_extension": ".py",
   "mimetype": "text/x-python",
   "name": "python",
   "nbconvert_exporter": "python",
   "pygments_lexer": "ipython3",
   "version": "3.12.0"
  }
 },
 "nbformat": 4,
 "nbformat_minor": 2
}
