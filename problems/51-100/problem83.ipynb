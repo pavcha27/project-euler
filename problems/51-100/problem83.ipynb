{
 "cells": [
  {
   "cell_type": "code",
   "execution_count": 1,
   "metadata": {},
   "outputs": [],
   "source": [
    "import pandas as pd\n",
    "import numpy as np\n",
    "\n",
    "import heapq"
   ]
  },
  {
   "cell_type": "code",
   "execution_count": 2,
   "metadata": {},
   "outputs": [],
   "source": [
    "with open('../../inputs/0083_matrix.txt', 'r') as f:\n",
    "    matrix_string = f.read()"
   ]
  },
  {
   "cell_type": "markdown",
   "metadata": {},
   "source": [
    "We will follow a similar approach as problem 81 and problem 82, except we need to make sure we don't go up and down or left and right infinitely (no cyles). We will do this by keeping track of visited numbers.\n",
    "\n",
    "It is easiest to implemented this \"visited\" idea with the BFS algorithm (third algorithm on problem 81). We make one main change: add up and left as an allowable direction to the end of the queue."
   ]
  },
  {
   "cell_type": "code",
   "execution_count": 23,
   "metadata": {},
   "outputs": [
    {
     "name": "stdout",
     "output_type": "stream",
     "text": [
      "425185\n"
     ]
    }
   ],
   "source": [
    "# read in the matrix\n",
    "matrix = np.array([[int(n) for n in row.split(',')] for row in matrix_string.split('\\n')], int)\n",
    "m = len(matrix)\n",
    "n = len(matrix[0])\n",
    "sum_list = []\n",
    "\n",
    "r, c = 0, 0\n",
    "ssf = 0\n",
    "visited = np.zeros_like(matrix, int)\n",
    "\n",
    "# use a queue with elements (row, col, sum_so_far)\n",
    "queue = [(ssf, r, c)]\n",
    "\n",
    "while queue:\n",
    "    # use minheap to search minimum path first\n",
    "    ssf, r, c = heapq.heappop(queue)\n",
    "\n",
    "    # if out of bounds then skip\n",
    "    # if you have already visited earlier, there must have been a shorter path\n",
    "    # to this number before, so skip\n",
    "    if visited[r,c]:\n",
    "        continue\n",
    "    if r == n-1 and c == n-1:\n",
    "        sum_list.append(ssf + matrix[r,c])\n",
    "        continue\n",
    "    \n",
    "    visited[r,c] = 1\n",
    "\n",
    "    # append right, left, up, and down moves\n",
    "    if c < n-1: heapq.heappush(queue, (ssf + matrix[r,c], r, c+1))\n",
    "    if c > 0: heapq.heappush(queue, (ssf + matrix[r,c], r, c-1))\n",
    "    if r < m-1: heapq.heappush(queue, (ssf + matrix[r,c], r+1, c))\n",
    "    if r > 0: heapq.heappush(queue, (ssf + matrix[r,c], r-1, c))\n",
    "\n",
    "print(np.min(sum_list))"
   ]
  },
  {
   "cell_type": "code",
   "execution_count": null,
   "metadata": {},
   "outputs": [],
   "source": []
  }
 ],
 "metadata": {
  "kernelspec": {
   "display_name": "Python 3",
   "language": "python",
   "name": "python3"
  },
  "language_info": {
   "codemirror_mode": {
    "name": "ipython",
    "version": 3
   },
   "file_extension": ".py",
   "mimetype": "text/x-python",
   "name": "python",
   "nbconvert_exporter": "python",
   "pygments_lexer": "ipython3",
   "version": "3.12.0"
  }
 },
 "nbformat": 4,
 "nbformat_minor": 2
}
