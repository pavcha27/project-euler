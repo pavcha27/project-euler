{
 "cells": [
  {
   "cell_type": "code",
   "execution_count": null,
   "metadata": {},
   "outputs": [],
   "source": [
    "import pandas as pd\n",
    "import numpy as np\n",
    "\n",
    "import heapq"
   ]
  },
  {
   "cell_type": "code",
   "execution_count": null,
   "metadata": {},
   "outputs": [],
   "source": [
    "with open('../../inputs/0082_matrix.txt', 'r') as f:\n",
    "    matrix_string = f.read()"
   ]
  },
  {
   "cell_type": "markdown",
   "metadata": {},
   "source": [
    "We will follow a similar approach as problem 81, except we need to make sure we don't go up and down infinitely (no cyles). We will do this by keeping track of visited numbers.\n",
    "\n",
    "It is easiest to implemented this \"visited\" idea with the BFS algorithm (third algorithm on problem 81). We make three main changes:\n",
    "1. Start from each of the numbers in the first column, not just top left.\n",
    "2. Add up as an allowable direction to the end of the queue.\n",
    "3. Stop once we reach the right column, not necessarily the bottom right corner."
   ]
  },
  {
   "cell_type": "code",
   "execution_count": null,
   "metadata": {},
   "outputs": [
    {
     "name": "stdout",
     "output_type": "stream",
     "text": [
      "260324\n"
     ]
    }
   ],
   "source": [
    "# read in the matrix\n",
    "matrix = np.array([[int(n) for n in row.split(',')] for row in matrix_string.split('\\n')], int)\n",
    "m = len(matrix)\n",
    "n = len(matrix[0])\n",
    "sum_list = []\n",
    "for start_row in range(m):\n",
    "    r, c = start_row, 0\n",
    "    ssf = 0\n",
    "    visited = np.zeros_like(matrix, int)\n",
    "\n",
    "    # use a queue with elements (row, col, sum_so_far)\n",
    "    queue = [(ssf, r, c)]\n",
    "\n",
    "    # transform into a minheap priority queue\n",
    "    heapq.heapify(queue)\n",
    "    while queue:\n",
    "        ssf, r, c = heapq.heappop(queue)\n",
    "        # if out of bounds then skip\n",
    "        # if you have already visited earlier, there must have been a shorter path\n",
    "        # to this number before, so skip\n",
    "        if r < 0 or r > m-1 or c > n-1 or visited[r,c]:\n",
    "            continue\n",
    "        if c == n-1:\n",
    "            sum_list.append(ssf + matrix[r,c])\n",
    "            continue\n",
    "        \n",
    "        visited[r,c] = 1\n",
    "\n",
    "        # append right, up, and down moves\n",
    "        heapq.heappush(queue, (ssf + matrix[r,c], r, c+1))\n",
    "        heapq.heappush(queue, (ssf + matrix[r,c], r+1, c))\n",
    "        heapq.heappush(queue, (ssf + matrix[r,c], r-1, c))\n",
    "\n",
    "print(np.min(sum_list))"
   ]
  }
 ],
 "metadata": {
  "kernelspec": {
   "display_name": "Python 3",
   "language": "python",
   "name": "python3"
  },
  "language_info": {
   "codemirror_mode": {
    "name": "ipython",
    "version": 3
   },
   "file_extension": ".py",
   "mimetype": "text/x-python",
   "name": "python",
   "nbconvert_exporter": "python",
   "pygments_lexer": "ipython3",
   "version": "3.12.0"
  }
 },
 "nbformat": 4,
 "nbformat_minor": 2
}
