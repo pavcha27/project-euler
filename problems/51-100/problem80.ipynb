{
 "cells": [
  {
   "cell_type": "code",
   "execution_count": 84,
   "metadata": {},
   "outputs": [],
   "source": [
    "import pandas as pd\n",
    "import numpy as np"
   ]
  },
  {
   "cell_type": "code",
   "execution_count": 85,
   "metadata": {},
   "outputs": [],
   "source": [
    "def digit_sum(num_str):\n",
    "    return sum([int(c) for c in num_str])"
   ]
  },
  {
   "cell_type": "markdown",
   "metadata": {},
   "source": [
    "We could just use the Python `decimal` module and get the digits by setting the appropriate precision in the context (see second solution). However, that's not really in the spirit of the problem. Instead, we will do Newton's method. The goal is for a given $a > 0$, we want to find $x$ such that $x^2 = a$. Let $f(x) = x^2 - a \\implies f'(x) = 2x$. Then Newton's method starts with any guess $x_0 > 0$, and uses the update function\n",
    "$$\n",
    "x_{n + 1} = x_n - \\frac{f(x_n)}{f'(x_n)} \\implies x_{n+1} = x_n - \\frac{x_n^2 - a}{2x_n} \\implies x_{n+1} = \\frac{x_n^2 + a}{2x_n} \\implies x_{n+1} = \\frac{1}{2}\\left[ x_n + \\frac{a}{x_n} \\right]\n",
    "$$\n",
    "\n",
    "To deal with floating point inaccuracies, we can just scale up $a$ by $10^{200}$, use integer division for everything, calculate the appropriate $x$, and then divide by $10^{100}$ at the end, since $x^2 = 10^{200} a \\implies \\left(\\frac{x}{10^{100}}\\right)^2 = a$. Since we are only interested in digits anyways, you could also just copy the left $100$ digits down and use that for your digit sum. Note, Newton's method converges to 100 decimal places very quickly."
   ]
  },
  {
   "cell_type": "code",
   "execution_count": 134,
   "metadata": {},
   "outputs": [
    {
     "name": "stdout",
     "output_type": "stream",
     "text": [
      "40886\n"
     ]
    }
   ],
   "source": [
    "perfect_squares = {i*i for i in range(11)}\n",
    "s = 0\n",
    "# will get right answer as long as exp >= 99\n",
    "# slows down if we make exp too big (like > 500)\n",
    "exp = 100\n",
    "non_perfect_square_roots = ['0']*101\n",
    "for i in range(100):\n",
    "    if i in perfect_squares:\n",
    "        continue\n",
    "\n",
    "    # scale up by 10^200\n",
    "    a = i * 10**(2*exp)\n",
    "\n",
    "    # initialize x > 0\n",
    "    x_prev = 0\n",
    "    x_curr = a // 2\n",
    "\n",
    "    while abs(x_curr - x_prev) > 1:\n",
    "        x_prev = x_curr\n",
    "        # apply newton update formula\n",
    "        x_curr = (x_prev + (a // x_prev)) // 2\n",
    "\n",
    "    # do digit sum of 100 leftmost characters\n",
    "    non_perfect_square_roots[i] = str(x_curr)[:100]\n",
    "    s += digit_sum(non_perfect_square_roots[i])\n",
    "\n",
    "print(s)"
   ]
  },
  {
   "cell_type": "code",
   "execution_count": 135,
   "metadata": {},
   "outputs": [
    {
     "name": "stdout",
     "output_type": "stream",
     "text": [
      "40886\n"
     ]
    }
   ],
   "source": [
    "import decimal\n",
    "# changing precision to 100, with a few extra to account for any rounding errors\n",
    "# slows down if precision is too high (> 10000)\n",
    "# but much much faster than Newton's method\n",
    "decimal.getcontext().prec = 110\n",
    "\n",
    "perfect_squares = {i*i for i in range(11)}\n",
    "s = 0\n",
    "for i in range(101):\n",
    "    if i not in perfect_squares:\n",
    "        # do digit sum of 100 left most digits\n",
    "        s += digit_sum(str(decimal.Decimal(i).sqrt()).replace('.', '')[:100])\n",
    "\n",
    "print(s)"
   ]
  },
  {
   "cell_type": "code",
   "execution_count": null,
   "metadata": {},
   "outputs": [],
   "source": []
  }
 ],
 "metadata": {
  "kernelspec": {
   "display_name": "Python 3",
   "language": "python",
   "name": "python3"
  },
  "language_info": {
   "codemirror_mode": {
    "name": "ipython",
    "version": 3
   },
   "file_extension": ".py",
   "mimetype": "text/x-python",
   "name": "python",
   "nbconvert_exporter": "python",
   "pygments_lexer": "ipython3",
   "version": "3.12.0"
  }
 },
 "nbformat": 4,
 "nbformat_minor": 2
}
