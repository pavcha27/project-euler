{
 "cells": [
  {
   "cell_type": "code",
   "execution_count": 44,
   "metadata": {},
   "outputs": [],
   "source": [
    "import numpy as np\n",
    "import pandas as pd\n",
    "\n",
    "from itertools import product"
   ]
  },
  {
   "cell_type": "code",
   "execution_count": 71,
   "metadata": {},
   "outputs": [],
   "source": [
    "def is_palindromic(n):\n",
    "    s = str(n)\n",
    "    lower = len(s) // 2\n",
    "    upper = lower // 2 - 1 if len(s) % 2 else lower // 2\n",
    "\n",
    "    for c1, c2 in zip(s[:lower:], s[:upper:-1]):\n",
    "        if c1 != c2:\n",
    "            return False\n",
    "    \n",
    "    return True"
   ]
  },
  {
   "cell_type": "code",
   "execution_count": 73,
   "metadata": {},
   "outputs": [],
   "source": [
    "nums = {}\n",
    "\n",
    "for i in range(100, 1000):\n",
    "    for j in range(i, 1000):\n",
    "        nums[(i,j)] = i*j\n",
    "\n",
    "sorted_nums = sorted(nums.items(), reverse = True, key = lambda a: a[1])"
   ]
  },
  {
   "cell_type": "code",
   "execution_count": 74,
   "metadata": {},
   "outputs": [
    {
     "name": "stdout",
     "output_type": "stream",
     "text": [
      "913\n",
      "993\n",
      "906609\n"
     ]
    }
   ],
   "source": [
    "for ((m, n), prod) in sorted_nums:\n",
    "    if is_palindromic(prod):\n",
    "        print(m)\n",
    "        print(n)\n",
    "        print(prod)\n",
    "        break"
   ]
  },
  {
   "cell_type": "code",
   "execution_count": null,
   "metadata": {},
   "outputs": [],
   "source": []
  }
 ],
 "metadata": {
  "kernelspec": {
   "display_name": "Python 3",
   "language": "python",
   "name": "python3"
  },
  "language_info": {
   "codemirror_mode": {
    "name": "ipython",
    "version": 3
   },
   "file_extension": ".py",
   "mimetype": "text/x-python",
   "name": "python",
   "nbconvert_exporter": "python",
   "pygments_lexer": "ipython3",
   "version": "3.12.0"
  },
  "orig_nbformat": 4
 },
 "nbformat": 4,
 "nbformat_minor": 2
}
