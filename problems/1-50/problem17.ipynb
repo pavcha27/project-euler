{
 "cells": [
  {
   "cell_type": "code",
   "execution_count": 9,
   "metadata": {},
   "outputs": [],
   "source": [
    "import pandas as pd\n",
    "import numpy as np\n",
    "\n",
    "from num2words import num2words\n",
    "import re"
   ]
  },
  {
   "cell_type": "code",
   "execution_count": 23,
   "metadata": {},
   "outputs": [],
   "source": [
    "def num_to_words(n):\n",
    "    match n:\n",
    "        case 0:\n",
    "            return ''\n",
    "        case 1:\n",
    "            return 'one'\n",
    "        case 2:\n",
    "            return 'two'\n",
    "        case 3:\n",
    "            return 'three'\n",
    "        case 4:\n",
    "            return 'four'\n",
    "        case 5:\n",
    "            return 'five'\n",
    "        case 6:\n",
    "            return 'six'\n",
    "        case 7:\n",
    "            return 'seven'\n",
    "        case 8:\n",
    "            return 'eight'\n",
    "        case 9:\n",
    "            return 'nine'\n",
    "        case 10:\n",
    "            return 'ten'\n",
    "        case 11:\n",
    "            return 'eleven'\n",
    "        case 12:\n",
    "            return 'twelve'\n",
    "        case 13:\n",
    "            return 'thirteen'\n",
    "        case 14:\n",
    "            return 'fourteen'\n",
    "        case 15:\n",
    "            return 'fifteen'\n",
    "        case 18:\n",
    "            return 'eighteen'\n",
    "        case num if 16 <= num <= 19:\n",
    "            return num_to_words(n - 10) + 'teen'\n",
    "        case num if 20 <= num < 30:\n",
    "            return 'twenty' + num_to_words(n - (n//10)*10)\n",
    "        case num if 30 <= num < 40:\n",
    "            return 'thirty' + num_to_words(n - (n//10)*10)\n",
    "        case num if 40 <= num < 50:\n",
    "            return 'forty' + num_to_words(n - (n//10)*10)\n",
    "        case num if 50 <= num < 60:\n",
    "            return 'fifty' + num_to_words(n - (n//10)*10)\n",
    "        case num if 60 <= num < 70:\n",
    "            return 'sixty' + num_to_words(n - (n//10)*10)\n",
    "        case num if 70 <= num < 80:\n",
    "            return 'seventy' + num_to_words(n - (n//10)*10)\n",
    "        case num if 80 <= num < 90:\n",
    "            return 'eighty' + num_to_words(n - (n//10)*10)\n",
    "        case num if 90 <= num < 100:\n",
    "            return 'ninety' + num_to_words(n - (n//10)*10)\n",
    "        case num if 100 <= num < 1000:\n",
    "            # we know n >= 100\n",
    "            hundreds_place = n // 100\n",
    "            two_places_left = n - hundreds_place*100\n",
    "            if two_places_left == 0:\n",
    "                return num_to_words(hundreds_place) + 'hundred'\n",
    "            else:\n",
    "                return num_to_words(hundreds_place) + 'hundredand' + num_to_words(two_places_left)\n",
    "        case num if 1000 <= num < 10**6:\n",
    "            thousands_digits = n // 1000\n",
    "            three_places_left = n - (n//1000)*1000\n",
    "            if three_places_left > 100 or three_places_left == 0:\n",
    "                return num_to_words(thousands_digits) + 'thousand'\n",
    "            else:\n",
    "                return num_to_words(thousands_digits) + 'thousandand' + num_to_words(three_places_left)\n",
    "        case _:\n",
    "            print('failed')\n",
    "            return 'failed'"
   ]
  },
  {
   "cell_type": "code",
   "execution_count": 24,
   "metadata": {},
   "outputs": [],
   "source": [
    "s = 0\n",
    "words = []\n",
    "for i in range(1000):\n",
    "    words.append(num_to_words(i+1))\n",
    "    s += len(words[-1])"
   ]
  },
  {
   "cell_type": "code",
   "execution_count": 25,
   "metadata": {},
   "outputs": [
    {
     "data": {
      "text/plain": [
       "21124"
      ]
     },
     "execution_count": 25,
     "metadata": {},
     "output_type": "execute_result"
    }
   ],
   "source": [
    "s"
   ]
  },
  {
   "cell_type": "code",
   "execution_count": 27,
   "metadata": {},
   "outputs": [],
   "source": [
    "s = 0\n",
    "correct_words = []\n",
    "for i in range(1000):\n",
    "    correct_words.append(re.sub(r'[-\\s,]+', '', num2words(i+1)))\n",
    "    s += len(correct_words[-1])"
   ]
  },
  {
   "cell_type": "code",
   "execution_count": 28,
   "metadata": {},
   "outputs": [
    {
     "data": {
      "text/plain": [
       "21124"
      ]
     },
     "execution_count": 28,
     "metadata": {},
     "output_type": "execute_result"
    }
   ],
   "source": [
    "s"
   ]
  },
  {
   "cell_type": "code",
   "execution_count": null,
   "metadata": {},
   "outputs": [],
   "source": []
  }
 ],
 "metadata": {
  "kernelspec": {
   "display_name": "Python 3",
   "language": "python",
   "name": "python3"
  },
  "language_info": {
   "codemirror_mode": {
    "name": "ipython",
    "version": 3
   },
   "file_extension": ".py",
   "mimetype": "text/x-python",
   "name": "python",
   "nbconvert_exporter": "python",
   "pygments_lexer": "ipython3",
   "version": "3.12.0"
  },
  "orig_nbformat": 4
 },
 "nbformat": 4,
 "nbformat_minor": 2
}
