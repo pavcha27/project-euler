{
 "cells": [
  {
   "cell_type": "code",
   "execution_count": 1,
   "metadata": {},
   "outputs": [],
   "source": [
    "import pandas as pd\n",
    "import numpy as np"
   ]
  },
  {
   "cell_type": "code",
   "execution_count": 66,
   "metadata": {},
   "outputs": [],
   "source": [
    "def is_prime(n, primes_so_far = set()):\n",
    "    if n < 0:\n",
    "        return False\n",
    "    i = 2\n",
    "    if not primes_so_far:\n",
    "        while i*i <= n:\n",
    "            if not n % i:\n",
    "                return False\n",
    "            i+= 1\n",
    "        \n",
    "        return True\n",
    "\n",
    "    for i in primes_so_far:\n",
    "        if i*i > n:\n",
    "            break\n",
    "        if not n % i:\n",
    "            return False\n",
    "    \n",
    "    return True"
   ]
  },
  {
   "cell_type": "code",
   "execution_count": 67,
   "metadata": {},
   "outputs": [],
   "source": [
    "def func(n, a, b):\n",
    "    return n**2 + a*n + b"
   ]
  },
  {
   "cell_type": "code",
   "execution_count": 68,
   "metadata": {},
   "outputs": [],
   "source": [
    "primes_under_1000 = set()\n",
    "for i in range(3,1001, 2):\n",
    "    if is_prime(i, primes_under_1000):    \n",
    "        primes_under_1000.add(i)\n",
    "\n",
    "primes = primes_under_1000.copy()\n",
    "for i in range(1001, 20000, 2):\n",
    "    if is_prime(i, primes):    \n",
    "        primes.add(i)"
   ]
  },
  {
   "cell_type": "code",
   "execution_count": 69,
   "metadata": {},
   "outputs": [],
   "source": [
    "max_a = 1\n",
    "max_b = 41\n",
    "max_num_primes = 39\n",
    "for a in range(1,1000):\n",
    "    for b in primes_under_1000:\n",
    "        # check with negative a\n",
    "        check_vals = func(max_num_primes, -a, b)\n",
    "        if check_vals > 0 and is_prime(check_vals) and is_prime(1 - a + b):\n",
    "            i = 0\n",
    "            while is_prime(func(i, -a, b)):\n",
    "                i += 1\n",
    "            \n",
    "            if max_num_primes < i:\n",
    "                # print(-a, b, \": \", i)\n",
    "                max_num_primes = i\n",
    "                max_a = -a\n",
    "                max_b = b\n",
    "        \n",
    "        # check with positive a\n",
    "        check_vals = func(max_num_primes, a, b)\n",
    "        if is_prime(check_vals):\n",
    "            i = 0\n",
    "            while is_prime(func(i, a, b)):\n",
    "                i += 1\n",
    "            if max_num_primes < i:\n",
    "                # print(a, b, \": \", i)\n",
    "                max_num_primes = i\n",
    "                max_a = a\n",
    "                max_b = b\n"
   ]
  },
  {
   "cell_type": "code",
   "execution_count": 70,
   "metadata": {},
   "outputs": [
    {
     "data": {
      "text/plain": [
       "-59231"
      ]
     },
     "execution_count": 70,
     "metadata": {},
     "output_type": "execute_result"
    }
   ],
   "source": [
    "max_b*max_a"
   ]
  }
 ],
 "metadata": {
  "kernelspec": {
   "display_name": "Python 3",
   "language": "python",
   "name": "python3"
  },
  "language_info": {
   "codemirror_mode": {
    "name": "ipython",
    "version": 3
   },
   "file_extension": ".py",
   "mimetype": "text/x-python",
   "name": "python",
   "nbconvert_exporter": "python",
   "pygments_lexer": "ipython3",
   "version": "3.12.0"
  }
 },
 "nbformat": 4,
 "nbformat_minor": 2
}
