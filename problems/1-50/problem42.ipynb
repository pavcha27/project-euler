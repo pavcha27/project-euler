{
 "cells": [
  {
   "cell_type": "code",
   "execution_count": 1,
   "metadata": {},
   "outputs": [],
   "source": [
    "import pandas as pd\n",
    "import numpy as np\n",
    "\n",
    "from string import ascii_uppercase, ascii_lowercase\n",
    "from functools import reduce"
   ]
  },
  {
   "cell_type": "code",
   "execution_count": 2,
   "metadata": {},
   "outputs": [],
   "source": [
    "with open('../../inputs/0042_words.txt', 'r') as f:\n",
    "    word_str = f.read().replace('\"', '')\n",
    "    words = word_str.split(',')\n",
    "\n",
    "letter_scores = {\n",
    "    c: i+1 for i, c in enumerate(list(ascii_uppercase))\n",
    "}"
   ]
  },
  {
   "cell_type": "code",
   "execution_count": 3,
   "metadata": {},
   "outputs": [],
   "source": [
    "def triangular_numbers(n):\n",
    "    trinums = []\n",
    "    trinums_bin = [0]*((n*(n+1))//2 + 1)\n",
    "\n",
    "    for i in range(n):\n",
    "        trinums.append((i*(i+1))//2)\n",
    "        trinums_bin[trinums[-1]] = 1\n",
    "\n",
    "    return trinums, trinums_bin"
   ]
  },
  {
   "cell_type": "code",
   "execution_count": 4,
   "metadata": {},
   "outputs": [],
   "source": [
    "def word_score(w, scores = letter_scores):\n",
    "    return reduce(lambda a, b: a + letter_scores[b], list(w), 0)"
   ]
  },
  {
   "cell_type": "code",
   "execution_count": 5,
   "metadata": {},
   "outputs": [],
   "source": [
    "tris, tribins = triangular_numbers(100)\n",
    "\n",
    "cnt = 0\n",
    "for w in words:\n",
    "    if tribins[word_score(w)]:\n",
    "        cnt += 1"
   ]
  },
  {
   "cell_type": "code",
   "execution_count": 6,
   "metadata": {},
   "outputs": [
    {
     "data": {
      "text/plain": [
       "162"
      ]
     },
     "execution_count": 6,
     "metadata": {},
     "output_type": "execute_result"
    }
   ],
   "source": [
    "cnt"
   ]
  },
  {
   "cell_type": "code",
   "execution_count": null,
   "metadata": {},
   "outputs": [],
   "source": []
  }
 ],
 "metadata": {
  "kernelspec": {
   "display_name": "Python 3",
   "language": "python",
   "name": "python3"
  },
  "language_info": {
   "codemirror_mode": {
    "name": "ipython",
    "version": 3
   },
   "file_extension": ".py",
   "mimetype": "text/x-python",
   "name": "python",
   "nbconvert_exporter": "python",
   "pygments_lexer": "ipython3",
   "version": "3.12.0"
  }
 },
 "nbformat": 4,
 "nbformat_minor": 2
}
