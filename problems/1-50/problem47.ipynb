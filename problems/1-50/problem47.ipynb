{
 "cells": [
  {
   "cell_type": "code",
   "execution_count": 30,
   "metadata": {},
   "outputs": [],
   "source": [
    "import pandas as pd\n",
    "import numpy as np\n",
    "\n",
    "from functools import reduce"
   ]
  },
  {
   "cell_type": "code",
   "execution_count": 2,
   "metadata": {},
   "outputs": [],
   "source": [
    "def sieve(n):\n",
    "    arr = [0] + [1]*n\n",
    "    arr[1] = 0\n",
    "\n",
    "    for j in range(4, n+1, 2):\n",
    "        arr[j] = 0\n",
    "\n",
    "    i = 3\n",
    "    while i*i <= n:\n",
    "        if arr[i]:\n",
    "            for j in range(i**2, n+1, i):\n",
    "                arr[j] = 0\n",
    "        \n",
    "        i += 2\n",
    "    \n",
    "    ret = []\n",
    "    for i in range(n+1):\n",
    "        if arr[i]:\n",
    "            ret.append(i)\n",
    "\n",
    "    return arr, ret"
   ]
  },
  {
   "cell_type": "code",
   "execution_count": 18,
   "metadata": {},
   "outputs": [],
   "source": [
    "def prime_factors(n, primes = []):\n",
    "    if not primes:\n",
    "        _, primes = sieve(n+1)\n",
    "    \n",
    "    factors = set()\n",
    "    p = 0\n",
    "    for p in primes:\n",
    "        if n <= 1:\n",
    "            break\n",
    "\n",
    "        if n % p == 0:\n",
    "            factors.add(p)\n",
    "            n //= p\n",
    "            while n % p == 0:\n",
    "                n //= p\n",
    "        \n",
    "    \n",
    "    return factors"
   ]
  },
  {
   "cell_type": "code",
   "execution_count": 51,
   "metadata": {},
   "outputs": [
    {
     "name": "stdout",
     "output_type": "stream",
     "text": [
      "134046 134045 134044 134043\n"
     ]
    }
   ],
   "source": [
    "pbs, ps = sieve(10**7)\n",
    "factors = [prime_factors(i, ps) for i in range(1,5)]\n",
    "\n",
    "for i in range(5, 10**7):\n",
    "    factors = factors[1:] + [prime_factors(i, ps)]\n",
    "    if reduce(lambda a,b: a + len(b), factors, 0) == 4*4:\n",
    "        print(i, i-1, i-2, i-3)\n",
    "        break"
   ]
  },
  {
   "cell_type": "code",
   "execution_count": null,
   "metadata": {},
   "outputs": [],
   "source": []
  }
 ],
 "metadata": {
  "kernelspec": {
   "display_name": "Python 3",
   "language": "python",
   "name": "python3"
  },
  "language_info": {
   "codemirror_mode": {
    "name": "ipython",
    "version": 3
   },
   "file_extension": ".py",
   "mimetype": "text/x-python",
   "name": "python",
   "nbconvert_exporter": "python",
   "pygments_lexer": "ipython3",
   "version": "3.12.0"
  }
 },
 "nbformat": 4,
 "nbformat_minor": 2
}
