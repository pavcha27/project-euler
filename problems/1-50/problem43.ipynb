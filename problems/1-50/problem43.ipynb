{
 "cells": [
  {
   "cell_type": "code",
   "execution_count": 62,
   "metadata": {},
   "outputs": [],
   "source": [
    "import pandas as pd\n",
    "import numpy as np"
   ]
  },
  {
   "cell_type": "code",
   "execution_count": 63,
   "metadata": {},
   "outputs": [],
   "source": [
    "# recursive\n",
    "def all_pandigitals(n, memo = {0: ['0'], 1: ['10', '01']}):\n",
    "    if n not in memo:\n",
    "        num_list = []\n",
    "        for i in all_pandigitals(n-1):\n",
    "            for j in range(n+1):\n",
    "                num_list.append(i[:j] + f'{n}' + i[j:])\n",
    "\n",
    "        memo[n] = num_list\n",
    "\n",
    "    return memo[n]"
   ]
  },
  {
   "cell_type": "code",
   "execution_count": 89,
   "metadata": {},
   "outputs": [
    {
     "name": "stdout",
     "output_type": "stream",
     "text": [
      "4130952867\n",
      "1430952867\n",
      "4160357289\n",
      "4106357289\n",
      "1460357289\n",
      "1406357289\n",
      "\n",
      "16695334890\n"
     ]
    }
   ],
   "source": [
    "pans = all_pandigitals(9)\n",
    "primes = [0,2,3,5,7,11,13,17]\n",
    "\n",
    "s = 0\n",
    "for pan in pans:\n",
    "    to_sum = True\n",
    "    for i in range(1,8):\n",
    "        if int(pan[i:i+3]) % primes[i]:\n",
    "            to_sum = False\n",
    "            break\n",
    "        \n",
    "    \n",
    "    if to_sum:\n",
    "        print(pan)\n",
    "        s += int(pan)\n",
    "\n",
    "print()\n",
    "print(s)"
   ]
  }
 ],
 "metadata": {
  "kernelspec": {
   "display_name": "Python 3",
   "language": "python",
   "name": "python3"
  },
  "language_info": {
   "codemirror_mode": {
    "name": "ipython",
    "version": 3
   },
   "file_extension": ".py",
   "mimetype": "text/x-python",
   "name": "python",
   "nbconvert_exporter": "python",
   "pygments_lexer": "ipython3",
   "version": "3.12.0"
  }
 },
 "nbformat": 4,
 "nbformat_minor": 2
}
