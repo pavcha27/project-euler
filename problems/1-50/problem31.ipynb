{
 "cells": [
  {
   "cell_type": "code",
   "execution_count": 1,
   "metadata": {},
   "outputs": [],
   "source": [
    "import pandas as pd\n",
    "import numpy as np"
   ]
  },
  {
   "cell_type": "markdown",
   "metadata": {},
   "source": [
    "This problem in math is defined as finding [partitions][1] of $200$, except we are given a fixed set of `coins` to use. \n",
    "\n",
    "A simple solution would be to generate all possible coin amounts recursively. We can use memoization to make the program slightly faster, but it still runs relatively slow (even for such small `amount` and number of `coins`).\n",
    "\n",
    "  [1]: https://en.wikipedia.org/wiki/Partition_(number_theory)"
   ]
  },
  {
   "cell_type": "code",
   "execution_count": 4,
   "metadata": {},
   "outputs": [
    {
     "data": {
      "text/plain": [
       "73682"
      ]
     },
     "execution_count": 4,
     "metadata": {},
     "output_type": "execute_result"
    }
   ],
   "source": [
    "# recursive\n",
    "def number_of_ways(amount, coins, memo):\n",
    "    if amount < 0:\n",
    "        return 0\n",
    "\n",
    "    if memo[amount] < 0:\n",
    "        ways = 0\n",
    "        for i in range(len(coins)):\n",
    "            if coins[i] > amount:\n",
    "                break\n",
    "\n",
    "            ways += number_of_ways(amount - coins[i], coins[i:], memo.copy())\n",
    "        \n",
    "        memo[amount] = ways\n",
    "\n",
    "    return memo[amount]\n",
    "\n",
    "coins = [1,2,5,10,20,50,100,200]\n",
    "amount = 200\n",
    "number_of_ways(amount,coins,[1] + [-1]*amount)"
   ]
  },
  {
   "cell_type": "markdown",
   "metadata": {},
   "source": [
    "Anoter solution uses a dynamic programming approach.\n",
    "\n",
    "The idea of the approach is that for each coin $c$, if we know the number of partitions used to make $c$, then we can track how $c$'s partitions contribute to all future amounts $i$. This is reflected in the double for loop, where we are considering the partitions of $c$ in the outer loop, and in the inner loop we update each future amount $i$ based on all previously completed partitions of the $c$'s.\n",
    "\n",
    "In iteration $c$, $i - c$ lags behind $i$ by $c$. So this is showing the effect of the $i-c$ partitions on the $i$ partitions (i.e., the effect by adding coin $c$ into the mix). This approach is much faster as we only have to make one pass through the `coins`."
   ]
  },
  {
   "cell_type": "code",
   "execution_count": 5,
   "metadata": {},
   "outputs": [
    {
     "data": {
      "text/plain": [
       "73682"
      ]
     },
     "execution_count": 5,
     "metadata": {},
     "output_type": "execute_result"
    }
   ],
   "source": [
    "# iterative\n",
    "def coin_sum(coins, amount):\n",
    "    arr = [1] + [0]*amount\n",
    "    for c in coins:\n",
    "        for i in range(c, amount + 1):\n",
    "            arr[i] += arr[i - c]\n",
    "    \n",
    "    return arr[-1]\n",
    "\n",
    "coins = [1,2,5,10,20,50,100,200]\n",
    "amount = 200\n",
    "coin_sum(coins, amount)"
   ]
  }
 ],
 "metadata": {
  "kernelspec": {
   "display_name": "Python 3",
   "language": "python",
   "name": "python3"
  },
  "language_info": {
   "codemirror_mode": {
    "name": "ipython",
    "version": 3
   },
   "file_extension": ".py",
   "mimetype": "text/x-python",
   "name": "python",
   "nbconvert_exporter": "python",
   "pygments_lexer": "ipython3",
   "version": "3.12.0"
  }
 },
 "nbformat": 4,
 "nbformat_minor": 2
}
