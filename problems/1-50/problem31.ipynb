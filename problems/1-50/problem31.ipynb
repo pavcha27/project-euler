{
 "cells": [
  {
   "cell_type": "code",
   "execution_count": 1,
   "metadata": {},
   "outputs": [],
   "source": [
    "import pandas as pd\n",
    "import numpy as np"
   ]
  },
  {
   "cell_type": "code",
   "execution_count": 65,
   "metadata": {},
   "outputs": [],
   "source": [
    "# recursive\n",
    "def number_of_ways(amount, coins, memo):\n",
    "    if amount < 0:\n",
    "        return 0\n",
    "\n",
    "    if memo[amount] < 0:\n",
    "        ways = 0\n",
    "        for i in range(len(coins)):\n",
    "            if coins[i] > amount:\n",
    "                break\n",
    "\n",
    "            ways += number_of_ways(amount - coins[i], coins[i:], memo.copy())\n",
    "        \n",
    "        memo[amount] = ways\n",
    "\n",
    "    return memo[amount]\n",
    "\n",
    "def coin_sum(coins, amount):\n",
    "    arr = [1] + [0]*amount\n",
    "    for c in coins:\n",
    "        for i in range(c, amount + 1):\n",
    "            arr[i] += arr[i - c]\n",
    "    \n",
    "    return arr[-1]"
   ]
  },
  {
   "cell_type": "code",
   "execution_count": 64,
   "metadata": {},
   "outputs": [
    {
     "data": {
      "text/plain": [
       "73682"
      ]
     },
     "execution_count": 64,
     "metadata": {},
     "output_type": "execute_result"
    }
   ],
   "source": [
    "coins = [1,2,5,10,20,50,100,200]\n",
    "amount = 200\n",
    "number_of_ways(amount,coins,[1] + [-1]*amount)"
   ]
  },
  {
   "cell_type": "code",
   "execution_count": 66,
   "metadata": {},
   "outputs": [
    {
     "data": {
      "text/plain": [
       "73682"
      ]
     },
     "execution_count": 66,
     "metadata": {},
     "output_type": "execute_result"
    }
   ],
   "source": [
    "coin_sum(coins, amount)"
   ]
  },
  {
   "cell_type": "code",
   "execution_count": null,
   "metadata": {},
   "outputs": [],
   "source": []
  }
 ],
 "metadata": {
  "kernelspec": {
   "display_name": "Python 3",
   "language": "python",
   "name": "python3"
  },
  "language_info": {
   "codemirror_mode": {
    "name": "ipython",
    "version": 3
   },
   "file_extension": ".py",
   "mimetype": "text/x-python",
   "name": "python",
   "nbconvert_exporter": "python",
   "pygments_lexer": "ipython3",
   "version": "3.12.0"
  }
 },
 "nbformat": 4,
 "nbformat_minor": 2
}
