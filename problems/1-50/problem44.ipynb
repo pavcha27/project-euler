{
 "cells": [
  {
   "cell_type": "code",
   "execution_count": 82,
   "metadata": {},
   "outputs": [],
   "source": [
    "import pandas as pd\n",
    "import numpy as np\n",
    "\n",
    "from itertools import product"
   ]
  },
  {
   "cell_type": "markdown",
   "metadata": {},
   "source": [
    "$$\n",
    "a = P_n \\implies 3n^2 - n - 2a = 0 \\implies n = \\frac{1 \\pm \\sqrt{1 + 24a}}{6} \\implies \\exists k \\in \\mathbb{N} \\quad\\text{s.t.}\\quad 1 + 24a = k^2 \\quad \\text{and} \\quad 1 + k \\equiv 0 \\, \\mod 6\n",
    "$$"
   ]
  },
  {
   "cell_type": "code",
   "execution_count": 114,
   "metadata": {},
   "outputs": [],
   "source": [
    "def is_pentagonal(n):\n",
    "    sr = np.sqrt(1 + 24*n)\n",
    "    return sr == int(sr) and (1 + sr) % 6 == 0"
   ]
  },
  {
   "cell_type": "code",
   "execution_count": 120,
   "metadata": {},
   "outputs": [
    {
     "name": "stdout",
     "output_type": "stream",
     "text": [
      "(1020, 2167) (1560090, 7042750)\n"
     ]
    }
   ],
   "source": [
    "pairs = []\n",
    "n = 3000\n",
    "\n",
    "for i in range(1,n):\n",
    "    p1 = (i*(3*i - 1))//2\n",
    "    for j in range(i + 1, n):\n",
    "        p2 = (j*(3*j - 1))//2\n",
    "\n",
    "        if is_pentagonal(p2-p1) and is_pentagonal(p2+p1):\n",
    "            print((i,j), (p1,p2))\n",
    "            pairs.append((p1,p2))"
   ]
  },
  {
   "cell_type": "code",
   "execution_count": null,
   "metadata": {},
   "outputs": [],
   "source": []
  }
 ],
 "metadata": {
  "kernelspec": {
   "display_name": "Python 3",
   "language": "python",
   "name": "python3"
  },
  "language_info": {
   "codemirror_mode": {
    "name": "ipython",
    "version": 3
   },
   "file_extension": ".py",
   "mimetype": "text/x-python",
   "name": "python",
   "nbconvert_exporter": "python",
   "pygments_lexer": "ipython3",
   "version": "3.12.0"
  }
 },
 "nbformat": 4,
 "nbformat_minor": 2
}
