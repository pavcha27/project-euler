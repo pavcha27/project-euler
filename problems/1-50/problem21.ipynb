{
 "cells": [
  {
   "cell_type": "code",
   "execution_count": 1,
   "metadata": {},
   "outputs": [],
   "source": [
    "import pandas as pd\n",
    "import numpy as np"
   ]
  },
  {
   "cell_type": "code",
   "execution_count": 29,
   "metadata": {},
   "outputs": [],
   "source": [
    "def find_all_divisors(num):\n",
    "    divs = [1]\n",
    "    i = 2\n",
    "    while i*i <= num:\n",
    "        if not num % i:\n",
    "            divs.append(i)\n",
    "        \n",
    "        i += 1\n",
    "    \n",
    "    n = len(divs)\n",
    "    for j in range(n)[::-1]:\n",
    "        divs.append(num // divs[j])\n",
    "    \n",
    "    ret = []\n",
    "    for d in divs:\n",
    "        if d < num:\n",
    "            ret.append(d)\n",
    "\n",
    "    return ret"
   ]
  },
  {
   "cell_type": "code",
   "execution_count": 34,
   "metadata": {},
   "outputs": [
    {
     "name": "stdout",
     "output_type": "stream",
     "text": [
      "220 284\n",
      "284 220\n",
      "1184 1210\n",
      "1210 1184\n",
      "2620 2924\n",
      "2924 2620\n",
      "5020 5564\n",
      "5564 5020\n",
      "6232 6368\n",
      "6368 6232\n"
     ]
    }
   ],
   "source": [
    "amicable_sum = 0\n",
    "div_sums = [-1]*10**6\n",
    "for i in range(1,10001):\n",
    "    div_sums[i] = sum(find_all_divisors(i))\n",
    "    div_sums[div_sums[i]] = sum(find_all_divisors(div_sums[i]))\n",
    "\n",
    "    if i == div_sums[div_sums[i]] and i != div_sums[i]:\n",
    "        print(i, div_sums[i])\n",
    "        amicable_sum += i + div_sums[i]"
   ]
  },
  {
   "cell_type": "code",
   "execution_count": 36,
   "metadata": {},
   "outputs": [
    {
     "data": {
      "text/plain": [
       "31626"
      ]
     },
     "execution_count": 36,
     "metadata": {},
     "output_type": "execute_result"
    }
   ],
   "source": [
    "amicable_sum//2"
   ]
  },
  {
   "cell_type": "code",
   "execution_count": null,
   "metadata": {},
   "outputs": [],
   "source": []
  }
 ],
 "metadata": {
  "kernelspec": {
   "display_name": "Python 3",
   "language": "python",
   "name": "python3"
  },
  "language_info": {
   "codemirror_mode": {
    "name": "ipython",
    "version": 3
   },
   "file_extension": ".py",
   "mimetype": "text/x-python",
   "name": "python",
   "nbconvert_exporter": "python",
   "pygments_lexer": "ipython3",
   "version": "3.12.0"
  },
  "orig_nbformat": 4,
  "vscode": {
   "interpreter": {
    "hash": "aee8b7b246df8f9039afb4144a1f6fd8d2ca17a180786b69acc140d282b71a49"
   }
  }
 },
 "nbformat": 4,
 "nbformat_minor": 2
}
