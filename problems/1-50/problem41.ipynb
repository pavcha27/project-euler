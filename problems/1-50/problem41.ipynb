{
 "cells": [
  {
   "cell_type": "code",
   "execution_count": 1,
   "metadata": {},
   "outputs": [],
   "source": [
    "import pandas as pd\n",
    "import numpy as np"
   ]
  },
  {
   "cell_type": "code",
   "execution_count": 2,
   "metadata": {},
   "outputs": [],
   "source": [
    "def sieve(n):\n",
    "    arr = [0] + [1]*n\n",
    "    arr[1] = 0\n",
    "\n",
    "    for j in range(4, n+1, 2):\n",
    "        arr[j] = 0\n",
    "\n",
    "    i = 3\n",
    "    while i*i <= n:\n",
    "        if arr[i]:\n",
    "            for j in range(i**2, n+1, i):\n",
    "                arr[j] = 0\n",
    "        \n",
    "        i += 2\n",
    "    \n",
    "    ret = []\n",
    "    for i in range(n+1):\n",
    "        if arr[i]:\n",
    "            ret.append(i)\n",
    "\n",
    "    return arr, ret"
   ]
  },
  {
   "cell_type": "code",
   "execution_count": 3,
   "metadata": {},
   "outputs": [],
   "source": [
    "def is_prime(n, primes = []):\n",
    "    if n <= 2:\n",
    "        return n % 2 == 0\n",
    "    \n",
    "    if not primes:\n",
    "        _, primes = sieve(n+1)\n",
    "    \n",
    "    for p in primes:\n",
    "        if p*p > n:\n",
    "            break\n",
    "        if n % p == 0:\n",
    "            return False\n",
    "        \n",
    "    return True"
   ]
  },
  {
   "cell_type": "code",
   "execution_count": 5,
   "metadata": {},
   "outputs": [],
   "source": [
    "# recursive\n",
    "def all_pandigitals(n, memo = {1: [1]}):\n",
    "    if n not in memo:\n",
    "        num_list = []\n",
    "        for i in all_pandigitals(n-1):\n",
    "            i_str = str(i)\n",
    "            for j in range(n):\n",
    "                num_list.append(int(\n",
    "                    i_str[:j] + f'{n}' + i_str[j:]\n",
    "                ))\n",
    "\n",
    "        memo[n] = num_list\n",
    "\n",
    "    return memo[n]"
   ]
  },
  {
   "cell_type": "code",
   "execution_count": 9,
   "metadata": {},
   "outputs": [],
   "source": [
    "primes_bin, primes = sieve(10**6)"
   ]
  },
  {
   "cell_type": "code",
   "execution_count": 10,
   "metadata": {},
   "outputs": [
    {
     "name": "stdout",
     "output_type": "stream",
     "text": [
      "5647321\n",
      "7546321\n",
      "7564231\n",
      "7624531\n",
      "7625341\n",
      "7642513\n",
      "7652413\n",
      "7652413\n"
     ]
    }
   ],
   "source": [
    "max_pan = -1\n",
    "for i in range(1, 10)[::-1]:\n",
    "    for n in all_pandigitals(i):\n",
    "        if is_prime(n, primes) and max_pan < n:\n",
    "            print(n)\n",
    "            max_pan = n\n",
    "\n",
    "print(max_pan)"
   ]
  },
  {
   "cell_type": "code",
   "execution_count": null,
   "metadata": {},
   "outputs": [],
   "source": []
  }
 ],
 "metadata": {
  "kernelspec": {
   "display_name": "Python 3",
   "language": "python",
   "name": "python3"
  },
  "language_info": {
   "codemirror_mode": {
    "name": "ipython",
    "version": 3
   },
   "file_extension": ".py",
   "mimetype": "text/x-python",
   "name": "python",
   "nbconvert_exporter": "python",
   "pygments_lexer": "ipython3",
   "version": "3.12.0"
  }
 },
 "nbformat": 4,
 "nbformat_minor": 2
}
