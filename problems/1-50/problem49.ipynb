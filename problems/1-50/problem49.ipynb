{
 "cells": [
  {
   "cell_type": "code",
   "execution_count": 20,
   "metadata": {},
   "outputs": [],
   "source": [
    "import pandas as pd\n",
    "import numpy as np\n",
    "\n",
    "from itertools import product"
   ]
  },
  {
   "cell_type": "code",
   "execution_count": 1,
   "metadata": {},
   "outputs": [],
   "source": [
    "def sieve(n):\n",
    "    arr = [0] + [1]*n\n",
    "    arr[1] = 0\n",
    "\n",
    "    for j in range(4, n+1, 2):\n",
    "        arr[j] = 0\n",
    "\n",
    "    i = 3\n",
    "    while i*i <= n:\n",
    "        if arr[i]:\n",
    "            for j in range(i**2, n+1, i):\n",
    "                arr[j] = 0\n",
    "        \n",
    "        i += 2\n",
    "    \n",
    "    ret = []\n",
    "    for i in range(n+1):\n",
    "        if arr[i]:\n",
    "            ret.append(i)\n",
    "\n",
    "    return arr, ret"
   ]
  },
  {
   "cell_type": "code",
   "execution_count": 48,
   "metadata": {},
   "outputs": [],
   "source": [
    "def all_permutations(s, suppress = True):\n",
    "    if len(s) <= 1:\n",
    "        return {s}\n",
    "    \n",
    "    ret = set()\n",
    "    for i in range(len(s)):\n",
    "        sub = all_permutations(s[:i] + s[i+1:])\n",
    "\n",
    "        if not suppress:\n",
    "            print(i)\n",
    "            print(s[i])\n",
    "            print(sub)\n",
    "            print()\n",
    "\n",
    "        for s1 in sub:\n",
    "            ret.add(s[i] + s1)\n",
    "            ret.add(s1 + s[i])\n",
    "    \n",
    "    return ret"
   ]
  },
  {
   "cell_type": "code",
   "execution_count": 80,
   "metadata": {},
   "outputs": [],
   "source": [
    "def arithmetic_subsequence(nums):\n",
    "    if len(nums) < 3:\n",
    "        return []\n",
    "\n",
    "    nums = sorted(list(nums))\n",
    "    n = len(nums)\n",
    "    subseqs = []\n",
    "    \n",
    "    for i in range(n-2):\n",
    "        for j in range(i+1,n-1):\n",
    "            diff = nums[j] - nums[i]\n",
    "            subseq = [nums[i], nums[j]]\n",
    "            for k in range(j+1,n):\n",
    "                if nums[k] - nums[j] == diff:\n",
    "                    subseq += [nums[k]]\n",
    "\n",
    "            if len(subseq) > 2:\n",
    "                subseqs.append(subseq)\n",
    "\n",
    "    return subseqs"
   ]
  },
  {
   "cell_type": "code",
   "execution_count": 6,
   "metadata": {},
   "outputs": [],
   "source": [
    "pbs, ps = sieve(10**4)\n",
    "primes = []\n",
    "for p in ps:\n",
    "    if p >= 10**3:\n",
    "        primes.append(p)"
   ]
  },
  {
   "cell_type": "code",
   "execution_count": 82,
   "metadata": {},
   "outputs": [
    {
     "name": "stdout",
     "output_type": "stream",
     "text": [
      "[[1487, 4817, 8147]]\n",
      "[[2969, 6299, 9629]]\n"
     ]
    }
   ],
   "source": [
    "primes_checked = set()\n",
    "\n",
    "for p in primes:\n",
    "    if p in primes_checked:\n",
    "        continue\n",
    "    perms = []\n",
    "    for n in all_permutations(str(p)):\n",
    "        n = int(n)\n",
    "        if n > 10**3 and pbs[n]:\n",
    "            primes_checked.add(n)\n",
    "            perms.append(n)\n",
    "        \n",
    "    if arithmetic_subsequence(perms):\n",
    "        print(arithmetic_subsequence(perms))"
   ]
  },
  {
   "cell_type": "code",
   "execution_count": null,
   "metadata": {},
   "outputs": [],
   "source": []
  }
 ],
 "metadata": {
  "kernelspec": {
   "display_name": "Python 3",
   "language": "python",
   "name": "python3"
  },
  "language_info": {
   "codemirror_mode": {
    "name": "ipython",
    "version": 3
   },
   "file_extension": ".py",
   "mimetype": "text/x-python",
   "name": "python",
   "nbconvert_exporter": "python",
   "pygments_lexer": "ipython3",
   "version": "3.12.0"
  }
 },
 "nbformat": 4,
 "nbformat_minor": 2
}
