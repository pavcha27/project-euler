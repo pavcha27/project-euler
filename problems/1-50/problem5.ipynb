{
 "cells": [
  {
   "cell_type": "code",
   "execution_count": 13,
   "metadata": {},
   "outputs": [],
   "source": [
    "import pandas as pd\n",
    "import numpy as np\n",
    "\n",
    "from functools import reduce"
   ]
  },
  {
   "cell_type": "code",
   "execution_count": 5,
   "metadata": {},
   "outputs": [],
   "source": [
    "def find_smallest_prime_divisor(n):\n",
    "    if n == 1:\n",
    "        return 1\n",
    "\n",
    "    if n % 2 == 0:\n",
    "        return 2\n",
    "    \n",
    "    i = 3\n",
    "    while i <= np.sqrt(n):\n",
    "        if not n % i:\n",
    "            return i\n",
    "        i += 2\n",
    "    \n",
    "    if i >= np.sqrt(n):\n",
    "        return n"
   ]
  },
  {
   "cell_type": "code",
   "execution_count": 6,
   "metadata": {},
   "outputs": [],
   "source": [
    "prime_lists = {1: [], 2: [2], 3: [3], 4: [2,2], 5: [5]}\n",
    "def prime_factorization(n):\n",
    "    if not (n in prime_lists):\n",
    "        sd = find_smallest_prime_divisor(n)\n",
    "        prime_lists[n] = [sd] + prime_factorization(n // sd)\n",
    "    \n",
    "    return prime_lists[n]"
   ]
  },
  {
   "cell_type": "code",
   "execution_count": 8,
   "metadata": {},
   "outputs": [],
   "source": [
    "def count_items(list_to_count):\n",
    "    ret = {}\n",
    "    for key in list_to_count:\n",
    "        ret[key] = ret.get(key, 0) + 1\n",
    "    \n",
    "    return ret"
   ]
  },
  {
   "cell_type": "code",
   "execution_count": 28,
   "metadata": {},
   "outputs": [],
   "source": [
    "prime_dict = count_items(prime_factorization(2))\n",
    "\n",
    "for i in range(3,21):\n",
    "    new_dict = count_items(prime_factorization(i))\n",
    "\n",
    "    for key in new_dict:\n",
    "        if new_dict[key] > prime_dict.get(key, -1):\n",
    "            prime_dict[key] = new_dict[key]\n",
    "\n",
    "p = 1\n",
    "for a,b in prime_dict.items():\n",
    "    p *= a**b"
   ]
  },
  {
   "cell_type": "code",
   "execution_count": 29,
   "metadata": {},
   "outputs": [
    {
     "data": {
      "text/plain": [
       "232792560"
      ]
     },
     "execution_count": 29,
     "metadata": {},
     "output_type": "execute_result"
    }
   ],
   "source": [
    "p"
   ]
  },
  {
   "cell_type": "code",
   "execution_count": null,
   "metadata": {},
   "outputs": [],
   "source": []
  }
 ],
 "metadata": {
  "kernelspec": {
   "display_name": "Python 3",
   "language": "python",
   "name": "python3"
  },
  "language_info": {
   "codemirror_mode": {
    "name": "ipython",
    "version": 3
   },
   "file_extension": ".py",
   "mimetype": "text/x-python",
   "name": "python",
   "nbconvert_exporter": "python",
   "pygments_lexer": "ipython3",
   "version": "3.12.0"
  },
  "orig_nbformat": 4
 },
 "nbformat": 4,
 "nbformat_minor": 2
}
