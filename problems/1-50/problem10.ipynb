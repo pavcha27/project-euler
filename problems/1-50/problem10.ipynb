{
 "cells": [
  {
   "cell_type": "code",
   "execution_count": 3,
   "metadata": {},
   "outputs": [],
   "source": [
    "import pandas as pd\n",
    "import numpy as np"
   ]
  },
  {
   "cell_type": "code",
   "execution_count": 4,
   "metadata": {},
   "outputs": [],
   "source": [
    "def sieve_of_eratosthenes(n):\n",
    "    prime = [True]*(n + 1)\n",
    "\n",
    "    prime[0] = False\n",
    "    prime[1] = False\n",
    "\n",
    "    for i in range(4, n+1, 2):\n",
    "        prime[i] = False\n",
    "\n",
    "    s = 3\n",
    "    while s*s <= n:\n",
    "        if prime[s]:\n",
    "            for i in range(s*2, n+1, s):\n",
    "                prime[i] = False\n",
    "        \n",
    "        s += 2\n",
    "    \n",
    "    return prime"
   ]
  },
  {
   "cell_type": "code",
   "execution_count": 11,
   "metadata": {},
   "outputs": [],
   "source": [
    "primes = sieve_of_eratosthenes(2*(10**6))\n",
    "\n",
    "s = 0\n",
    "for i in range(len(primes)):\n",
    "    if primes[i]:\n",
    "        s += i"
   ]
  },
  {
   "cell_type": "code",
   "execution_count": 12,
   "metadata": {},
   "outputs": [
    {
     "name": "stdout",
     "output_type": "stream",
     "text": [
      "142913828922\n"
     ]
    }
   ],
   "source": [
    "print(s)"
   ]
  },
  {
   "cell_type": "code",
   "execution_count": null,
   "metadata": {},
   "outputs": [],
   "source": []
  }
 ],
 "metadata": {
  "kernelspec": {
   "display_name": "Python 3",
   "language": "python",
   "name": "python3"
  },
  "language_info": {
   "codemirror_mode": {
    "name": "ipython",
    "version": 3
   },
   "file_extension": ".py",
   "mimetype": "text/x-python",
   "name": "python",
   "nbconvert_exporter": "python",
   "pygments_lexer": "ipython3",
   "version": "3.12.0"
  },
  "orig_nbformat": 4
 },
 "nbformat": 4,
 "nbformat_minor": 2
}
