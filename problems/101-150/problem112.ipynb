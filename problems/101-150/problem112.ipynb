{
 "cells": [
  {
   "cell_type": "code",
   "execution_count": 28,
   "metadata": {},
   "outputs": [],
   "source": [
    "import pandas as pd\n",
    "import numpy as np\n",
    "\n",
    "from itertools import product"
   ]
  },
  {
   "cell_type": "markdown",
   "metadata": {},
   "source": [
    "We can just use Python's in-build functions and sorting to check if the number is not increasing and not decreasing. Then we just count them up. Brute-force works fine for this."
   ]
  },
  {
   "cell_type": "code",
   "execution_count": 29,
   "metadata": {},
   "outputs": [],
   "source": [
    "bouncy_cache = -1*np.ones(10**7, int)\n",
    "def is_bouncy(n):\n",
    "    if bouncy_cache[n] < 0:\n",
    "        bouncy_cache[n] = not (int(''.join(sorted(str(n)))) == n or int(''.join(sorted(str(n), reverse = True))) == n)\n",
    "    return bouncy_cache[n]"
   ]
  },
  {
   "cell_type": "code",
   "execution_count": 30,
   "metadata": {},
   "outputs": [
    {
     "name": "stdout",
     "output_type": "stream",
     "text": [
      "538 : 0.5\n",
      "540 : 0.5\n",
      "548 : 0.5\n",
      "550 : 0.5\n",
      "576 : 0.5\n",
      "582 : 0.5\n",
      "21780 : 0.9\n",
      "23070 : 0.9\n",
      "23460 : 0.9\n",
      "23870 : 0.9\n",
      "23890 : 0.9\n",
      "23900 : 0.9\n",
      "1587000 : 0.99\n"
     ]
    }
   ],
   "source": [
    "bouncy = 0\n",
    "total = 0\n",
    "for i in range(1, 10**7):\n",
    "    if is_bouncy(i):\n",
    "        bouncy += 1\n",
    "    \n",
    "    total += 1\n",
    "\n",
    "    if bouncy / total == 0.5:\n",
    "        print(i, ':', 0.5)\n",
    "\n",
    "    if bouncy / total == 0.9:\n",
    "        print(i, ':', 0.9)\n",
    "\n",
    "    if bouncy / total >= 0.99:\n",
    "        print(i, ':', bouncy/total)\n",
    "\n",
    "    if bouncy / total == 0.99:\n",
    "        break\n"
   ]
  },
  {
   "cell_type": "code",
   "execution_count": null,
   "metadata": {},
   "outputs": [],
   "source": []
  }
 ],
 "metadata": {
  "kernelspec": {
   "display_name": "Python 3",
   "language": "python",
   "name": "python3"
  },
  "language_info": {
   "codemirror_mode": {
    "name": "ipython",
    "version": 3
   },
   "file_extension": ".py",
   "mimetype": "text/x-python",
   "name": "python",
   "nbconvert_exporter": "python",
   "pygments_lexer": "ipython3",
   "version": "3.12.0"
  }
 },
 "nbformat": 4,
 "nbformat_minor": 2
}
