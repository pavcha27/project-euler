{
 "cells": [
  {
   "cell_type": "code",
   "execution_count": 59,
   "metadata": {},
   "outputs": [],
   "source": [
    "import numpy as np\n",
    "import pandas as pd\n",
    "\n",
    "from itertools import product, combinations"
   ]
  },
  {
   "cell_type": "code",
   "execution_count": 60,
   "metadata": {},
   "outputs": [],
   "source": [
    "with open('../../inputs/0107_network.txt', 'r') as f:\n",
    "    network_string = f.read()"
   ]
  },
  {
   "cell_type": "markdown",
   "metadata": {},
   "source": [
    "This problem, I used a simple backtracking approach.\n",
    "\n",
    "We sort the edges in order of weight, from greatest to least (since we want to remove high-weight edges first). Then for each edge we remove it from the graph, check if the graph is still connected (quick DFS or BFS). If it's no longer connected, then put the edge back. If it is connected then we remove it and move to the next one."
   ]
  },
  {
   "cell_type": "code",
   "execution_count": 202,
   "metadata": {},
   "outputs": [],
   "source": [
    "# dfs to check if graph is connected\n",
    "def connected(start_node, graph, suppress = True):\n",
    "    n = len(graph)\n",
    "    visited = np.zeros(n)\n",
    "    queue = [start_node]\n",
    "\n",
    "    while queue:\n",
    "        if not suppress: print(queue)\n",
    "\n",
    "        current = queue.pop(0)\n",
    "\n",
    "        # use np vectorization to quickly find all nodes to append to queue\n",
    "        # find all connected nodes\n",
    "        to_add = np.where(graph[current] != 0)[0]\n",
    "        # append any nodes that have not been visited onto the end of queue\n",
    "        queue += list(to_add[np.where(visited[to_add] == 0)[0]])\n",
    "\n",
    "        visited[current] = 1\n",
    "\n",
    "    if not suppress: print(np.where(visited == 0))\n",
    "    return np.sum(visited) == len(graph)"
   ]
  },
  {
   "cell_type": "code",
   "execution_count": 203,
   "metadata": {},
   "outputs": [],
   "source": [
    "network = np.array([[0 if c == '-' else int(c) for c in vertex.split(',')] for vertex in network_string.split('\\n')], int)\n",
    "\n",
    "# # get example network here for testing\n",
    "# network = np.array([\n",
    "#     [0, 16, 12, 21, 0, 0, 0],\n",
    "#     [16, 0, 0, 17, 20, 0, 0],\n",
    "#     [12, 0, 0, 28, 0, 31, 0],\n",
    "#     [21, 17, 28, 0, 18, 19, 23],\n",
    "#     [0, 20, 0, 18, 0, 0, 11],\n",
    "#     [0, 0, 31, 19, 0, 0, 27],\n",
    "#     [0, 0, 0, 23, 11, 27, 0]\n",
    "# ], int)"
   ]
  },
  {
   "cell_type": "code",
   "execution_count": 206,
   "metadata": {},
   "outputs": [
    {
     "name": "stdout",
     "output_type": "stream",
     "text": [
      "old total weight: 261832\n",
      "new total weight: 2153\n",
      "improvement: 259679\n"
     ]
    }
   ],
   "source": [
    "# we want to remove edges with maximum weights\n",
    "g = network.copy()\n",
    "# for i,j in combinations(range(len(g)), 2):\n",
    "#     g[j,i] = 0\n",
    "\n",
    "# every edge is doubled\n",
    "old_sum = np.sum(g) // 2\n",
    "\n",
    "# order weights least to greatest\n",
    "weights = sorted(\n",
    "    {(i,j): g[i,j] for i,j in combinations(range(len(g)), 2)}.items(), \n",
    "    reverse = True, \n",
    "    key = lambda a: (a[1],a[0])\n",
    ")\n",
    "\n",
    "# use backtracking to check if we can remove an edge and still have a connected graph\n",
    "# we can use dfs or bfs to check if the graph remains connected after removing that edge\n",
    "for (i,j), w in weights:\n",
    "    old_g = g.copy()\n",
    "\n",
    "    # remove both copies of edge\n",
    "    g[i,j] = 0\n",
    "    g[j,i] = 0\n",
    "\n",
    "    # if graph is no longer connected, then that edge is essential\n",
    "    if not connected(0, g):\n",
    "        g = old_g.copy()\n",
    "\n",
    "# every edge is doubled\n",
    "new_sum = np.sum(g) // 2\n",
    "\n",
    "print(f'old total weight: {old_sum}\\nnew total weight: {new_sum}\\nimprovement: {old_sum - new_sum}')"
   ]
  },
  {
   "cell_type": "code",
   "execution_count": null,
   "metadata": {},
   "outputs": [],
   "source": []
  }
 ],
 "metadata": {
  "kernelspec": {
   "display_name": "Python 3",
   "language": "python",
   "name": "python3"
  },
  "language_info": {
   "codemirror_mode": {
    "name": "ipython",
    "version": 3
   },
   "file_extension": ".py",
   "mimetype": "text/x-python",
   "name": "python",
   "nbconvert_exporter": "python",
   "pygments_lexer": "ipython3",
   "version": "3.12.0"
  }
 },
 "nbformat": 4,
 "nbformat_minor": 2
}
