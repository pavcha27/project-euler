{
 "cells": [
  {
   "cell_type": "code",
   "execution_count": 33,
   "metadata": {},
   "outputs": [],
   "source": [
    "import pandas as pd\n",
    "import numpy as np\n",
    "\n",
    "from itertools import product"
   ]
  },
  {
   "cell_type": "markdown",
   "metadata": {},
   "source": [
    "This problem was a relatively straightforward simualtion.\n",
    "\n",
    "Basically you can get all possible dart scores on the first two throws by accumulating all singles, doubles, and triples. For the final throw, you do the same but only accumulate all possible doubles.\n",
    "\n",
    "Then to for any checkout score $c$, we simulate the first two scores as $x, y \\leq 60$, and so the required final throw is $z = c - x - y$, and we just find all combinations of the first two throws (third throw needs to be permutation--not combination) and append the third throw. Since we have to end on a double, we simply put a requirement that $z \\!\\!\\mod 2 = 0$ and that $z \\leq 40 \\vee z = 50$ (since doubles only go up to these scores)."
   ]
  },
  {
   "cell_type": "code",
   "execution_count": 55,
   "metadata": {},
   "outputs": [],
   "source": [
    "# possible_single_throws[i] = [Si, D(i/2), T(i/3)]\n",
    "possible_single_throws = {i: set() for i in range(61)}\n",
    "\n",
    "# possible final throws[i] = D(i*2) -- have to end on a double\n",
    "possible_final_throws = {i: '' for i in range(2,51,2)}\n",
    "\n",
    "# give 0 empty string for consistency in second part\n",
    "possible_single_throws[0] = {''}\n",
    "\n",
    "for i in range(1, 21):\n",
    "    # for each possible section add on throws\n",
    "    possible_single_throws[i].add(f'S{i}')\n",
    "    possible_single_throws[2*i].add(f'D{i}')\n",
    "    possible_single_throws[3*i].add(f'T{i}')\n",
    "\n",
    "    possible_final_throws[2*i] = f'D{i}'\n",
    "\n",
    "# add on bullseye sections\n",
    "possible_single_throws[25].add('S25')\n",
    "possible_single_throws[50].add('D25')\n",
    "\n",
    "possible_final_throws[50] = f'D25'"
   ]
  },
  {
   "cell_type": "code",
   "execution_count": 58,
   "metadata": {},
   "outputs": [
    {
     "name": "stdout",
     "output_type": "stream",
     "text": [
      "42336\n"
     ]
    }
   ],
   "source": [
    "# store all possible checkouts -- maximum is 170\n",
    "checkouts = {i: 0 for i in range(171)}\n",
    "\n",
    "# for each checkout score < 100\n",
    "for checkout_score in range(171):\n",
    "    # store all possible throws\n",
    "    possibles = set()\n",
    "\n",
    "    # x represents score on first throw (must be <= 60)\n",
    "    for x in range(min(checkout_score, 61)):\n",
    "        # y represents score on second throw (must be <= 60)\n",
    "        for y in range(min(checkout_score-x, 61)):\n",
    "            # z is required score on third throw to end up at 0\n",
    "            z = checkout_score - x - y\n",
    "            \n",
    "            # to end on a double, z must be even, z <= 40, and z != 50\n",
    "            if z % 2 != 0 or (z > 40 and z != 50):\n",
    "                continue\n",
    "\n",
    "            # get all possible first throws\n",
    "            first_throws = possible_single_throws[x]\n",
    "\n",
    "            # get all possible second throws\n",
    "            second_throws = possible_single_throws[y]\n",
    "\n",
    "            # sort first and second throws, so permutations don't count\n",
    "            for f, s, t in product(first_throws, second_throws, [possible_final_throws[z]]):\n",
    "                possibles.add((tuple(sorted([f,s])), t))\n",
    "\n",
    "    checkouts[checkout_score] = len(possibles)\n",
    "\n",
    "print(sum(checkouts.values()))"
   ]
  },
  {
   "cell_type": "code",
   "execution_count": null,
   "metadata": {},
   "outputs": [],
   "source": []
  }
 ],
 "metadata": {
  "kernelspec": {
   "display_name": "Python 3",
   "language": "python",
   "name": "python3"
  },
  "language_info": {
   "codemirror_mode": {
    "name": "ipython",
    "version": 3
   },
   "file_extension": ".py",
   "mimetype": "text/x-python",
   "name": "python",
   "nbconvert_exporter": "python",
   "pygments_lexer": "ipython3",
   "version": "3.12.0"
  }
 },
 "nbformat": 4,
 "nbformat_minor": 2
}
