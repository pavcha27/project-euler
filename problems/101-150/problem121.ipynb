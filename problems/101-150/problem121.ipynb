{
 "cells": [
  {
   "cell_type": "code",
   "execution_count": 38,
   "metadata": {},
   "outputs": [],
   "source": [
    "import pandas as pd\n",
    "import numpy as np\n",
    "\n",
    "from itertools import combinations\n",
    "from functools import reduce"
   ]
  },
  {
   "cell_type": "markdown",
   "metadata": {},
   "source": [
    "Your draw chance of blue goes down each turn. Let $B$ be the random variable describing how many blues discs you take from the bag and $R$ be the same for red discs. So for four turns\n",
    "$$\n",
    "\\begin{align*}\n",
    "P(B > R) &= P(\\text{blue 3 rounds and red 1 round}) + P(\\text{blue 4 rounds}) \\\\\n",
    "    &= \\frac{1 + 2 + 3 + 4}{2 \\cdot 3 \\cdot 4 \\cdot 5} + \\frac{1}{2 \\cdot 3 \\cdot 4 \\cdot 5} \\\\\n",
    "    &= \\frac{11}{120}\n",
    "\\end{align*}\n",
    "$$\n",
    "Note: on the left hand fraction, the $1 + 2 + 3 + 4$ represents when you get the red disk--$1$ means you got red in the first round and blue the remaining 3, $2$ means you got red in the second round and blue in the remaining 3, etc. In this case we didn't have multiple reds to choose. In general, as you might expect, we are multiplying probabilities within each even and then adding up the various possible events--so for example, if you win with $3$ blue rounds and $2$ red rounds, and if you win red in the second and third round, you would multiply $2 \\cdot 3 = 6$ and add $6$ to the remaining other possibilities ($(1,2), (1,3), (1,4), \\dots, (4,5)$).\n",
    "\n",
    "For fifteen turns, there are more combinations, but the logic is nearly the same to get $P(B > R)$:\n",
    "1. Split up the probabilities into section (8 blue 7 red, 9 blue 6 red, 10 blue 5 red, $\\dots$, 15 blue 0 red)\n",
    "2. Divide by $(15 + 1)!$\n",
    "\n",
    "To get to the prize fund, suppose the prize fund amount is $A$. Then we need to choose the largest $A$ such that\n",
    "$$\n",
    "A \\cdot P(B > R) < 1 \\implies A < \\frac{1}{P(B > R)} \\implies A = \\left\\lfloor \\frac{1}{P(B > R)} \\right\\rfloor\n",
    "$$"
   ]
  },
  {
   "cell_type": "code",
   "execution_count": 42,
   "metadata": {},
   "outputs": [],
   "source": [
    "# generate factorials\n",
    "fact = [1]\n",
    "for i in range(1,20):\n",
    "    fact.append(fact[-1]*i)"
   ]
  },
  {
   "cell_type": "code",
   "execution_count": 43,
   "metadata": {},
   "outputs": [],
   "source": [
    "def numerator_of_win(b, r):\n",
    "    '''\n",
    "    Returns numerator of probability of getting a particular arrangement where you get b Blues and r Reds.\n",
    "    '''\n",
    "    # if you pick up more reds than blues, then you lose for sure\n",
    "    if r >= b:\n",
    "        return 0\n",
    "\n",
    "    # if you never pick up red, then you only grab blues\n",
    "    if r == 0:\n",
    "        return 1\n",
    "    \n",
    "    # numerator of blue is always 1, numerator of red is dependent on when you get the red\n",
    "    # if you get red in round x, then numerator will be x\n",
    "    total_numerator = 0\n",
    "    num_rounds = b + r\n",
    "    for red_wins in combinations(range(1,num_rounds + 1), r):\n",
    "        total_numerator += reduce(lambda a,b: a*b, red_wins, 1)\n",
    "\n",
    "    return total_numerator"
   ]
  },
  {
   "cell_type": "code",
   "execution_count": 49,
   "metadata": {},
   "outputs": [
    {
     "data": {
      "text/plain": [
       "2269"
      ]
     },
     "execution_count": 49,
     "metadata": {},
     "output_type": "execute_result"
    }
   ],
   "source": [
    "n = 15\n",
    "numerator = 0\n",
    "for r in range((n-1)//2 + 1):\n",
    "    numerator += numerator_of_win(n-r, r)\n",
    "\n",
    "fact[n+1] // numerator"
   ]
  },
  {
   "cell_type": "code",
   "execution_count": null,
   "metadata": {},
   "outputs": [],
   "source": []
  }
 ],
 "metadata": {
  "kernelspec": {
   "display_name": "Python 3",
   "language": "python",
   "name": "python3"
  },
  "language_info": {
   "codemirror_mode": {
    "name": "ipython",
    "version": 3
   },
   "file_extension": ".py",
   "mimetype": "text/x-python",
   "name": "python",
   "nbconvert_exporter": "python",
   "pygments_lexer": "ipython3",
   "version": "3.12.0"
  }
 },
 "nbformat": 4,
 "nbformat_minor": 2
}
