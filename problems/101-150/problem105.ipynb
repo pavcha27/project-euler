{
 "cells": [
  {
   "cell_type": "code",
   "execution_count": 3,
   "metadata": {},
   "outputs": [],
   "source": [
    "import pandas as pd\n",
    "import numpy as np\n",
    "\n",
    "from itertools import combinations"
   ]
  },
  {
   "cell_type": "code",
   "execution_count": 4,
   "metadata": {},
   "outputs": [],
   "source": [
    "with open('../../inputs/0105_sets.txt', 'r') as f:\n",
    "    sets_string = f.read()"
   ]
  },
  {
   "cell_type": "code",
   "execution_count": 5,
   "metadata": {},
   "outputs": [],
   "source": [
    "def check_special_sum(num_set):\n",
    "    # if there are repeats then no need to check\n",
    "    if len(num_set) != len(set(num_set)):\n",
    "        return False\n",
    "    \n",
    "    num_set = set(num_set)\n",
    "\n",
    "    # for every 2 disjoin subsets\n",
    "    for i in range(1, len(num_set)):\n",
    "        for j in range(i, len(num_set)):\n",
    "            for t1 in combinations(num_set, i):\n",
    "                for t2 in combinations(num_set - set(t1), j):\n",
    "                    if sum(t1) == sum(t2):\n",
    "                        return False\n",
    "                    \n",
    "                    if j > i and sum(t1) > sum(t2):\n",
    "                        return False\n",
    "\n",
    "\n",
    "    return True"
   ]
  },
  {
   "cell_type": "code",
   "execution_count": 7,
   "metadata": {},
   "outputs": [],
   "source": [
    "sets = [set(int(n) for n in s.split(',')) for s in sets_string.split('\\n')]"
   ]
  },
  {
   "cell_type": "code",
   "execution_count": 14,
   "metadata": {},
   "outputs": [
    {
     "name": "stdout",
     "output_type": "stream",
     "text": [
      "73702\n"
     ]
    }
   ],
   "source": [
    "val = 0\n",
    "for s in sets:\n",
    "    if check_special_sum(s):\n",
    "        val += sum(s)\n",
    "\n",
    "print(val)"
   ]
  },
  {
   "cell_type": "code",
   "execution_count": null,
   "metadata": {},
   "outputs": [],
   "source": []
  }
 ],
 "metadata": {
  "kernelspec": {
   "display_name": "Python 3",
   "language": "python",
   "name": "python3"
  },
  "language_info": {
   "codemirror_mode": {
    "name": "ipython",
    "version": 3
   },
   "file_extension": ".py",
   "mimetype": "text/x-python",
   "name": "python",
   "nbconvert_exporter": "python",
   "pygments_lexer": "ipython3",
   "version": "3.12.0"
  }
 },
 "nbformat": 4,
 "nbformat_minor": 2
}
