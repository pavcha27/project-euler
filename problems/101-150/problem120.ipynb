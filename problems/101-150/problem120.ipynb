{
 "cells": [
  {
   "cell_type": "code",
   "execution_count": 1,
   "metadata": {},
   "outputs": [],
   "source": [
    "import pandas as pd\n",
    "import numpy as np"
   ]
  },
  {
   "cell_type": "markdown",
   "metadata": {},
   "source": [
    "If you try and use brute-force, the problem is how do you know when to stop incrementing the exponent? In order to solve this problem, we look to see if there are any heuristics we can hope to use from looking at the first handful of numbers. \n",
    "\n",
    "By looking at $a = 3, 4, 5, 6, 7$, we see that by incrementing $n$, the expressions $(a - 1)^n + (a + 1)^n \\mod a^2$ actually form cycles and thus repeat themselves. So this gives us the hint that we will stop eventually once we reach a cycle. We try it on the whole set from $3 \\leq a \\leq 1000$ and see that it gets the right answer. In general, the beauty of modular arithmetic in general is the creation of these cycles (especially when related to exponents).\n",
    "\n",
    "However, there is a nice math trick here involving the [binomial theorem][1]. We can see that\n",
    "$$\n",
    "(a + 1)^n = \\sum_{k = 0}^{n} {n \\choose k} a^k = 1 + na + {n \\choose 2} a^2 + \\dots + na^{n-1} + a^n\n",
    "$$\n",
    "We can see every term has at least an $a^2$ in it, except for the first $2$! So that means when we divide by $a^2$, only the first two will be left in the remainder. So\n",
    "$$\n",
    "(a + 1)^n \\equiv 1 + na \\mod a^2\n",
    "$$\n",
    "\n",
    "Similarly, \n",
    "$$\n",
    "(a - 1)^n = \\sum_{k = 0}^{n} {n \\choose k} a^k (-1)^{n-k} = (-1)^n + (-1)^{n-1} na + {n \\choose 2} (-1)^{n-2}a^2 + \\dots - na^{n-1} + a^n\n",
    "$$\n",
    "We can see this will depend on if $n$ is even or odd. So\n",
    "$$\n",
    "(a - 1)^n \\equiv \\begin{cases} 1 - na & \\text{$n$ is even} \\\\ na - 1 & \\text{$n$ is odd} \\end{cases} \\mod a^2\n",
    "$$\n",
    "\n",
    "Now of course $2na > 2$ since $a \\geq 3$ and $n \\geq 1$, so $n$ odd is the only cases we need to check. So then the best $n$ maximizes $2na \\!\\!\\mod a^2$ which means the largest $n$ such that $2na < a^2 \\implies n = \\frac{a - 1}{2} \\implies r_{\\max}(a) = 2a\\lfloor \\frac{a-1}{2} \\rfloor$.\n",
    "\n",
    "[1]: https://en.wikipedia.org/wiki/Binomial_theorem"
   ]
  },
  {
   "cell_type": "code",
   "execution_count": 106,
   "metadata": {},
   "outputs": [],
   "source": [
    "def f(a, n):\n",
    "    return (pow(a-1, n, a**2) + pow(a+1, n, a**2)) % a**2 "
   ]
  },
  {
   "cell_type": "code",
   "execution_count": 107,
   "metadata": {},
   "outputs": [],
   "source": [
    "maxes = {i: 0 for i in range(3,1001)}\n",
    "\n",
    "# # brute force way\n",
    "# for i in range(3, 1001):\n",
    "#     mods = []\n",
    "#     ml = 0\n",
    "#     exp = 1\n",
    "#     while True:\n",
    "#         mods.append(f(i, exp))\n",
    "#         ml += 1\n",
    "#         if ml % 2 == 0 and mods[:ml // 2] == mods[ml // 2:]:\n",
    "#             maxes[i] = max(mods)\n",
    "#             break\n",
    "        \n",
    "#         exp += 2\n",
    "\n",
    "# binomial theorem improvement\n",
    "# rmax = 2 * a * (a-1)//2 for each a\n",
    "for i in range(3,1001):\n",
    "    maxes[i] = 2*i*((i-1)//2)"
   ]
  },
  {
   "cell_type": "code",
   "execution_count": 108,
   "metadata": {},
   "outputs": [
    {
     "data": {
      "text/plain": [
       "333082500"
      ]
     },
     "execution_count": 108,
     "metadata": {},
     "output_type": "execute_result"
    }
   ],
   "source": [
    "sum(maxes.values())"
   ]
  },
  {
   "cell_type": "code",
   "execution_count": null,
   "metadata": {},
   "outputs": [],
   "source": []
  }
 ],
 "metadata": {
  "kernelspec": {
   "display_name": "Python 3",
   "language": "python",
   "name": "python3"
  },
  "language_info": {
   "codemirror_mode": {
    "name": "ipython",
    "version": 3
   },
   "file_extension": ".py",
   "mimetype": "text/x-python",
   "name": "python",
   "nbconvert_exporter": "python",
   "pygments_lexer": "ipython3",
   "version": "3.12.0"
  }
 },
 "nbformat": 4,
 "nbformat_minor": 2
}
