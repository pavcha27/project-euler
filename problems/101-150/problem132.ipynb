{
 "cells": [
  {
   "cell_type": "code",
   "execution_count": 1,
   "metadata": {},
   "outputs": [],
   "source": [
    "import pandas as pd\n",
    "import numpy as np"
   ]
  },
  {
   "cell_type": "markdown",
   "metadata": {},
   "source": [
    "Similar to the previous problems, using that\n",
    "$$\n",
    "R(10^9) = \\frac{10^{10^9} - 1}{9}\n",
    "$$\n",
    "we get the answer instantly, by checking $10^{10^9} \\equiv 1 \\mod 9p$ for each prime $p$."
   ]
  },
  {
   "cell_type": "code",
   "execution_count": 9,
   "metadata": {},
   "outputs": [],
   "source": [
    "def sieve(n):\n",
    "    arr = [0,0,1] + [1,0]*(n//2 + 1)\n",
    "    i = 3\n",
    "    while i*i <= n:\n",
    "        if arr[i]:  \n",
    "            arr[i*i::2*i] = [0]*len(arr[i*i::2*i])\n",
    "        i += 2\n",
    "\n",
    "    ret = []\n",
    "    for (i, p) in enumerate(arr):\n",
    "        if p:\n",
    "            ret.append(i)\n",
    "\n",
    "    return arr, ret\n",
    "\n",
    "pbs, ps = sieve(10**7)"
   ]
  },
  {
   "cell_type": "code",
   "execution_count": 10,
   "metadata": {},
   "outputs": [
    {
     "name": "stdout",
     "output_type": "stream",
     "text": [
      "11\n",
      "17\n",
      "41\n",
      "73\n",
      "101\n",
      "137\n",
      "251\n",
      "257\n",
      "271\n",
      "353\n",
      "401\n",
      "449\n",
      "641\n",
      "751\n",
      "1201\n",
      "1409\n",
      "1601\n",
      "3541\n",
      "4001\n",
      "4801\n",
      "5051\n",
      "9091\n",
      "10753\n",
      "15361\n",
      "16001\n",
      "19841\n",
      "21001\n",
      "21401\n",
      "24001\n",
      "25601\n",
      "27961\n",
      "37501\n",
      "40961\n",
      "43201\n",
      "60101\n",
      "62501\n",
      "69857\n",
      "76001\n",
      "76801\n",
      "160001\n",
      "843296\n"
     ]
    }
   ],
   "source": [
    "repunit_size = pow(10,9)\n",
    "s = 0\n",
    "cntr = 0\n",
    "for p in ps:\n",
    "    if pow(10, repunit_size, 9*p) == 1:\n",
    "        print(p)\n",
    "        s += p\n",
    "        cntr += 1\n",
    "    \n",
    "    if cntr == 40:\n",
    "        break\n",
    "\n",
    "print(s)"
   ]
  },
  {
   "cell_type": "code",
   "execution_count": null,
   "metadata": {},
   "outputs": [],
   "source": []
  }
 ],
 "metadata": {
  "kernelspec": {
   "display_name": "Python 3",
   "language": "python",
   "name": "python3"
  },
  "language_info": {
   "codemirror_mode": {
    "name": "ipython",
    "version": 3
   },
   "file_extension": ".py",
   "mimetype": "text/x-python",
   "name": "python",
   "nbconvert_exporter": "python",
   "pygments_lexer": "ipython3",
   "version": "3.12.0"
  }
 },
 "nbformat": 4,
 "nbformat_minor": 2
}
