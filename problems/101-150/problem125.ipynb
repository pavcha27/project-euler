{
 "cells": [
  {
   "cell_type": "code",
   "execution_count": 54,
   "metadata": {},
   "outputs": [],
   "source": [
    "import pandas as pd\n",
    "import numpy as np"
   ]
  },
  {
   "cell_type": "markdown",
   "metadata": {},
   "source": [
    "This problem is a perfect example of when to use [window sliding][1]. \n",
    "\n",
    "I originally thought of the approach of creating a Python `range` for each possible start and end, using `itertools.combinations`, but then realized this would be very space inefficient and slow. To speed this up, we can still use each start and end, but use the mathematical formula for sum of squares of consecutive numbers.\n",
    "\n",
    "Instead, a window sliding technique basically uses the realization that if I have the square sum from $1$ to $n$, then to get the next term, I just add on $(n+1)^2$ (i.e., I don't have to recalculate all lower values). A possible optimization would be to also cache the values as we go, and instead of recalculating when I increase the window size, just subtract off (basically chop off) the beginning portion of the window--this would yield only one calculation each time. However, it's not needed here as the program runs quickly for $10^8$.\n",
    "\n",
    "[1]: https://www.geeksforgeeks.org/window-sliding-technique/"
   ]
  },
  {
   "cell_type": "code",
   "execution_count": 55,
   "metadata": {},
   "outputs": [],
   "source": [
    "def is_palindrome(n):\n",
    "    return int(str(n)[::-1]) == n"
   ]
  },
  {
   "cell_type": "code",
   "execution_count": 63,
   "metadata": {},
   "outputs": [
    {
     "name": "stdout",
     "output_type": "stream",
     "text": [
      "593968508531\n"
     ]
    }
   ],
   "source": [
    "max_palindrome = 10**10\n",
    "vals = set()\n",
    "for start in range(1,int(max_palindrome**0.5) + 1):\n",
    "    x = start + 1\n",
    "    s = start*start\n",
    "    while True:\n",
    "        s += x*x\n",
    "        x += 1\n",
    "\n",
    "        if s >= max_palindrome:\n",
    "            break\n",
    "\n",
    "        if is_palindrome(s):\n",
    "            vals.add(s)\n",
    "    \n",
    "print(sum(vals))"
   ]
  },
  {
   "cell_type": "code",
   "execution_count": null,
   "metadata": {},
   "outputs": [],
   "source": []
  }
 ],
 "metadata": {
  "kernelspec": {
   "display_name": "Python 3",
   "language": "python",
   "name": "python3"
  },
  "language_info": {
   "codemirror_mode": {
    "name": "ipython",
    "version": 3
   },
   "file_extension": ".py",
   "mimetype": "text/x-python",
   "name": "python",
   "nbconvert_exporter": "python",
   "pygments_lexer": "ipython3",
   "version": "3.12.0"
  }
 },
 "nbformat": 4,
 "nbformat_minor": 2
}
