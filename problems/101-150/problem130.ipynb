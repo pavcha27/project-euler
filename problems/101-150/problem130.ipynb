{
 "cells": [
  {
   "cell_type": "code",
   "execution_count": 2,
   "metadata": {},
   "outputs": [],
   "source": [
    "import pandas as pd\n",
    "import numpy as np\n",
    "\n",
    "import random"
   ]
  },
  {
   "cell_type": "markdown",
   "metadata": {},
   "source": [
    "This problem was pretty fast if you reuse the code from problem 129 to get $A(n)$. I use the [Miller-Rabin primality test][1] for quickly checking if $n$ is prime.\n",
    "\n",
    "However, if we actually reuse some of the other work (that was too slow for the previous problem), we can get an even faster solution! What is important here is that we don't actually need to find $A(n)$, we just need to show that $A(n)$ divides $n-1$.\n",
    "\n",
    "Given $n$, we know that $A(n) = k \\iff R(k) = an$ for some $a \\in \\mathbb{N}$. Also, if ${n-1 \\equiv 0 \\mod k}$, and $n-1 = dk$ for some $d \\in \\mathbb{N}$. Then\n",
    "$$\n",
    "R(n-1) = R(dk) = R(k) \\sum_{i=0}^{d} 10^{ik} = n a \\sum_{i=0}^{d} 10^{ik} \\quad\\quad \\text{(imagine shifting $R(k)$ over by $k$ places for each multiple)}\n",
    "$$\n",
    "The important thing is that $a \\sum_{i=0}^{d} 10^{ik}$ is some natural number! So that means we can just check if $R(n-1) \\equiv 0 \\mod n$ (this proof has an $\\iff$ relationship, even though it's not written in). We can use the previous result that $R(n-1) = \\frac{10^{n-1} - 1}{9}$ so we just check $10^{n-1} \\equiv 1 \\mod 9n$ each time. This method is extremely fast, even able to find $100$ such composite values quickly.\n",
    "\n",
    "[1]: https://en.wikipedia.org/wiki/Miller%E2%80%93Rabin_primality_test"
   ]
  },
  {
   "cell_type": "code",
   "execution_count": 19,
   "metadata": {},
   "outputs": [],
   "source": [
    "def miller_rabin(n, k = 10):\n",
    "    if n <= 3:\n",
    "        return n == 2 or n == 3\n",
    "\n",
    "    if n % 2 == 0:\n",
    "        return False\n",
    "\n",
    "    r, s = 0, n - 1\n",
    "    while s % 2 == 0:\n",
    "        r += 1\n",
    "        s //= 2\n",
    "    for _ in range(k):\n",
    "        a = random.randrange(2, n - 1)\n",
    "        x = pow(a, s, n)\n",
    "        if x == 1 or x == n - 1:\n",
    "            continue\n",
    "        for _ in range(r - 1):\n",
    "            x = pow(x, 2, n)\n",
    "            if x == n - 1:\n",
    "                break\n",
    "        else:\n",
    "            return False\n",
    "    return True"
   ]
  },
  {
   "cell_type": "code",
   "execution_count": 22,
   "metadata": {},
   "outputs": [
    {
     "name": "stdout",
     "output_type": "stream",
     "text": [
      "149253\n"
     ]
    }
   ],
   "source": [
    "def min_repunit_k(n):\n",
    "    '''\n",
    "    Return minimum k such that n divides R(k).\n",
    "    '''\n",
    "\n",
    "    if n % 5 == 0 or n % 2 == 0:\n",
    "        raise ValueError('Only n with gcd(n, 10) = 1 are valid.')\n",
    "\n",
    "\n",
    "    k = 1\n",
    "    repunit = 1\n",
    "    while repunit != 0:\n",
    "        repunit *= 10\n",
    "        repunit += 1\n",
    "        repunit %= n\n",
    "\n",
    "        k += 1\n",
    "\n",
    "    return k\n",
    "\n",
    "n = 90\n",
    "vals = []\n",
    "while len(vals) < 25:\n",
    "    n += 1\n",
    "    # if n % 2 == 0 or n % 5 == 0:\n",
    "    #     continue\n",
    "\n",
    "    # k = min_repunit_k(n)\n",
    "\n",
    "    if not miller_rabin(n) and pow(10, n-1, 9*n) == 1: #(n-1) % k == 0:\n",
    "        vals.append(n)\n",
    "\n",
    "print(sum(vals))"
   ]
  },
  {
   "cell_type": "code",
   "execution_count": null,
   "metadata": {},
   "outputs": [],
   "source": []
  }
 ],
 "metadata": {
  "kernelspec": {
   "display_name": "Python 3",
   "language": "python",
   "name": "python3"
  },
  "language_info": {
   "codemirror_mode": {
    "name": "ipython",
    "version": 3
   },
   "file_extension": ".py",
   "mimetype": "text/x-python",
   "name": "python",
   "nbconvert_exporter": "python",
   "pygments_lexer": "ipython3",
   "version": "3.12.0"
  }
 },
 "nbformat": 4,
 "nbformat_minor": 2
}
