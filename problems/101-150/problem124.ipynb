{
 "cells": [
  {
   "cell_type": "code",
   "execution_count": 3,
   "metadata": {},
   "outputs": [],
   "source": [
    "import pandas as pd\n",
    "import numpy as np\n",
    "\n",
    "from collections import Counter\n",
    "from functools import reduce"
   ]
  },
  {
   "cell_type": "code",
   "execution_count": 52,
   "metadata": {},
   "outputs": [],
   "source": [
    "def sieve(n):\n",
    "    arr = [0,0,1] + [1,0]*(n//2 + 1)\n",
    "    i = 3\n",
    "    while i*i <= n:\n",
    "        if arr[i]:  \n",
    "            arr[i*i::2*i] = [0]*len(arr[i*i::2*i])\n",
    "        i += 2\n",
    "\n",
    "    ret = []\n",
    "    for (i, p) in enumerate(arr):\n",
    "        if p:\n",
    "            ret.append(i)\n",
    "\n",
    "    return arr, ret\n",
    "\n",
    "pbs, ps = sieve(10**5)"
   ]
  },
  {
   "cell_type": "code",
   "execution_count": 55,
   "metadata": {},
   "outputs": [
    {
     "data": {
      "text/plain": [
       "(21417, 1947)"
      ]
     },
     "execution_count": 55,
     "metadata": {},
     "output_type": "execute_result"
    }
   ],
   "source": [
    "rad = {i: 1 for i in range(1, 10**5 + 1)}\n",
    "rad[1] = 1\n",
    "for p in ps:\n",
    "    for i in range(p, 10**5 + 1, p):\n",
    "        rad[i] *= p\n",
    "\n",
    "sorted(rad.items(), key = lambda a: (a[1], a[0]))[9999]"
   ]
  }
 ],
 "metadata": {
  "kernelspec": {
   "display_name": "Python 3",
   "language": "python",
   "name": "python3"
  },
  "language_info": {
   "codemirror_mode": {
    "name": "ipython",
    "version": 3
   },
   "file_extension": ".py",
   "mimetype": "text/x-python",
   "name": "python",
   "nbconvert_exporter": "python",
   "pygments_lexer": "ipython3",
   "version": "3.12.0"
  }
 },
 "nbformat": 4,
 "nbformat_minor": 2
}
