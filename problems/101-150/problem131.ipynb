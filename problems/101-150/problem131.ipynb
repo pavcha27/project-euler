{
 "cells": [
  {
   "cell_type": "code",
   "execution_count": 1,
   "metadata": {},
   "outputs": [],
   "source": [
    "import pandas as pd\n",
    "import numpy as np\n",
    "\n",
    "import random"
   ]
  },
  {
   "cell_type": "markdown",
   "metadata": {},
   "source": [
    "If we just quickly look at the first handful of solution we see a nice pattern.\n",
    "$$\n",
    "\\begin{array}{|c|c|c|c|}\n",
    "\\hline\n",
    "p & n & n^3 + n^2 p & (n^3 + n^2 p)^{1/3} \\\\\n",
    "\\hline\n",
    "7 & 1 & 8 & 2 \\\\\n",
    "19 & 8 & 1728 & 12 \\\\\n",
    "37 & 27 & 46656 & 36 \\\\\n",
    "61 & 64 & 512000 & 80 \\\\\n",
    "127 & 216 & 16003008 & 252 \\\\\n",
    "\\vdots & \\vdots & \\vdots & \\vdots \\\\\n",
    "\\hline\n",
    "\\end{array}\n",
    "$$\n",
    "Looking at the this gives us an idea for another table:\n",
    "$$\n",
    "\\begin{array}{|c|c|c|c|}\n",
    "\\hline\n",
    "k & k^2 & k^3 & k^3 + k^2 \\\\\n",
    "\\hline\n",
    "1 & 1 & 1 & 2 \\\\\n",
    "2 & 4 & 8 & 12 \\\\\n",
    "3 & 9 & 27 & 36 \\\\\n",
    "4 & 16 & 64 & 80 \\\\\n",
    "5 & 25 & 125 & 150 \\\\\n",
    "6 & 36 & 216 & 252 \\\\\n",
    "\\vdots & \\vdots & \\vdots & \\vdots \\\\\n",
    "\\hline\n",
    "\\end{array}\n",
    "$$\n",
    "Notice how the last two column of this table line up with the second and fourth column of the first table! It seems (only by pattern) that $n$ must be a perfect cube, and that for some $p \\in \\mathbb{N}$ ($p$ might not be prime!), $n^3 + n^2 p = (n + n^{2/3})^3 = n^3 + 3n^{8/3} + 3n^{7/3} + n^2$. For example, when $n = 125$, the $p = 91$ which is not prime, but does indeed satisfy the equation that $(125)^3 + (125)^2 (91) = (125 + 25)^3$. Using this pattern, and Miller-Rabin for a quick primality test, we get the answer quickly."
   ]
  },
  {
   "cell_type": "code",
   "execution_count": 2,
   "metadata": {},
   "outputs": [],
   "source": [
    "def miller_rabin(n, k = 10):\n",
    "    if n <= 3:\n",
    "        return n == 2 or n == 3\n",
    "\n",
    "    if n % 2 == 0:\n",
    "        return False\n",
    "\n",
    "    r, s = 0, n - 1\n",
    "    while s % 2 == 0:\n",
    "        r += 1\n",
    "        s //= 2\n",
    "    for _ in range(k):\n",
    "        a = random.randrange(2, n - 1)\n",
    "        x = pow(a, s, n)\n",
    "        if x == 1 or x == n - 1:\n",
    "            continue\n",
    "        for _ in range(r - 1):\n",
    "            x = pow(x, 2, n)\n",
    "            if x == n - 1:\n",
    "                break\n",
    "        else:\n",
    "            return False\n",
    "    return True"
   ]
  },
  {
   "cell_type": "code",
   "execution_count": 17,
   "metadata": {},
   "outputs": [
    {
     "name": "stdout",
     "output_type": "stream",
     "text": [
      "173\n"
     ]
    }
   ],
   "source": [
    "max_prime = 10**6\n",
    "k = 1\n",
    "valid_primes = 0\n",
    "while True:\n",
    "    n = k*k*k\n",
    "    n2 = n*n\n",
    "    n3 = n*n*n\n",
    "\n",
    "    subres = n + k*k\n",
    "    res = subres*subres*subres\n",
    "\n",
    "    x = (res - n3) // n2\n",
    "    if x >= max_prime:\n",
    "        break\n",
    "\n",
    "    if miller_rabin(x):\n",
    "        valid_primes += 1\n",
    "\n",
    "    k += 1\n",
    "\n",
    "print(valid_primes)"
   ]
  },
  {
   "cell_type": "code",
   "execution_count": null,
   "metadata": {},
   "outputs": [],
   "source": []
  }
 ],
 "metadata": {
  "kernelspec": {
   "display_name": "Python 3",
   "language": "python",
   "name": "python3"
  },
  "language_info": {
   "codemirror_mode": {
    "name": "ipython",
    "version": 3
   },
   "file_extension": ".py",
   "mimetype": "text/x-python",
   "name": "python",
   "nbconvert_exporter": "python",
   "pygments_lexer": "ipython3",
   "version": "3.12.0"
  }
 },
 "nbformat": 4,
 "nbformat_minor": 2
}
