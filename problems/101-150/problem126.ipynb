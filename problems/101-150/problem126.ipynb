{
 "cells": [
  {
   "cell_type": "code",
   "execution_count": 86,
   "metadata": {},
   "outputs": [],
   "source": [
    "import pandas as pd\n",
    "import numpy as np\n",
    "\n",
    "from itertools import combinations_with_replacement\n",
    "from heapq import heapify, heappop, heappush"
   ]
  },
  {
   "cell_type": "markdown",
   "metadata": {},
   "source": [
    "After doing some visualizations in an [isometric 3d cube drawer][1], first, I decided to do some programming to add layers in a brute-force way (not even optimal brute force). To do this, I just find the location of every current cube of a given shape, and move it 6 possible ways (up, down, left, right, forward, back). That gives us the next layer.\n",
    "\n",
    "This very basic way was not intended to solve the problem but to hopefully get a pattern in the numbers--recursive geometry problems in general have a lot of patterns (call it the beauty of the universe). By testing out a few blocks we see the following pattern:\n",
    "$$\n",
    "\\begin{array} {| c | c | c | c |}\n",
    "\\hline\n",
    "\\text{layer} & 3 \\times 2 \\times 1 & 5 \\times 1 \\times 1 & 1 \\times 1 \\times 1 \\\\\n",
    "\\hline\n",
    "1 & 22 & 22 & 6 \\\\\n",
    "2 & 46 & 50 & 18 \\\\\n",
    "3 & 78 & 86 & 38 \\\\\n",
    "4 & 118 & 130 & 66 \\\\\n",
    "\\vdots & \\vdots & \\vdots & \\vdots \\\\\n",
    "\\hline\n",
    "\\end{array}\n",
    "$$\n",
    "\n",
    "The first pattern thing I did was try to subtract each row from each other. A pattern emerges!\n",
    "$$\n",
    "\\begin{array} {| c | c | c | c |}\n",
    "\\hline\n",
    "\\text{layer} & 3 \\times 2 \\times 1 & 5 \\times 1 \\times 1 & 1 \\times 1 \\times 1 \\\\\n",
    "\\hline\n",
    "1 \\to 2 & 24 & 28 & 12 \\\\\n",
    "2 \\to 3 & 32 & 36 & 20 \\\\\n",
    "3 \\to 4 & 40 & 44 & 24 \\\\\n",
    "\\vdots & \\vdots & \\vdots & \\vdots \\\\\n",
    "\\hline\n",
    "\\end{array}\n",
    "$$\n",
    "\n",
    "If we then take second differences, we see\n",
    "$$\n",
    "\\begin{array} {| c | c | c | c |}\n",
    "\\hline\n",
    "\\text{layer} & 3 \\times 2 \\times 1 & 5 \\times 1 \\times 1 & 1 \\times 1 \\times 1 \\\\\n",
    "\\hline\n",
    "(1 \\to 2) \\to (2 \\to 3)  & 8 & 8 & 8 \\\\\n",
    "(2 \\to 3) \\to (3 \\to 4) & 8 & 8 & 8 \\\\\n",
    "\\vdots & \\vdots & \\vdots & \\vdots \\\\\n",
    "\\hline\n",
    "\\end{array}\n",
    "$$\n",
    "\n",
    "(although I only display a few rows here and starting cuboids, I did check many more to see if the pattern holds)\n",
    "\n",
    "This is a great pattern, because it means that once we get the change from layers $1 \\to 2$, we can just add $8$ to it each time to get the following differences in layers. We could use brute-force to get the first two layers, but there happens to be an even better formula if we inspect the second table. It turns out that the change from layers $1 \\to 2$ is $4(l + w + h)$. By \"unrolling\" the second differences to get back to the numbers, this gives a nice recurrence relation:\n",
    "$$\n",
    "\\begin{align*}\n",
    "F(1) &= 2(lw + lh + wh) \\\\\n",
    "F(n) &= F(n-1) + 4(l + w + h) + 8(n-2)\n",
    "\\end{align*}\n",
    "$$\n",
    "\n",
    "From there calculating the volume of each cuboid up to $n$ is easy enough, you just keep counting up. I use an upper limit in my code which increases itself if no $n$ is found that has $C(n) = 1000$. So it stars at `max_vol = 100` but increments itself up until we find at least one hit for $C(n) = 1000$. Then take the minimum of those hits. It works well here.\n",
    "\n",
    "\n",
    "[1]: https://www.nctm.org/Classroom-Resources/Illuminations/Interactives/Isometric-Drawing-Tool/"
   ]
  },
  {
   "cell_type": "code",
   "execution_count": 2,
   "metadata": {},
   "outputs": [],
   "source": [
    "# physically add a layer to the shape\n",
    "def basic_add_layer(cuboid):\n",
    "    new_cuboid = cuboid.copy()\n",
    "    ls, ws, hs = np.where(cuboid == 1)\n",
    "    current_cubes = [(ls[i], ws[i], hs[i]) for i in range(len(ls))]\n",
    "\n",
    "    # six possible movements\n",
    "    movements = [(1,0,0), (-1,0,0), (0,1,0), (0,-1,0), (0,0,1), (0,0,-1)]\n",
    "\n",
    "    # count blocks changed to 1\n",
    "    blocks_added = set()\n",
    "\n",
    "    # go through every current block\n",
    "    for sl, sw, sh in current_cubes:\n",
    "        for dl,dw,dh in movements:\n",
    "            nl, nw, nh = sl+dl, sw+dw, sh+dh\n",
    "            if cuboid[nl, nw, nh] == 0:\n",
    "                blocks_added.add((nl, nw, nh))\n",
    "\n",
    "            new_cuboid[nl, nw, nh] = 1\n",
    "    \n",
    "    return new_cuboid.copy(), len(blocks_added)"
   ]
  },
  {
   "cell_type": "code",
   "execution_count": 3,
   "metadata": {},
   "outputs": [
    {
     "name": "stdout",
     "output_type": "stream",
     "text": [
      "22 22\n",
      "46 46\n",
      "78 78\n",
      "118 118\n",
      "166 166\n",
      "222 222\n",
      "286 286\n",
      "358 358\n",
      "438 438\n",
      "526 526\n",
      "622 622\n"
     ]
    }
   ],
   "source": [
    "l,w,h = 3,2,1\n",
    "\n",
    "cuboid = np.zeros((300,300,300), int)\n",
    "cuboid[150-l:150, 150-w:150, 150-h:150] = 1\n",
    "\n",
    "n_cubes = 0\n",
    "n_cubes2 = 2*(l*w + l*h + w*h)\n",
    "cntr = -1\n",
    "\n",
    "nc = cuboid.copy()\n",
    "\n",
    "# pretty slow even for just one cuboid and 10 layers -- not scalable\n",
    "# also requires creation of an array and scaling it up which is not scalable\n",
    "while cntr < 10:\n",
    "    nc, n_cubes = basic_add_layer(nc)\n",
    "\n",
    "    print(n_cubes, n_cubes2)\n",
    "    \n",
    "    cntr += 1\n",
    "    n_cubes2 += 4*(l+w+h) + 8*cntr\n"
   ]
  },
  {
   "cell_type": "code",
   "execution_count": 157,
   "metadata": {},
   "outputs": [],
   "source": [
    "# recursive approach\n",
    "layer_cache = {}\n",
    "def better_add_layer(dims, layer):\n",
    "    if (dims, layer) not in layer_cache:\n",
    "        l,w,h = dims\n",
    "        # by default add on one layer\n",
    "        if layer <= 1:\n",
    "            layer_cache[(dims, layer)] =  2*(l*w + l*h + w*h)\n",
    "        else:\n",
    "            layer_cache[(dims, layer)] = better_add_layer(dims, layer-1) + 4*(l+w+h) + 8*(layer - 2)\n",
    "    \n",
    "    return layer_cache[(dims, layer)]"
   ]
  },
  {
   "cell_type": "code",
   "execution_count": 160,
   "metadata": {},
   "outputs": [
    {
     "name": "stdout",
     "output_type": "stream",
     "text": [
      "100\n",
      "10100\n",
      "10 found\n",
      "100 found\n",
      "20100\n",
      "10 found\n",
      "100 found\n",
      "18522\n"
     ]
    }
   ],
   "source": [
    "prev_max_vol = 0\n",
    "max_vol = 100\n",
    "step_size = 10000\n",
    "\n",
    "while True:\n",
    "    c = {}\n",
    "    l,w,h = 1,1,1\n",
    "    print(max_vol)\n",
    "\n",
    "    while better_add_layer((l,1,1),1) <= max_vol:\n",
    "        while better_add_layer((l,w,1),1) <= max_vol and w <= l:\n",
    "            while better_add_layer((l,w,h),1) <= max_vol and h <= w:\n",
    "                layer = 1\n",
    "                while True:\n",
    "                    vol =  better_add_layer((l,w,h),layer)\n",
    "                    if vol > max_vol:\n",
    "                        break\n",
    "\n",
    "                    c[vol] = c.get(vol, 0) + 1\n",
    "                    layer += 1\n",
    "\n",
    "                h += 1\n",
    "        \n",
    "            w += 1\n",
    "            h = 1\n",
    "\n",
    "        l += 1\n",
    "        w = 1\n",
    "        h = 1\n",
    "\n",
    "\n",
    "    if 10 in c.values():\n",
    "        print(10, 'found')\n",
    "    if 100 in c.values():\n",
    "        print(100, 'found')\n",
    "\n",
    "    if 1000 in c.values():\n",
    "        break\n",
    "\n",
    "    max_vol += step_size\n",
    "\n",
    "for k in sorted(c.keys()):\n",
    "    if c[k] == 1000:\n",
    "        print(k)\n",
    "        break\n"
   ]
  },
  {
   "cell_type": "code",
   "execution_count": 161,
   "metadata": {},
   "outputs": [
    {
     "name": "stdout",
     "output_type": "stream",
     "text": [
      "18522\n"
     ]
    }
   ],
   "source": [
    "for k in sorted(c.keys()):\n",
    "    if c[k] == 1000:\n",
    "        print(k)\n",
    "        break"
   ]
  },
  {
   "cell_type": "code",
   "execution_count": null,
   "metadata": {},
   "outputs": [],
   "source": []
  }
 ],
 "metadata": {
  "kernelspec": {
   "display_name": "Python 3",
   "language": "python",
   "name": "python3"
  },
  "language_info": {
   "codemirror_mode": {
    "name": "ipython",
    "version": 3
   },
   "file_extension": ".py",
   "mimetype": "text/x-python",
   "name": "python",
   "nbconvert_exporter": "python",
   "pygments_lexer": "ipython3",
   "version": "3.12.0"
  }
 },
 "nbformat": 4,
 "nbformat_minor": 2
}
