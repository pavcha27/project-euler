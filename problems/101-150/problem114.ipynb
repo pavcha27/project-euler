{
 "cells": [
  {
   "cell_type": "code",
   "execution_count": 1,
   "metadata": {},
   "outputs": [],
   "source": [
    "import pandas as pd\n",
    "import numpy as np"
   ]
  },
  {
   "cell_type": "markdown",
   "metadata": {},
   "source": [
    "We do a simple couting algorithm with memoization or dynamic programming.\n",
    "\n",
    "The idea is that after I put down a certain block and choose a certain number of blocks, I am essentially asking the same problem but on the smaller row. For example, if I start with a row of $10$, put down a red block of size $5$, and choose to skip $1$, then there are $4$ blocks remaining, and the problem is now the same except starting with a row of $4$.\n",
    "\n",
    "Then all we have to do is count how many ways there are to place single blocks. For a row of size $n$, you can place $n-2$ of size $3$, $n-3$ of size $4$, and so on, until $1$ of size $n$. This is simply $1 + 2 + 3 + \\dots + (n - 2) = \\frac{(n-2)(n-1)}{2}$."
   ]
  },
  {
   "cell_type": "code",
   "execution_count": 70,
   "metadata": {},
   "outputs": [
    {
     "data": {
      "text/plain": [
       "16475640049"
      ]
     },
     "execution_count": 70,
     "metadata": {},
     "output_type": "execute_result"
    }
   ],
   "source": [
    "row_cache = [0]*(100)\n",
    "def block_count(n, suppress = True):\n",
    "    '''\n",
    "    Count ways to put red blocks fitting in row of length n.\n",
    "    '''\n",
    "    if n < 3:\n",
    "        return 0\n",
    "\n",
    "    # cache the result to speed up large computations\n",
    "    if row_cache[n] == 0:\n",
    "        num_ways = 1\n",
    "\n",
    "        # add number of ways to fill up the space with single blocks (not pairs)\n",
    "        num_ways += ((n-1)*(n-2)) // 2\n",
    "        \n",
    "        # to add more blocks, we approach as a sub-problem:\n",
    "        \n",
    "        # number of blocks to skip:\n",
    "        #    need to skip 1 block, but can skip up to n-6 blocks\n",
    "        #    if you skip more than n-6, then there are not enough blocks for a solution\n",
    "        for skip in range(1, n-5):\n",
    "            # the remaining is how much is left after the next block\n",
    "            #     for example, if n = 7, skip = 1, and remaining = 3,\n",
    "            #     this means we must have put down a 3 before, then skipping a block,\n",
    "            #     and we have 3 blocks remaining\n",
    "            for remaining in range(3, n-2-skip):\n",
    "                if not suppress: print(num_ways, remaining)\n",
    "                num_ways += block_count(remaining) - 1\n",
    "\n",
    "        row_cache[n] = num_ways\n",
    "    \n",
    "    return row_cache[n]\n",
    "\n",
    "block_count(50)"
   ]
  },
  {
   "cell_type": "markdown",
   "metadata": {},
   "source": [
    "We can do a similar solution with dynamic programming, adapted so that minimum block size and row size are both adaptable."
   ]
  },
  {
   "cell_type": "code",
   "execution_count": 76,
   "metadata": {},
   "outputs": [
    {
     "data": {
      "text/plain": [
       "16475640049"
      ]
     },
     "execution_count": 76,
     "metadata": {},
     "output_type": "execute_result"
    }
   ],
   "source": [
    "M = 3\n",
    "N = 50\n",
    "# bottom-up dynamic program\n",
    "block_counts = [1]*M\n",
    "for n in range(M, N+1):\n",
    "    # add all ways to add single blocks\n",
    "    num_ways = 1 + ((n-M+2)*(n-M+1)) // 2\n",
    "\n",
    "    # to add more blocks, we approach as a sub-problem:\n",
    "    # number of blocks to skip (at least 1)\n",
    "    for skip in range(1, n-M-M+1):\n",
    "        # the remaining is how much is left after putting down the next block\n",
    "        for remaining in range(M, n-M-skip+1):\n",
    "            num_ways += block_counts[remaining] - 1\n",
    "\n",
    "    block_counts.append(num_ways)\n",
    "\n",
    "block_counts[50]"
   ]
  },
  {
   "cell_type": "code",
   "execution_count": null,
   "metadata": {},
   "outputs": [],
   "source": []
  }
 ],
 "metadata": {
  "kernelspec": {
   "display_name": "Python 3",
   "language": "python",
   "name": "python3"
  },
  "language_info": {
   "codemirror_mode": {
    "name": "ipython",
    "version": 3
   },
   "file_extension": ".py",
   "mimetype": "text/x-python",
   "name": "python",
   "nbconvert_exporter": "python",
   "pygments_lexer": "ipython3",
   "version": "3.12.0"
  }
 },
 "nbformat": 4,
 "nbformat_minor": 2
}
