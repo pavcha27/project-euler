{
 "cells": [
  {
   "cell_type": "code",
   "execution_count": 62,
   "metadata": {},
   "outputs": [],
   "source": [
    "import pandas as pd\n",
    "import numpy as np\n",
    "\n",
    "import math"
   ]
  },
  {
   "cell_type": "markdown",
   "metadata": {},
   "source": [
    "With a quick Fibonacci algorithm, we know that $n$ is going to be big. When $n$ is big, there is a well-known result that the ratio between consecutive Fibonacci numbers is $\\varphi = \\frac{1 + \\sqrt{5}}{2}$ (the [Golden Ratio][1]). Thus we can just multiply on the golden ratio each time.\n",
    "\n",
    "However, to optimize this, we don't need to check the front and back every time. Instead, we can just check (and store) the last ninen digits of each Fibonacci number, then if it has the last nine digits pandigital, then we can use the golden ratio method (with only storing the first nine ten or eleven digits each time) or the matrix exponentiation method to quickly get the first nine digits.\n",
    "\n",
    "[1]: https://en.wikipedia.org/wiki/Fibonacci_sequence#Relation_to_the_golden_ratio"
   ]
  },
  {
   "cell_type": "code",
   "execution_count": 139,
   "metadata": {},
   "outputs": [],
   "source": [
    "def is_pandigital(n):\n",
    "    return set(str(n)) == set('123456789')\n",
    "\n",
    "def first_nine_digs(n):\n",
    "    exp = math.ceil(math.log10(n))\n",
    "    return n // 10**(exp - 9)\n",
    "\n",
    "def last_nine_digs(n):\n",
    "    return n % 10**9"
   ]
  },
  {
   "cell_type": "code",
   "execution_count": 140,
   "metadata": {},
   "outputs": [],
   "source": [
    "# Fibonacci quick matrix exponentiation\n",
    "def fib(n):\n",
    "    v1, v2, v3 = 1, 1, 0    # initialise a matrix [[1,1],[1,0]]\n",
    "    for rec in bin(n)[3:]:  # perform fast exponentiation of the matrix (quickly raise it to the nth power)\n",
    "        calc = v2*v2\n",
    "        v1, v2, v3 = v1*v1+calc, (v1+v3)*v2, calc+v3*v3\n",
    "        if rec=='1':\n",
    "            v1, v2, v3 = v1+v2, v1, v2\n",
    "    return v2"
   ]
  },
  {
   "cell_type": "code",
   "execution_count": 141,
   "metadata": {},
   "outputs": [
    {
     "name": "stdout",
     "output_type": "stream",
     "text": [
      "329468\n"
     ]
    }
   ],
   "source": [
    "a, b, n = 1, 1, 1\n",
    "while True:\n",
    "    # if the last nine digits are pandigital\n",
    "    if is_pandigital(last_nine_digs(a)):\n",
    "        # # then check the first nine digits\n",
    "        # phi = (1 + math.sqrt(5))/2\n",
    "        # # use Fn = round(phi^n / sqrt(5)), where phi is the golden ratio\n",
    "        # f = 1\n",
    "        # for i in range(n):\n",
    "        #     f *= phi\n",
    "        #     # we are only checking first nine digits, so can get rid of later digits\n",
    "        #     # reduce overflow issue\n",
    "        #     if f > 10**20:\n",
    "        #         f *= 10**-10\n",
    "        \n",
    "        # f = round(f / math.sqrt(5))\n",
    "        \n",
    "        f = fib(n)\n",
    "        if is_pandigital(first_nine_digs(f)):\n",
    "            print(n)\n",
    "            break\n",
    "\n",
    "\n",
    "    a, b = b, a+b\n",
    "    # only store last nine digits each time, to prevent overflow issues\n",
    "    b %= 10**9\n",
    "    n += 1"
   ]
  },
  {
   "cell_type": "code",
   "execution_count": null,
   "metadata": {},
   "outputs": [],
   "source": []
  }
 ],
 "metadata": {
  "kernelspec": {
   "display_name": "Python 3",
   "language": "python",
   "name": "python3"
  },
  "language_info": {
   "codemirror_mode": {
    "name": "ipython",
    "version": 3
   },
   "file_extension": ".py",
   "mimetype": "text/x-python",
   "name": "python",
   "nbconvert_exporter": "python",
   "pygments_lexer": "ipython3",
   "version": "3.12.0"
  }
 },
 "nbformat": 4,
 "nbformat_minor": 2
}
