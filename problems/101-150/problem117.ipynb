{
 "cells": [
  {
   "cell_type": "code",
   "execution_count": 1,
   "metadata": {},
   "outputs": [],
   "source": [
    "import pandas as pd\n",
    "import numpy as np"
   ]
  },
  {
   "cell_type": "markdown",
   "metadata": {},
   "source": [
    "This is similar to problem 116, except we can now shuffle the three block types."
   ]
  },
  {
   "cell_type": "code",
   "execution_count": 30,
   "metadata": {},
   "outputs": [
    {
     "data": {
      "text/plain": [
       "100808458960497"
      ]
     },
     "execution_count": 30,
     "metadata": {},
     "output_type": "execute_result"
    }
   ],
   "source": [
    "M = 2\n",
    "N = 50\n",
    "# bottom-up dynamic program\n",
    "# block_counts[2] = 2 since only 1 red block or blank\n",
    "# block_counts[3] = 4 since only 1 red block (two ways) or 1 green block or blank\n",
    "block_counts = [1,1,2,4]\n",
    "\n",
    "for n in range(4, N+1):\n",
    "    # add all ways to add single blocks\n",
    "    num_ways = 1 + 3*n - 3*M\n",
    "\n",
    "    # to add more blocks, we approach as a sub-problem:\n",
    "    # the remaining is the row left after putting down the next block\n",
    "    for block_size in [2,3,4]:\n",
    "        for remaining in range(M, n-block_size+1):\n",
    "            num_ways += block_counts[remaining] - 1\n",
    "    \n",
    "    block_counts.append(num_ways)\n",
    "\n",
    "block_counts[50]"
   ]
  },
  {
   "cell_type": "code",
   "execution_count": null,
   "metadata": {},
   "outputs": [],
   "source": []
  }
 ],
 "metadata": {
  "kernelspec": {
   "display_name": "Python 3",
   "language": "python",
   "name": "python3"
  },
  "language_info": {
   "codemirror_mode": {
    "name": "ipython",
    "version": 3
   },
   "file_extension": ".py",
   "mimetype": "text/x-python",
   "name": "python",
   "nbconvert_exporter": "python",
   "pygments_lexer": "ipython3",
   "version": "3.12.0"
  }
 },
 "nbformat": 4,
 "nbformat_minor": 2
}
