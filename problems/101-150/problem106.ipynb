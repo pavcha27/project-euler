{
 "cells": [
  {
   "cell_type": "code",
   "execution_count": 19,
   "metadata": {},
   "outputs": [],
   "source": [
    "import pandas as pd\n",
    "import numpy as np\n",
    "\n",
    "from itertools import combinations"
   ]
  },
  {
   "cell_type": "markdown",
   "metadata": {},
   "source": [
    "Since we know the $n$ elements are strictly increasing and distinct, and that rule 2 is satisfied, we only need to check subsets of the same size $k$, where $1 < k \\leq \\frac{n}{2}$. With this formulation, we can also see that there are no valid $k$ for $n = 1,2,3$.\n",
    "\n",
    "To filter out only sets we need to check, for each subset pair $b$ and $c$, if $b[i] < c[i]$ for each $0 < i < k$, then we don't need to check that pair. The remaining sets give us the right values."
   ]
  },
  {
   "cell_type": "code",
   "execution_count": 110,
   "metadata": {},
   "outputs": [
    {
     "name": "stdout",
     "output_type": "stream",
     "text": [
      "(1, 4) (2, 3)\n",
      "1 25 50\n"
     ]
    }
   ],
   "source": [
    "seen = set()\n",
    "n = 4\n",
    "final_cntr = 0\n",
    "total_cntr = 0\n",
    "for k in range(1, n):\n",
    "    # can just generate values in order 1, 2, 3, ..., n\n",
    "    base_set = set(i+1 for i in range(n))\n",
    "\n",
    "    for b in combinations(base_set, k):\n",
    "        sub_set = base_set - set(b)\n",
    "\n",
    "        for j in range(1, len(sub_set)+1):\n",
    "            for c in combinations(sub_set, j):\n",
    "                total_cntr += 1\n",
    "\n",
    "                # if b,c = c,b from before\n",
    "                if tuple((b,c)) in seen or tuple((c,b)) in seen:\n",
    "                    continue\n",
    "                \n",
    "                seen.add(tuple((b,c)))\n",
    "\n",
    "                if j != k or k == 1 or k > n // 2:\n",
    "                    continue\n",
    "            \n",
    "                # if all b[i] < c[i], then you can skip\n",
    "                if (np.array(b) < np.array(c)).all():\n",
    "                    continue\n",
    "\n",
    "                final_cntr += 1\n",
    "                print(b, c)\n",
    "\n",
    "print(final_cntr, len(seen), total_cntr)"
   ]
  },
  {
   "cell_type": "code",
   "execution_count": null,
   "metadata": {},
   "outputs": [],
   "source": []
  }
 ],
 "metadata": {
  "kernelspec": {
   "display_name": "Python 3",
   "language": "python",
   "name": "python3"
  },
  "language_info": {
   "codemirror_mode": {
    "name": "ipython",
    "version": 3
   },
   "file_extension": ".py",
   "mimetype": "text/x-python",
   "name": "python",
   "nbconvert_exporter": "python",
   "pygments_lexer": "ipython3",
   "version": "3.12.0"
  }
 },
 "nbformat": 4,
 "nbformat_minor": 2
}
