{
 "cells": [
  {
   "cell_type": "code",
   "execution_count": 85,
   "metadata": {},
   "outputs": [],
   "source": [
    "import pandas as pd\n",
    "import numpy as np"
   ]
  },
  {
   "cell_type": "markdown",
   "metadata": {},
   "source": [
    "This problem was relatively simple once you see the math trick. In particular, any repunit $R(k)$ satisfies\n",
    "$$\n",
    "R(k) = \\frac{10^{k} - 1}{9}\n",
    "$$\n",
    "\n",
    "Suppose $k = A(n)$ for some $n$. Since $gcd(n, 10) = 1 \\implies gcd(n, 10^{k}) = 1$ we know that\n",
    "$$\n",
    "R(k) \\equiv 0 \\mod n \\implies 10^{k} \\equiv 1 \\mod 9n\n",
    "$$\n",
    "\n",
    "So we just have to find smallest $k$ that satisfies this equivalence, which is easy with the python `pow` function which does modular exponentiation quickly. However, this method is kind of slow since we have to start at $k = 1$ each time. \n",
    "\n",
    "Instead, we first find a bound on our search space. Suppose we take the set $\\{R(k) \\mod n | k \\in \\mathbb{N}, k \\leq n+1\\}$. Note there are $n+1$ elements in the set, but there are only $n$ possible remainders ($0 \\leq a \\mod n \\leq n-1$). This means by the pigeonhold principle, we must have two repunit from the set, $R(i)$ and $R(j)$, such that $R(i) \\equiv R(j) \\mod n$. Suppose, WLOG, $j > i$. Then $R(j) - R(i) = R(j-i) \\cdot 10^{i}$ (i.e., the last $i$ ones subtract out of $R(j)$). Of course, $j-i \\leq n+1 - 1 = n$. But we also know that \n",
    "$$\n",
    "R(j) \\equiv R(i) \\mod n \\implies R(j) - R(i) \\equiv 0 \\mod n \\implies R(j-i) 10^{i} \\equiv 0 \\mod n \\implies R(j-i) \\equiv 0 \\mod n\n",
    "$$\n",
    "\n",
    "So what we have just shown is any solution $A(n) = j-i$ must have $A(n) \\leq n$. This tells us if we want $A(n) > 10^6$, then we need $n > 10^6$. This reduces our search space significantly.\n",
    "\n",
    "Finally, for an additional speedup, it is actually faster to use a recurrence relation \n",
    "$$\n",
    "R(k+1) = 10R(k) + 1 \\implies {R(k+1)\\mod n} = 10({R(k) \\mod n}) + 1\n",
    "$$\n",
    "\n",
    "This turns out to be must faster, since we don't have to use modular exponentiation."
   ]
  },
  {
   "cell_type": "code",
   "execution_count": 102,
   "metadata": {},
   "outputs": [
    {
     "name": "stdout",
     "output_type": "stream",
     "text": [
      "1000023 1000020\n"
     ]
    }
   ],
   "source": [
    "lower_limit = 10**6\n",
    "n = lower_limit + 1\n",
    "while True:\n",
    "    if n % 10 == 0:\n",
    "        n += 1\n",
    "        continue\n",
    "\n",
    "    k = 1\n",
    "    while k < n:\n",
    "        # if power found, break\n",
    "        if pow(10, k, 9*n) == 1:\n",
    "            break\n",
    "\n",
    "        k += 1\n",
    "    \n",
    "    if lower_limit < k <= n and pow(10, k, 9*n) == 1:\n",
    "        print(n, k)\n",
    "        break\n",
    "\n",
    "    n += 1"
   ]
  },
  {
   "cell_type": "code",
   "execution_count": 121,
   "metadata": {},
   "outputs": [
    {
     "name": "stdout",
     "output_type": "stream",
     "text": [
      "1000001 failed since A(1000001) = 12 <= 10**6.\n",
      "1000002 failed since gcd(1000002, 10) = 1.\n",
      "1000003 failed since A(1000003) = 166667 <= 10**6.\n",
      "1000004 failed since gcd(1000004, 10) = 1.\n",
      "1000005 failed since gcd(1000005, 10) = 1.\n",
      "1000006 failed since gcd(1000006, 10) = 1.\n",
      "1000007 failed since A(1000007) = 68964 <= 10**6.\n",
      "1000008 failed since gcd(1000008, 10) = 1.\n",
      "1000009 failed since A(1000009) = 124538 <= 10**6.\n",
      "1000010 failed since gcd(1000010, 10) = 1.\n",
      "1000011 failed since A(1000011) = 333336 <= 10**6.\n",
      "1000012 failed since gcd(1000012, 10) = 1.\n",
      "1000013 failed since A(1000013) = 35526 <= 10**6.\n",
      "1000014 failed since gcd(1000014, 10) = 1.\n",
      "1000015 failed since gcd(1000015, 10) = 1.\n",
      "1000016 failed since gcd(1000016, 10) = 1.\n",
      "1000017 failed since A(1000017) = 159390 <= 10**6.\n",
      "1000018 failed since gcd(1000018, 10) = 1.\n",
      "1000019 failed since A(1000019) = 27186 <= 10**6.\n",
      "1000020 failed since gcd(1000020, 10) = 1.\n",
      "1000021 failed since A(1000021) = 90910 <= 10**6.\n",
      "1000022 failed since gcd(1000022, 10) = 1.\n",
      "1000023 is the solution since A(1000023) = 1000020 > 10**6.\n"
     ]
    }
   ],
   "source": [
    "def min_repunit_k(n):\n",
    "    '''\n",
    "    Return minimum k such that n divides R(k).\n",
    "    '''\n",
    "\n",
    "    if n % 5 == 0 or n % 2 == 0:\n",
    "        raise ValueError('Only n with gcd(n, 10) = 1 are valid.')\n",
    "\n",
    "\n",
    "    k = 1\n",
    "    repunit = 1\n",
    "    while repunit != 0:\n",
    "        repunit *= 10\n",
    "        repunit += 1\n",
    "        repunit %= n\n",
    "\n",
    "        k += 1\n",
    "\n",
    "    return k\n",
    "\n",
    "lower_limit = 10**6\n",
    "try:\n",
    "    n = lower_limit\n",
    "    k = min_repunit_k(n)\n",
    "except:\n",
    "    k = -1\n",
    "\n",
    "while k < lower_limit:\n",
    "    try:\n",
    "        n += 1\n",
    "        k = min_repunit_k(n)\n",
    "        if 1 <= k <= 10**6:\n",
    "            print(f\"{n} failed since A({n}) = {k} <= 10**6.\")\n",
    "    except ValueError as e:\n",
    "        print(f\"{n} failed since gcd({n}, 10) = 1.\")\n",
    "\n",
    "print(f\"{n} is the solution since A({n}) = {k} > 10**6.\")"
   ]
  },
  {
   "cell_type": "code",
   "execution_count": null,
   "metadata": {},
   "outputs": [],
   "source": []
  },
  {
   "cell_type": "code",
   "execution_count": null,
   "metadata": {},
   "outputs": [],
   "source": []
  }
 ],
 "metadata": {
  "kernelspec": {
   "display_name": "Python 3",
   "language": "python",
   "name": "python3"
  },
  "language_info": {
   "codemirror_mode": {
    "name": "ipython",
    "version": 3
   },
   "file_extension": ".py",
   "mimetype": "text/x-python",
   "name": "python",
   "nbconvert_exporter": "python",
   "pygments_lexer": "ipython3",
   "version": "3.12.0"
  }
 },
 "nbformat": 4,
 "nbformat_minor": 2
}
