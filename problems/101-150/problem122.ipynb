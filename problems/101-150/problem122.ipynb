{
 "cells": [
  {
   "cell_type": "code",
   "execution_count": 55,
   "metadata": {},
   "outputs": [],
   "source": [
    "import pandas as pd\n",
    "import numpy as np"
   ]
  },
  {
   "cell_type": "markdown",
   "metadata": {},
   "source": [
    "I did this problem with a backtracking method, both recursively and iteratively. In both approaches, the idea is to start at $1$ and add exponents going forward each time. So for example:\n",
    "$$\n",
    "\\begin{align*}\n",
    "&[(1)] \\\\\n",
    "\\implies & [(1, 1+1)] = [(1,2)] \\\\\n",
    "\\implies & [(1, 2, 2+1), (1, 2, 2+2)] = [(1,2,3), (1,2,4)] \\\\\n",
    "\\implies & [(1, 2, 3, 3+1), (1, 2, 4, 4+1), \\dots, (1,2,3,4,4+4)] = [(1,2,3,4), (1,2,4,5), \\dots, (1,2,3,4,8)] \\\\\n",
    "\\implies & \\vdots\n",
    "\\end{align*}\n",
    "$$\n",
    "\n",
    "Notice in the third row and fourth row--$(1,2,3,4)$ appears twice! This means in the second time, we can prune and discard it, since we must have already checked $(1,2,3,4)$ before! We track this using a simple array storing the backtracking path distance to each number--if we have seen that number on a shorter path, you can prune and skip. So in this example, we have already seen $4$ on row $2$ (i.e., path distance = $2$), so we don't need to check it again when we reach row $3$.\n",
    "\n",
    "The recursive approach is similar."
   ]
  },
  {
   "cell_type": "code",
   "execution_count": 141,
   "metadata": {},
   "outputs": [
    {
     "name": "stdout",
     "output_type": "stream",
     "text": [
      "[ 0  0  1  2  2  3  3  4  3  4  4  5  4  5  5  5  4  5  5  6  5  6  6  6\n",
      "  5  6  6  6  6  7  6  7  5  6  6  7  6  7  7  7  6  7  7  7  7  7  7  8\n",
      "  6  7  7  7  7  8  7  8  7  8  8  8  7  8  8  8  6  7  7  8  7  8  8  9\n",
      "  7  8  8  8  8  8  8  9  7  8  8  8  8  8  8  9  8  9  8  9  8  9  9  9\n",
      "  7  8  8  8  8  9  8  9  8  9  9  9  8  9  9  9  8  9  9  9  9  9  9  9\n",
      "  8  9  9  9  9  9  9 10  7  8  8  9  8  9  9  9  8  9  9 10  9 10 10 10\n",
      "  8  9  9  9  9  9  9 10  9  9  9 10  9 10 10 10  8  9  9  9  9  9  9 10\n",
      "  9 10  9 10  9 10 10 10  9 10 10 10  9 10 10 10  9 10 10 10 10 10 10 11\n",
      "  8  9  9  9  9 10  9 10  9] 1582\n"
     ]
    }
   ],
   "source": [
    "target = {i for i in range(1,201)}\n",
    "m = max(target)\n",
    "queue = [[1]]\n",
    "path = 0\n",
    "\n",
    "min_exps = 1000 * np.ones(201, int)\n",
    "min_exps[0] = 0\n",
    "min_exps[1] = 0\n",
    "\n",
    "\n",
    "while max(min_exps) > 20:\n",
    "    path += 1\n",
    "    new_queue = []\n",
    "    for curr in queue[::-1]:\n",
    "        for c in curr[::-1]:\n",
    "            val_to_add = curr[-1] + c\n",
    "            if val_to_add > m:\n",
    "                continue\n",
    "\n",
    "            if min_exps[val_to_add] < path:\n",
    "                continue\n",
    "\n",
    "            min_exps[val_to_add] = path\n",
    "            new_queue.append(curr + [val_to_add])\n",
    "             \n",
    "    queue = new_queue.copy()\n",
    "\n",
    "print(min_exps, sum(min_exps))"
   ]
  },
  {
   "cell_type": "code",
   "execution_count": 150,
   "metadata": {},
   "outputs": [
    {
     "name": "stdout",
     "output_type": "stream",
     "text": [
      "[ 0  0  1  2  2  3  3  4  3  4  4  5  4  5  5  5  4  5  5  6  5  6  6  6\n",
      "  5  6  6  6  6  7  6  7  5  6  6  7  6  7  7  7  6  7  7  7  7  7  7  8\n",
      "  6  7  7  7  7  8  7  8  7  8  8  8  7  8  8  8  6  7  7  8  7  8  8  9\n",
      "  7  8  8  8  8  8  8  9  7  8  8  8  8  8  8  9  8  9  8  9  8  9  9  9\n",
      "  7  8  8  8  8  9  8  9  8  9  9  9  8  9  9  9  8  9  9  9  9  9  9  9\n",
      "  8  9  9  9  9  9  9 10  7  8  8  9  8  9  9  9  8  9  9 10  9 10 10 10\n",
      "  8  9  9  9  9  9  9 10  9  9  9 10  9 10 10 10  8  9  9  9  9  9  9 10\n",
      "  9 10  9 10  9 10 10 10  9 10 10 10  9 10 10 10  9 10 10 10 10 10 10 11\n",
      "  8  9  9  9  9 10  9 10  9] 1582\n"
     ]
    }
   ],
   "source": [
    "min_exps = 10**5 * np.ones(201, int)\n",
    "min_exps[0] = 0\n",
    "def min_exp(start, curr_chain = []):    \n",
    "    if not (1 <= start <= 200) or len(curr_chain) > 15:\n",
    "        return\n",
    "    \n",
    "    if min_exps[start] < len(curr_chain):\n",
    "        return\n",
    "    \n",
    "    min_exps[start] = len(curr_chain)\n",
    "    curr_chain.append(start)\n",
    "    \n",
    "    for curr in curr_chain[::-1]:\n",
    "        if 1 <= curr + start <= 200:\n",
    "            min_exp(curr + start, curr_chain.copy())\n",
    "    \n",
    "    return\n",
    "\n",
    "min_exp(1)\n",
    "print(min_exps, sum(min_exps))"
   ]
  },
  {
   "cell_type": "code",
   "execution_count": null,
   "metadata": {},
   "outputs": [],
   "source": []
  }
 ],
 "metadata": {
  "kernelspec": {
   "display_name": "Python 3",
   "language": "python",
   "name": "python3"
  },
  "language_info": {
   "codemirror_mode": {
    "name": "ipython",
    "version": 3
   },
   "file_extension": ".py",
   "mimetype": "text/x-python",
   "name": "python",
   "nbconvert_exporter": "python",
   "pygments_lexer": "ipython3",
   "version": "3.12.0"
  }
 },
 "nbformat": 4,
 "nbformat_minor": 2
}
