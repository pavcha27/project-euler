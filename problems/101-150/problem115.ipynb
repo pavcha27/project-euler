{
 "cells": [
  {
   "cell_type": "code",
   "execution_count": 1,
   "metadata": {},
   "outputs": [],
   "source": [
    "import pandas as pd\n",
    "import numpy as np"
   ]
  },
  {
   "cell_type": "markdown",
   "metadata": {},
   "source": [
    "We can use the dynamic programming approach from the problem 114, with a modification for editing $m$ and $n$."
   ]
  },
  {
   "cell_type": "code",
   "execution_count": 52,
   "metadata": {},
   "outputs": [
    {
     "name": "stdout",
     "output_type": "stream",
     "text": [
      "168 : 1053389\n"
     ]
    }
   ],
   "source": [
    "M = 50\n",
    "# bottom-up dynamic program\n",
    "block_counts = [1]*M\n",
    "n = M\n",
    "while block_counts[-1] < 10**6:\n",
    "    # add all ways to add single blocks\n",
    "    num_ways = 1 + ((n-M+2)*(n-M+1)) // 2\n",
    "\n",
    "    # to add more blocks, we approach as a sub-problem:\n",
    "    # number of blocks to skip (at least 1)\n",
    "    for skip in range(1, n-M-M+1):\n",
    "        # the remaining is how much is left after putting down the next block\n",
    "        for remaining in range(M, n-M-skip+1):\n",
    "            num_ways += block_counts[remaining] - 1\n",
    "\n",
    "    block_counts.append(num_ways)\n",
    "    if block_counts[-1] > 10**6: print(n, \":\", block_counts[-1])\n",
    "\n",
    "    n += 1"
   ]
  },
  {
   "cell_type": "code",
   "execution_count": null,
   "metadata": {},
   "outputs": [],
   "source": []
  }
 ],
 "metadata": {
  "kernelspec": {
   "display_name": "Python 3",
   "language": "python",
   "name": "python3"
  },
  "language_info": {
   "codemirror_mode": {
    "name": "ipython",
    "version": 3
   },
   "file_extension": ".py",
   "mimetype": "text/x-python",
   "name": "python",
   "nbconvert_exporter": "python",
   "pygments_lexer": "ipython3",
   "version": "3.12.0"
  }
 },
 "nbformat": 4,
 "nbformat_minor": 2
}
