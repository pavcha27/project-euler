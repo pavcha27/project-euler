{
 "cells": [
  {
   "cell_type": "code",
   "execution_count": 4,
   "metadata": {},
   "outputs": [],
   "source": [
    "import pandas as pd\n",
    "import numpy as np\n",
    "\n",
    "from itertools import combinations, product"
   ]
  },
  {
   "cell_type": "code",
   "execution_count": 14,
   "metadata": {},
   "outputs": [],
   "source": [
    "def check_special_sum(num_set):\n",
    "    # if there are repeats then no need to check\n",
    "    if len(num_set) != len(set(num_set)):\n",
    "        return False\n",
    "    \n",
    "    num_set = set(num_set)\n",
    "\n",
    "    # for every 2 disjoin subsets\n",
    "    for i in range(1, len(num_set)):\n",
    "        for j in range(i, len(num_set)):\n",
    "            for t1 in combinations(num_set, i):\n",
    "                for t2 in combinations(num_set - set(t1), j):\n",
    "                    if sum(t1) == sum(t2):\n",
    "                        return False\n",
    "                    \n",
    "                    if j > i and sum(t1) > sum(t2):\n",
    "                        return False\n",
    "\n",
    "\n",
    "    return True"
   ]
  },
  {
   "cell_type": "code",
   "execution_count": null,
   "metadata": {},
   "outputs": [],
   "source": [
    "[1,2,3,4]\n",
    "[1,2,3,5]\n",
    "[1,2,4,5]\n",
    "[1,3,4,5]\n",
    "\n",
    "# reset\n",
    "[1,2,3,6]\n"
   ]
  },
  {
   "cell_type": "code",
   "execution_count": 211,
   "metadata": {},
   "outputs": [],
   "source": [
    "set_cache = {1: {1}}\n",
    "def set_generation(n, suppress = True):\n",
    "    '''\n",
    "    Generates a subset of size n \n",
    "    '''\n",
    "    if n not in set_cache:\n",
    "        prev_set = sorted(set_generation(n-1))\n",
    "        min_val = prev_set[(n-1)//2]\n",
    "\n",
    "        min_set = np.array([min_val] + [min_val + p for p in prev_set], int)\n",
    "        if not suppress: print(f\"The heuristic produced a valid special sum set for n = {n}:\", check_special_sum(min_set))\n",
    "\n",
    "        k = 4 # min_set[1] - min_set[0] - 1\n",
    "        # ranges = [range(0,1)]\n",
    "\n",
    "        # for i in range(1, n):\n",
    "        #     k = min_set[i] - min_set[i-1] - 1\n",
    "        #     ranges.append(range(-1*k, k+1))\n",
    "\n",
    "        if not suppress: print(k, min_set)\n",
    "\n",
    "        for t in product(range(-k, k+1), repeat = n-1): # product(*ranges):\n",
    "            if sum(t) >= 0:\n",
    "                continue\n",
    "\n",
    "            vals_to_add = np.array([0] + list(t), int)\n",
    "            new_set = min_set + vals_to_add\n",
    "\n",
    "            if (new_set != np.sort(new_set)).any():\n",
    "                continue\n",
    "\n",
    "            if check_special_sum(new_set) and sum(new_set) < sum(min_set):\n",
    "                if not suppress: print(new_set)\n",
    "                min_set = new_set.copy()\n",
    "\n",
    "\n",
    "        set_cache[n] = set(min_set)\n",
    "\n",
    "\n",
    "    return set_cache[n]"
   ]
  },
  {
   "cell_type": "code",
   "execution_count": 212,
   "metadata": {},
   "outputs": [
    {
     "name": "stdout",
     "output_type": "stream",
     "text": [
      "The heuristic produced a valid special sum set for n = 7: True\n",
      "4 [20 31 38 39 40 42 45]\n"
     ]
    },
    {
     "data": {
      "text/plain": [
       "{20, 31, 38, 39, 40, 42, 45}"
      ]
     },
     "execution_count": 212,
     "metadata": {},
     "output_type": "execute_result"
    }
   ],
   "source": [
    "set_generation(7, False)"
   ]
  },
  {
   "cell_type": "code",
   "execution_count": 213,
   "metadata": {},
   "outputs": [
    {
     "data": {
      "text/plain": [
       "{1: {1},\n",
       " 2: {1, 2},\n",
       " 3: {2, 3, 4},\n",
       " 4: {3, 5, 6, 7},\n",
       " 5: {6, 9, 11, 12, 13},\n",
       " 6: {11, 18, 19, 20, 22, 25},\n",
       " 7: {20, 31, 38, 39, 40, 42, 45}}"
      ]
     },
     "execution_count": 213,
     "metadata": {},
     "output_type": "execute_result"
    }
   ],
   "source": [
    "set_cache"
   ]
  },
  {
   "cell_type": "code",
   "execution_count": null,
   "metadata": {},
   "outputs": [],
   "source": []
  }
 ],
 "metadata": {
  "kernelspec": {
   "display_name": "Python 3",
   "language": "python",
   "name": "python3"
  },
  "language_info": {
   "codemirror_mode": {
    "name": "ipython",
    "version": 3
   },
   "file_extension": ".py",
   "mimetype": "text/x-python",
   "name": "python",
   "nbconvert_exporter": "python",
   "pygments_lexer": "ipython3",
   "version": "3.12.0"
  }
 },
 "nbformat": 4,
 "nbformat_minor": 2
}
