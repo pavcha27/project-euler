{
 "cells": [
  {
   "cell_type": "code",
   "execution_count": 44,
   "metadata": {},
   "outputs": [],
   "source": [
    "import pandas as pd\n",
    "import numpy as np\n",
    "\n",
    "import math"
   ]
  },
  {
   "cell_type": "markdown",
   "metadata": {},
   "source": [
    "In general, following a similar proof to problem 130 (\"shifting\" values over by $x^{a-1}$ each time here),\n",
    "$$\n",
    "R(x^a) = R(x x^{a-1}) = R(x^{a-1}) \\sum_{i=0}^{x} 10^{i x^{a-1}}\n",
    "$$\n",
    "Since the summation is an natural number (it's just sum of $10$ to some power), this shows us that $R(x^{a-1})$ is always a factor of $R(x^a)$. So this means we can solve the problem quickly by just nuking it with a really large value for the exponent $a$, and it will cover all the previous exponents prime factors. Even with an unneccesarily large exponent, the code runs very fast, using `pow` for modular exponentiation.\n",
    "\n",
    "However, the result is even more general! What we know is actually that $R(k) \\equiv 0 \\mod n \\iff k \\equiv 0 \\mod A(n)$. Remember that $R(A(n))$ is the smallest repunit that is divisible by $n$. So this $k$ must be larger than $A(n)$ and $k$ must be a multiple of $A(n)$. In particular what this tells us is that if $p$ is a prime factor of $R(10^9)$, then $A(p)$ is a factor of $10^9$. But that's only possible if $A(p)$ has $2$ and $5$ as prime factors, since $10^9$ has only $2$ and $5$ as prime factors!\n",
    "\n",
    "This gives us another way to solve the problem--find all the $p$ where $A(p)$ has only $2$ and $5$ as prime factors. However we don't actually have to calculate $A(p)$, since that's slow. Instead we can combine the two above methods: use the second method to find the best exponent to \"nuke\" with for the first method. \n",
    "\n",
    "Suppose $A(p) = 2^a 5^b$. Consider some upper bound $L$ (in this problem $L = 10^5$). Then the largest possible exponent is when $2^{a-1} < A(p) = 2^a < L \\implies a = \\lfloor \\log_2(L) \\rfloor$. This means we set $n = 10^a$ as the exponent and \"nuke\" the problem."
   ]
  },
  {
   "cell_type": "code",
   "execution_count": 54,
   "metadata": {},
   "outputs": [],
   "source": [
    "def sieve(n):\n",
    "    arr = [0,0,1] + [1,0]*(n//2 + 1)\n",
    "    i = 3\n",
    "    while i*i <= n:\n",
    "        if arr[i]:  \n",
    "            arr[i*i::2*i] = [0]*len(arr[i*i::2*i])\n",
    "        i += 2\n",
    "\n",
    "    ret = []\n",
    "    for (i, p) in enumerate(arr):\n",
    "        if p:\n",
    "            ret.append(i)\n",
    "\n",
    "    return arr, ret\n",
    "\n",
    "limit = 10**5\n",
    "pbs, ps = sieve(limit)"
   ]
  },
  {
   "cell_type": "code",
   "execution_count": 55,
   "metadata": {},
   "outputs": [
    {
     "data": {
      "text/plain": [
       "453647705"
      ]
     },
     "execution_count": 55,
     "metadata": {},
     "output_type": "execute_result"
    }
   ],
   "source": [
    "to_check = set([p for p in ps if p < limit])\n",
    "n = math.floor(math.log2(limit))\n",
    "repunit_size = pow(10,n)\n",
    "prime_factors = set()\n",
    "for p in to_check:\n",
    "    if pow(10, repunit_size, 9*p) == 1:\n",
    "        prime_factors.add(p)\n",
    "\n",
    "to_check = to_check - prime_factors\n",
    "\n",
    "sum(to_check)"
   ]
  },
  {
   "cell_type": "code",
   "execution_count": null,
   "metadata": {},
   "outputs": [],
   "source": []
  }
 ],
 "metadata": {
  "kernelspec": {
   "display_name": "Python 3",
   "language": "python",
   "name": "python3"
  },
  "language_info": {
   "codemirror_mode": {
    "name": "ipython",
    "version": 3
   },
   "file_extension": ".py",
   "mimetype": "text/x-python",
   "name": "python",
   "nbconvert_exporter": "python",
   "pygments_lexer": "ipython3",
   "version": "3.12.0"
  }
 },
 "nbformat": 4,
 "nbformat_minor": 2
}
