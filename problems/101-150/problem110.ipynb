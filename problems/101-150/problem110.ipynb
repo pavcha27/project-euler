{
 "cells": [
  {
   "cell_type": "code",
   "execution_count": 1,
   "metadata": {},
   "outputs": [],
   "source": [
    "import pandas as pd\n",
    "import numpy as np\n",
    "\n",
    "from collections import Counter\n",
    "from itertools import product"
   ]
  },
  {
   "cell_type": "code",
   "execution_count": 11,
   "metadata": {},
   "outputs": [],
   "source": [
    "def sieve(n):\n",
    "    arr = [0,0,1] + [1,0]*(n//2 + 1)\n",
    "    i = 3\n",
    "    while i*i <= n:\n",
    "        if arr[i]:  \n",
    "            arr[i*i::2*i] = [0]*len(arr[i*i::2*i])\n",
    "        i += 2\n",
    "\n",
    "    ret = []\n",
    "    for (i, p) in enumerate(arr):\n",
    "        if p:\n",
    "            ret.append(i)\n",
    "\n",
    "    return arr, ret\n",
    "\n",
    "def prime_factorize(num, primes = None):\n",
    "    prime_factors = []\n",
    "\n",
    "    n = num\n",
    "    for p in primes:\n",
    "        if n == 1 or p > n:\n",
    "            break\n",
    "        while n % p == 0:\n",
    "            prime_factors.append(p)\n",
    "            n //= p\n",
    "\n",
    "    return Counter(prime_factors)\n"
   ]
  },
  {
   "cell_type": "code",
   "execution_count": 40,
   "metadata": {},
   "outputs": [
    {
     "name": "stdout",
     "output_type": "stream",
     "text": [
      "3434224849563382875 5166788\n",
      "2060534909738029725 5166788\n",
      "1471810649812878375 4340102\n",
      "457896646608451050 6643013\n",
      "327069033291750750 5580131\n",
      "274737987965070630 6643013\n",
      "196241419975050450 6643013\n",
      "185633775652074750 5166788\n",
      "167523163393335750 5166788\n",
      "159731388351785250 5166788\n",
      "117744851985030270 5580131\n",
      "111380265391244850 5166788\n",
      "100513898036001450 5166788\n",
      "95838833011071150 5166788\n",
      "94955525794379250 4340102\n",
      "79557332422317750 4340102\n",
      "71795641454286750 4340102\n",
      "68456309293622250 4340102\n",
      "67009265357334300 6150938\n",
      "63892555340714100 6150938\n",
      "63303683862919500 5166788\n",
      "53038221614878500 5166788\n",
      "47863760969524500 5166788\n",
      "45637539529081500 5166788\n",
      "44552106156497940 5166788\n",
      "40205559214400580 5166788\n",
      "38335533204428460 5166788\n",
      "37982210317751700 5166788\n",
      "31822932968927100 5166788\n",
      "28718256581714700 5166788\n",
      "27382523717448900 5166788\n",
      "27165918388108500 4018613\n",
      "25902387300289500 4018613\n",
      "23375325124651500 4018613\n",
      "21215288645951400 5166788\n",
      "19145504387809800 5166788\n",
      "18255015811632600 5166788\n",
      "18110612258739000 4018613\n",
      "17268258200193000 4018613\n",
      "15583550083101000 4018613\n",
      "15192884127100680 4340102\n",
      "12729173187570840 4340102\n",
      "11487302632685880 4340102\n",
      "10953009486979560 4340102\n",
      "10866367355243400 4018613\n",
      "10360954920115800 4018613\n",
      "9350130049860600 4018613\n"
     ]
    }
   ],
   "source": [
    "pbs, ps = sieve(40)\n",
    "ranges = [range(5), range(5), range(5), range(3)] + [range(2)]*(len(ps) - 4)\n",
    "\n",
    "best_n = 10 ** 10000\n",
    "ns = []\n",
    "for t in product(*ranges):\n",
    "    n = 1\n",
    "    cnt = 1\n",
    "    for i in range(len(ps)):\n",
    "        n *= ps[i] ** t[i]\n",
    "\n",
    "        # 2*t[i] since solutions are the factors of n**2\n",
    "        cnt *= 2*t[i] + 1\n",
    "\n",
    "    # dedupe\n",
    "    cnt = (cnt // 2) + 1\n",
    "\n",
    "    if cnt > 4 * 10**6:\n",
    "        if n < best_n:\n",
    "            print(n, cnt)\n",
    "            best_n = n\n",
    "        ns.append((t, n, cnt))\n"
   ]
  },
  {
   "cell_type": "code",
   "execution_count": 37,
   "metadata": {},
   "outputs": [
    {
     "data": {
      "text/plain": [
       "((3, 3, 2, 2, 1, 1, 1, 1, 1, 1, 1, 1), 9350130049860600, 4018613)"
      ]
     },
     "execution_count": 37,
     "metadata": {},
     "output_type": "execute_result"
    }
   ],
   "source": [
    "sorted(ns, key = lambda a: (a[2], a[1], a[0]))[0]"
   ]
  },
  {
   "cell_type": "code",
   "execution_count": null,
   "metadata": {},
   "outputs": [],
   "source": []
  }
 ],
 "metadata": {
  "kernelspec": {
   "display_name": "Python 3",
   "language": "python",
   "name": "python3"
  },
  "language_info": {
   "codemirror_mode": {
    "name": "ipython",
    "version": 3
   },
   "file_extension": ".py",
   "mimetype": "text/x-python",
   "name": "python",
   "nbconvert_exporter": "python",
   "pygments_lexer": "ipython3",
   "version": "3.12.0"
  }
 },
 "nbformat": 4,
 "nbformat_minor": 2
}
