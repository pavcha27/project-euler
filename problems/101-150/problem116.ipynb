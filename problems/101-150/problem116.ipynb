{
 "cells": [
  {
   "cell_type": "code",
   "execution_count": 1,
   "metadata": {},
   "outputs": [],
   "source": [
    "import pandas as pd\n",
    "import numpy as np"
   ]
  },
  {
   "cell_type": "markdown",
   "metadata": {},
   "source": [
    "This problem is similar to problem 114 and 115 but with slightly different conditions."
   ]
  },
  {
   "cell_type": "code",
   "execution_count": 35,
   "metadata": {},
   "outputs": [],
   "source": [
    "N = 50\n",
    "# bottom-up dynamic program\n",
    "# red = 2, green = 3, blue = 4\n",
    "bcs = []\n",
    "for M in [2,3,4]:\n",
    "    block_counts = [0]*M\n",
    "    for n in range(M, N+1):\n",
    "        # add all ways to add single blocks\n",
    "        num_ways = n - M + 1\n",
    "\n",
    "        # to add more blocks, we approach as a sub-problem:\n",
    "        # the remaining is how much is left after putting down the next block\n",
    "        for remaining in range(M, n-M+1):\n",
    "            num_ways += block_counts[remaining]\n",
    "        \n",
    "        block_counts.append(num_ways)\n",
    "    \n",
    "    bcs.append(block_counts)"
   ]
  },
  {
   "cell_type": "code",
   "execution_count": 38,
   "metadata": {},
   "outputs": [
    {
     "data": {
      "text/plain": [
       "20492570929"
      ]
     },
     "execution_count": 38,
     "metadata": {},
     "output_type": "execute_result"
    }
   ],
   "source": [
    "block_counts = []\n",
    "for i in range(N+1):\n",
    "    block_counts.append(bcs[0][i] + bcs[1][i] + bcs[2][i])\n",
    "\n",
    "block_counts[50]"
   ]
  },
  {
   "cell_type": "code",
   "execution_count": null,
   "metadata": {},
   "outputs": [],
   "source": []
  }
 ],
 "metadata": {
  "kernelspec": {
   "display_name": "Python 3",
   "language": "python",
   "name": "python3"
  },
  "language_info": {
   "codemirror_mode": {
    "name": "ipython",
    "version": 3
   },
   "file_extension": ".py",
   "mimetype": "text/x-python",
   "name": "python",
   "nbconvert_exporter": "python",
   "pygments_lexer": "ipython3",
   "version": "3.12.0"
  }
 },
 "nbformat": 4,
 "nbformat_minor": 2
}
