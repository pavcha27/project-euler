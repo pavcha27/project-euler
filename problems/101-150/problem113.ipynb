{
 "cells": [
  {
   "cell_type": "code",
   "execution_count": 1,
   "metadata": {},
   "outputs": [],
   "source": [
    "import pandas as pd\n",
    "import numpy as np"
   ]
  },
  {
   "cell_type": "markdown",
   "metadata": {},
   "source": [
    "A brute-force approach will definitely not work here. But we can use a combinatoric approach, being sure not to double count numbers that are both increasing and decreasing.\n",
    "\n",
    "We know that every number $1$ digit long is both increasing and decreasing. We can count inductively.\n",
    "\n",
    "Given we know all increasing numbers with $n-1$ digits long, suppose we want all increasing numbers which are $n$ digits long. We can construct the $n$ digit number form an $n-1$ digit number by adding another digit at the end. Let's say we take an increasing number $k$ that is $n-1$ digits long with maximum digit $k_{\\max}$. Note $k_{\\max} \\geq 1$, assuming no leading $0$s. In order to keep it increasing, we can only append a bigger number than $k_{\\max}$ at the end. This gives us $10 - k_{\\max}$ choices. The method is similar for decreasing numbers."
   ]
  },
  {
   "cell_type": "code",
   "execution_count": 11,
   "metadata": {},
   "outputs": [],
   "source": [
    "dec_cache = {1: {i: 1 for i in range(0,10)}}\n",
    "dec_cache[1][0] = 0\n",
    "def decreasing_numbers(n):\n",
    "    '''\n",
    "    Counts decreasing numbers n digits long.\n",
    "    '''\n",
    "\n",
    "    if n not in dec_cache:\n",
    "        if n-1 not in dec_cache:\n",
    "            decreasing_numbers(n-1)\n",
    "\n",
    "        prev_dict = dec_cache[n-1]\n",
    "        kmin_dict = {i: 0 for i in range(0,10)}\n",
    "\n",
    "        for prev_kmin, nums in prev_dict.items():\n",
    "            for i in range(0, prev_kmin + 1):\n",
    "                kmin_dict[i] += nums\n",
    "            \n",
    "        dec_cache[n] = kmin_dict.copy()\n",
    "    \n",
    "    return dec_cache[n]"
   ]
  },
  {
   "cell_type": "code",
   "execution_count": 2,
   "metadata": {},
   "outputs": [],
   "source": [
    "inc_cache = {1: {i: 1 for i in range(1,10)}}\n",
    "def increasing_numbers(n):\n",
    "    '''\n",
    "    Counts increasing numbers n digits long.\n",
    "    '''\n",
    "\n",
    "    if n not in inc_cache:\n",
    "        if n-1 not in inc_cache:\n",
    "            increasing_numbers(n-1)\n",
    "\n",
    "        prev_dict = inc_cache[n-1]\n",
    "        kmax_dict = {i: 0 for i in range(1,10)}\n",
    "\n",
    "        for prev_kmax, nums in prev_dict.items():\n",
    "            for i in range(prev_kmax, 10):\n",
    "                kmax_dict[i] += nums\n",
    "            \n",
    "        inc_cache[n] = kmax_dict.copy()\n",
    "    \n",
    "    return inc_cache[n]"
   ]
  },
  {
   "cell_type": "code",
   "execution_count": 58,
   "metadata": {},
   "outputs": [
    {
     "name": "stdout",
     "output_type": "stream",
     "text": [
      "51161058134250\n",
      "incs: 4263421511270\n",
      "decs: 46897636623880\n",
      "inc_decs: 900\n"
     ]
    }
   ],
   "source": [
    "incs = 0\n",
    "decs = 0\n",
    "inc_decs = 0\n",
    "\n",
    "for n in range(1,101):\n",
    "    incs += sum(increasing_numbers(n).values())\n",
    "    decs += sum(decreasing_numbers(n).values())\n",
    "    # for each n, the 9 numbers where all digits are the same are double counted\n",
    "    inc_decs += 9\n",
    "\n",
    "print(incs + decs - inc_decs)\n",
    "print('incs:', incs)\n",
    "print('decs:', decs)\n",
    "print('inc_decs:', inc_decs)"
   ]
  },
  {
   "cell_type": "markdown",
   "metadata": {},
   "source": [
    "After getting the answer, I googled other solutions and came upon a stars and bars approach (also known as compositions of integers), which also uses combinatorics but is even more nice and elegant. \n",
    "\n",
    "Take the problem of generating increasing numbers $< 10^{100}$. As I mentioned in my solution above, we cast the problem instead in terms of digits--in particular, we want to look at all $1$ digit up to $100$ digit numbers. Thus we recast the problem more explicitly, in this solution, to finding all distinct (in increasing order) $10$-tuples such that\n",
    "$$\n",
    "a_{\\text{lead 0}} + a_1 + a_2 + a_3 + \\dots + a_9 = 100\n",
    "$$ \n",
    "where $a_i \\geq 0$ represents the number of digit $i$ in the final number. We include $a_{\\text{lead 0}}$ to account for numbers with fewer than $100$ digits (and note that there is no $a_0$ since $0$ can only be leading for an increasing number). This is already solved by the stars and bars method to be ${100 + 10 - 1 \\choose 10 - 1} = {109 \\choose 9}$. However, this includes the solution with all leading $0$s, so $1$ needs to be subtracted out.\n",
    "\n",
    "Similarly for decreasing numbers, we generate all distinct (in decreasing order) $11$-tuples such that\n",
    "$$\n",
    "a_{\\text{lead 0}} + a_9 + a_8 + a_7 + \\dots + a_0 = 100\n",
    "$$\n",
    "And, by stars and bars, we have ${100 + 11 - 1 \\choose 11 - 1} = {110 \\choose 10}$. As above there are solutions with only $0$. However, there are more to think of here since there are both leading and ending $0$ (as opposed to only leading $0$ above). There are $101$ solutions where $a_{\\text{lead 0}} + a_0 = 100$, so we subtract $101$ at the end.\n",
    "\n",
    "Finally, numbers that are the same digit $k$ times are both increasing and decreasing and so are double counted. There are $900$ of these ($9$ digits and up to $100$ of each digit)."
   ]
  },
  {
   "cell_type": "code",
   "execution_count": 54,
   "metadata": {},
   "outputs": [
    {
     "name": "stdout",
     "output_type": "stream",
     "text": [
      "51161058134250\n",
      "incs: 4263421511271\n",
      "decs: 46897636623981\n",
      "extras_to_subtract: 1002\n"
     ]
    }
   ],
   "source": [
    "# stars and bars approach\n",
    "fact = [1]\n",
    "for i in range(1,200):\n",
    "    fact.append(fact[-1]*i)\n",
    "\n",
    "print((fact[109] // (fact[100]*fact[9])) + (fact[110] // (fact[100]*fact[10])) - (1 + 101 + 900))\n",
    "print('incs:', fact[109] // (fact[100]*fact[9]))\n",
    "print('decs:', fact[110] // (fact[100]*fact[10]))\n",
    "print('extras_to_subtract:', 1 + 101 + 900)"
   ]
  }
 ],
 "metadata": {
  "kernelspec": {
   "display_name": "Python 3",
   "language": "python",
   "name": "python3"
  },
  "language_info": {
   "codemirror_mode": {
    "name": "ipython",
    "version": 3
   },
   "file_extension": ".py",
   "mimetype": "text/x-python",
   "name": "python",
   "nbconvert_exporter": "python",
   "pygments_lexer": "ipython3",
   "version": "3.12.0"
  }
 },
 "nbformat": 4,
 "nbformat_minor": 2
}
