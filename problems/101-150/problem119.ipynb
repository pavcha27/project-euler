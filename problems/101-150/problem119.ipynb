{
 "cells": [
  {
   "cell_type": "code",
   "execution_count": 1,
   "metadata": {},
   "outputs": [],
   "source": [
    "import pandas as pd\n",
    "import numpy as np\n",
    "\n",
    "import math"
   ]
  },
  {
   "cell_type": "markdown",
   "metadata": {},
   "source": [
    "If you try and do a brute-force approach (i.e., going up in $n$ and taking the digit sum and trying a few exponents), you can quickly get $512$ and $614656$ in the right positions relatively quickly. However, as with a lot brute-forces, a good way to start is to just flip your idea of how to do the problem! Notice the digit sum of a number is MUCH smaller than the number itself. So if we loop through various small numbers that are supposed to be digit sums, then we can get through more numbers more quickly.\n",
    "\n",
    "We loop through exponents $t$ (I did $2$ to $100$ to be safe, but even $2$ to $10$ is more than enough) and the supposed-to-be digit sums $d$ (again I did $2$ to $100$) and just simply do $d^t = n$, and check if $\\text{digitsum}(n) = d$. This is a much faster problem, since the digit sum is such a fast algorithm. We likely have up to $a_{50}$, let alone $a_{30}$."
   ]
  },
  {
   "cell_type": "code",
   "execution_count": 5,
   "metadata": {},
   "outputs": [],
   "source": [
    "def digit_sum(n):\n",
    "    ret = 0\n",
    "    while n > 0:\n",
    "        ret += n % 10\n",
    "        n //= 10\n",
    "\n",
    "    return ret"
   ]
  },
  {
   "cell_type": "code",
   "execution_count": 39,
   "metadata": {},
   "outputs": [
    {
     "name": "stdout",
     "output_type": "stream",
     "text": [
      "81 = 9^2\n",
      "512 = 8^3\n",
      "4913 = 17^3\n",
      "5832 = 18^3\n",
      "17576 = 26^3\n",
      "19683 = 27^3\n",
      "2401 = 7^4\n",
      "234256 = 22^4\n",
      "390625 = 25^4\n",
      "614656 = 28^4\n",
      "1679616 = 36^4\n",
      "17210368 = 28^5\n",
      "52521875 = 35^5\n",
      "60466176 = 36^5\n",
      "205962976 = 46^5\n",
      "34012224 = 18^6\n",
      "8303765625 = 45^6\n",
      "24794911296 = 54^6\n",
      "68719476736 = 64^6\n",
      "612220032 = 18^7\n",
      "10460353203 = 27^7\n",
      "27512614111 = 31^7\n",
      "52523350144 = 34^7\n",
      "271818611107 = 43^7\n",
      "1174711139837 = 53^7\n",
      "2207984167552 = 58^7\n",
      "6722988818432 = 68^7\n",
      "20047612231936 = 46^8\n",
      "72301961339136 = 54^8\n",
      "248155780267521 = 63^8\n",
      "3904305912313344 = 54^9\n",
      "45848500718449031 = 71^9\n",
      "150094635296999121 = 81^9\n",
      "13744803133596058624 = 82^10\n",
      "19687440434072265625 = 85^10\n",
      "53861511409489970176 = 94^10\n",
      "73742412689492826049 = 97^10\n",
      "8007313507497959524352 = 98^11\n",
      "81920000000000000 = 20^13\n",
      "671088640000000000000 = 40^13\n",
      "14076019706120526112710656 = 86^13\n",
      "2670419511272061205254504361 = 91^14\n",
      "225179981368524800000000000000000 = 80^17\n",
      "1441151880758558720000000000000000000 = 80^19\n",
      "13508517176729920890000000000000000000 = 90^19\n",
      "1215766545905692880100000000000000000000 = 90^20\n",
      "109418989131512359209000000000000000000000 = 90^21\n",
      "9847709021836112328810000000000000000000000 = 90^22\n",
      "5233476330273605372135115210000000000000000000000000000 = 90^28\n"
     ]
    }
   ],
   "source": [
    "vals = []\n",
    "for exp in range(2,100):\n",
    "    for i in range(2,100):\n",
    "        n = i**exp\n",
    "        if digit_sum(n) == i:\n",
    "            vals.append((n, i, exp))\n",
    "            print(f'{n} = {i}^{exp}')\n",
    "\n",
    "vals = sorted(vals, key = lambda a: (a[0], a[1], a[2]))"
   ]
  },
  {
   "cell_type": "code",
   "execution_count": 41,
   "metadata": {},
   "outputs": [
    {
     "data": {
      "text/plain": [
       "[(81, 9, 2),\n",
       " (512, 8, 3),\n",
       " (2401, 7, 4),\n",
       " (4913, 17, 3),\n",
       " (5832, 18, 3),\n",
       " (17576, 26, 3),\n",
       " (19683, 27, 3),\n",
       " (234256, 22, 4),\n",
       " (390625, 25, 4),\n",
       " (614656, 28, 4),\n",
       " (1679616, 36, 4),\n",
       " (17210368, 28, 5),\n",
       " (34012224, 18, 6),\n",
       " (52521875, 35, 5),\n",
       " (60466176, 36, 5),\n",
       " (205962976, 46, 5),\n",
       " (612220032, 18, 7),\n",
       " (8303765625, 45, 6),\n",
       " (10460353203, 27, 7),\n",
       " (24794911296, 54, 6),\n",
       " (27512614111, 31, 7),\n",
       " (52523350144, 34, 7),\n",
       " (68719476736, 64, 6),\n",
       " (271818611107, 43, 7),\n",
       " (1174711139837, 53, 7),\n",
       " (2207984167552, 58, 7),\n",
       " (6722988818432, 68, 7),\n",
       " (20047612231936, 46, 8),\n",
       " (72301961339136, 54, 8),\n",
       " (248155780267521, 63, 8)]"
      ]
     },
     "execution_count": 41,
     "metadata": {},
     "output_type": "execute_result"
    }
   ],
   "source": [
    "vals[:30]"
   ]
  },
  {
   "cell_type": "code",
   "execution_count": null,
   "metadata": {},
   "outputs": [],
   "source": []
  }
 ],
 "metadata": {
  "kernelspec": {
   "display_name": "Python 3",
   "language": "python",
   "name": "python3"
  },
  "language_info": {
   "codemirror_mode": {
    "name": "ipython",
    "version": 3
   },
   "file_extension": ".py",
   "mimetype": "text/x-python",
   "name": "python",
   "nbconvert_exporter": "python",
   "pygments_lexer": "ipython3",
   "version": "3.12.0"
  }
 },
 "nbformat": 4,
 "nbformat_minor": 2
}
