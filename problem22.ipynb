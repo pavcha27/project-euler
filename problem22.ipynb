{
 "cells": [
  {
   "cell_type": "code",
   "execution_count": 56,
   "metadata": {},
   "outputs": [],
   "source": [
    "import pandas as pd\n",
    "import numpy as np\n",
    "\n",
    "from functools import reduce"
   ]
  },
  {
   "cell_type": "code",
   "execution_count": 57,
   "metadata": {},
   "outputs": [],
   "source": [
    "letter_scores = {\n",
    "    \"A\": 1, \"B\": 2, \"C\": 3, \"D\": 4, \"E\": 5, \"F\": 6,\n",
    "    \"G\": 7, \"H\": 8, \"I\": 9, \"J\": 10, \"K\": 11, \"L\": 12,\n",
    "    \"M\": 13, \"N\": 14, \"O\": 15, \"P\": 16, \"Q\": 17, \"R\": 18,\n",
    "    \"S\": 19, \"T\": 20, \"U\": 21, \"V\": 22, \"W\": 23, \"X\": 24,\n",
    "    \"Y\": 25, \"Z\": 26\n",
    "}"
   ]
  },
  {
   "cell_type": "code",
   "execution_count": 113,
   "metadata": {},
   "outputs": [],
   "source": [
    "def name_score(pos, name):\n",
    "    return (pos+1)*(reduce(lambda a,b:  a + letter_scores[b], list(name), 0))"
   ]
  },
  {
   "cell_type": "code",
   "execution_count": 114,
   "metadata": {},
   "outputs": [],
   "source": [
    "def partition(unsorted_list, low, high):\n",
    "    # choose rightmost element as pivot\n",
    "    pivot = unsorted_list[high]\n",
    "    # start i as pointing to left of list\n",
    "    i = low - 1\n",
    "\n",
    "    for j in range(low, high):\n",
    "        # if element is < pivot\n",
    "        if unsorted_list[j] <= pivot:\n",
    "            # swap element with pointer on left of list\n",
    "            i += 1\n",
    "            unsorted_list[i], unsorted_list[j] = unsorted_list[j], unsorted_list[i]\n",
    "    \n",
    "    unsorted_list[i + 1], unsorted_list[high] = unsorted_list[high], unsorted_list[i + 1]\n",
    "    \n",
    "    return i + 1\n",
    "        \n",
    "\n",
    "def quicksort(unsorted_list, low, high):\n",
    "    if low < high:\n",
    "        pivot = partition(unsorted_list, low, high)\n",
    "\n",
    "        quicksort(unsorted_list, low, pivot - 1)\n",
    "        quicksort(unsorted_list, pivot, high)\n",
    "    \n",
    "    return unsorted_list"
   ]
  },
  {
   "cell_type": "code",
   "execution_count": 115,
   "metadata": {},
   "outputs": [],
   "source": [
    "with open('./inputs/names.txt', 'r') as f:\n",
    "    names = f.read()\n",
    "    names_list = [name.strip('\"') for name in names.split(',')]\n",
    "    names_list.sort()"
   ]
  },
  {
   "cell_type": "code",
   "execution_count": 119,
   "metadata": {},
   "outputs": [
    {
     "data": {
      "text/plain": [
       "871198282"
      ]
     },
     "execution_count": 119,
     "metadata": {},
     "output_type": "execute_result"
    }
   ],
   "source": [
    "reduce(lambda a,b: a + name_score(b[0], b[1]), list(enumerate(names_list)), 0)"
   ]
  },
  {
   "cell_type": "code",
   "execution_count": 118,
   "metadata": {},
   "outputs": [
    {
     "data": {
      "text/plain": [
       "871198282"
      ]
     },
     "execution_count": 118,
     "metadata": {},
     "output_type": "execute_result"
    }
   ],
   "source": [
    "s = 0\n",
    "for i in range(len(names_list)):\n",
    "    s += name_score(i, names_list[i])\n",
    "s"
   ]
  },
  {
   "cell_type": "code",
   "execution_count": null,
   "metadata": {},
   "outputs": [],
   "source": []
  }
 ],
 "metadata": {
  "kernelspec": {
   "display_name": "Python 3",
   "language": "python",
   "name": "python3"
  },
  "language_info": {
   "codemirror_mode": {
    "name": "ipython",
    "version": 3
   },
   "file_extension": ".py",
   "mimetype": "text/x-python",
   "name": "python",
   "nbconvert_exporter": "python",
   "pygments_lexer": "ipython3",
   "version": "3.12.0"
  },
  "vscode": {
   "interpreter": {
    "hash": "aee8b7b246df8f9039afb4144a1f6fd8d2ca17a180786b69acc140d282b71a49"
   }
  }
 },
 "nbformat": 4,
 "nbformat_minor": 2
}
