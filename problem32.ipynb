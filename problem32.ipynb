{
 "cells": [
  {
   "cell_type": "code",
   "execution_count": 1,
   "metadata": {},
   "outputs": [],
   "source": [
    "import pandas as pd\n",
    "import numpy as np"
   ]
  },
  {
   "cell_type": "code",
   "execution_count": 2,
   "metadata": {},
   "outputs": [],
   "source": [
    "# recursive\n",
    "def all_pandigitals(n, memo = {1: [1]}):\n",
    "    if n not in memo:\n",
    "        num_list = []\n",
    "        for i in all_pandigitals(n-1):\n",
    "            i_str = str(i)\n",
    "            for j in range(n):\n",
    "                num_list.append(int(\n",
    "                    i_str[:j] + f'{n}' + i_str[j:]\n",
    "                ))\n",
    "\n",
    "        memo[n] = num_list\n",
    "\n",
    "    return memo[n]"
   ]
  },
  {
   "cell_type": "code",
   "execution_count": 3,
   "metadata": {},
   "outputs": [],
   "source": [
    "def split_nums_into_multiply(n):\n",
    "    mcs = set()\n",
    "    mps = set()\n",
    "    prs = set()\n",
    "    n_str = str(n)\n",
    "    len_n = len(n_str)\n",
    "\n",
    "    for i in range(1, len_n-1):\n",
    "        multiplicand = int(n_str[:i])\n",
    "        for j in range(i+1, len_n):\n",
    "            multiplier = int(n_str[i:j])\n",
    "            product = int(n_str[j:])\n",
    "            if multiplicand*multiplier == product:\n",
    "                mcs.add(multiplicand)\n",
    "                mps.add(multiplier)\n",
    "                prs.add(product)\n",
    "\n",
    "    return mcs, mps, prs"
   ]
  },
  {
   "cell_type": "code",
   "execution_count": 4,
   "metadata": {},
   "outputs": [
    {
     "data": {
      "text/plain": [
       "45228"
      ]
     },
     "execution_count": 4,
     "metadata": {},
     "output_type": "execute_result"
    }
   ],
   "source": [
    "nine_pandigitals = all_pandigitals(9)\n",
    "prods = set()\n",
    "i = 0\n",
    "for n in nine_pandigitals:\n",
    "    a,b,c = split_nums_into_multiply(n)\n",
    "    prods = prods.union(c)\n",
    "\n",
    "sum(prods)"
   ]
  },
  {
   "cell_type": "code",
   "execution_count": null,
   "metadata": {},
   "outputs": [],
   "source": []
  }
 ],
 "metadata": {
  "kernelspec": {
   "display_name": "Python 3",
   "language": "python",
   "name": "python3"
  },
  "language_info": {
   "codemirror_mode": {
    "name": "ipython",
    "version": 3
   },
   "file_extension": ".py",
   "mimetype": "text/x-python",
   "name": "python",
   "nbconvert_exporter": "python",
   "pygments_lexer": "ipython3",
   "version": "3.12.0"
  }
 },
 "nbformat": 4,
 "nbformat_minor": 2
}
