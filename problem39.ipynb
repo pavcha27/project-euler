{
 "cells": [
  {
   "cell_type": "code",
   "execution_count": 1,
   "metadata": {},
   "outputs": [],
   "source": [
    "import pandas as pd\n",
    "import numpy as np"
   ]
  },
  {
   "cell_type": "code",
   "execution_count": 2,
   "metadata": {},
   "outputs": [],
   "source": [
    "def get_pythagorean_triples(n):\n",
    "    ret = []\n",
    "    half_length = n//2\n",
    "    for i in range(1, half_length):\n",
    "        for j in range(i, half_length):\n",
    "            k = n - j - i\n",
    "            if k > i + j:\n",
    "                continue\n",
    "\n",
    "            if i**2 + j**2 == k**2:\n",
    "                ret.append((i,j,k))\n",
    "\n",
    "    return ret"
   ]
  },
  {
   "cell_type": "code",
   "execution_count": 6,
   "metadata": {},
   "outputs": [
    {
     "name": "stdout",
     "output_type": "stream",
     "text": [
      "3 : []\n",
      "12 : [(3, 4, 5)]\n",
      "60 : [(10, 24, 26), (15, 20, 25)]\n",
      "120 : [(20, 48, 52), (24, 45, 51), (30, 40, 50)]\n",
      "240 : [(15, 112, 113), (40, 96, 104), (48, 90, 102), (60, 80, 100)]\n",
      "420 : [(28, 195, 197), (60, 175, 185), (70, 168, 182), (105, 140, 175), (120, 126, 174)]\n",
      "720 : [(45, 336, 339), (72, 320, 328), (80, 315, 325), (120, 288, 312), (144, 270, 306), (180, 240, 300)]\n",
      "840 : [(40, 399, 401), (56, 390, 394), (105, 360, 375), (120, 350, 370), (140, 336, 364), (168, 315, 357), (210, 280, 350), (240, 252, 348)]\n"
     ]
    }
   ],
   "source": [
    "max_num = -1\n",
    "max_triples = []\n",
    "for n in range(3, 1001):\n",
    "    triples = get_pythagorean_triples(n)\n",
    "    if len(triples) > max_num:\n",
    "        print(n, \":\", triples)\n",
    "        max_triples = triples.copy()\n",
    "        max_num = len(triples)\n"
   ]
  },
  {
   "cell_type": "code",
   "execution_count": null,
   "metadata": {},
   "outputs": [],
   "source": []
  }
 ],
 "metadata": {
  "kernelspec": {
   "display_name": "Python 3",
   "language": "python",
   "name": "python3"
  },
  "language_info": {
   "codemirror_mode": {
    "name": "ipython",
    "version": 3
   },
   "file_extension": ".py",
   "mimetype": "text/x-python",
   "name": "python",
   "nbconvert_exporter": "python",
   "pygments_lexer": "ipython3",
   "version": "3.12.0"
  }
 },
 "nbformat": 4,
 "nbformat_minor": 2
}
