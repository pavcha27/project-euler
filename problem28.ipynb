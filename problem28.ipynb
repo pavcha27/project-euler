{
 "cells": [
  {
   "cell_type": "code",
   "execution_count": 46,
   "metadata": {},
   "outputs": [],
   "source": [
    "import pandas as pd\n",
    "import numpy as np"
   ]
  },
  {
   "cell_type": "code",
   "execution_count": 66,
   "metadata": {},
   "outputs": [],
   "source": [
    "def diag_sum(g):\n",
    "    if len(g) != len(g[0]):\n",
    "        raise ValueError(\"Cannot find diagonals of non-square grid\")\n",
    "    \n",
    "    n = len(g)\n",
    "    return sum([g[i][j] for i,j in zip(range(n), range(n))] + [g[i][n - j] for i,j in zip(range(n), range(1, n+1))]) - g[n//2][n//2]"
   ]
  },
  {
   "cell_type": "code",
   "execution_count": 70,
   "metadata": {},
   "outputs": [],
   "source": [
    "m = 1001\n",
    "n = 1001\n",
    "grid = [[0 for _ in range(n)] for _ in range(m)]\n",
    "\n",
    "i = 1\n",
    "curr_pos = [m//2, n//2]\n",
    "directions = [(0,1), (1,0), (0,-1), (-1,0)]\n",
    "dir = 0\n",
    "\n",
    "# once you're at top left corner, you are finished!\n",
    "while curr_pos[0] != 0 or curr_pos[1] != n-1:\n",
    "    grid[curr_pos[0]][curr_pos[1]] = i\n",
    "\n",
    "    # go to next number\n",
    "    i += 1\n",
    "    \n",
    "    # move in direction\n",
    "    old_pos = curr_pos.copy()\n",
    "    curr_pos[0] += directions[dir][0]\n",
    "    curr_pos[1] += directions[dir][1]\n",
    "\n",
    "    if grid[curr_pos[0]][curr_pos[1]] > 0:\n",
    "        # if there is something in that direction then keep going\n",
    "        curr_pos[0] = old_pos[0] + old_dir[0]\n",
    "        curr_pos[1] = old_pos[1] + old_dir[1]\n",
    "    else:\n",
    "        # change direction to next one\n",
    "        dir = (dir + 1) % 4\n",
    "\n",
    "    old_dir = [curr_pos[0] - old_pos[0], curr_pos[1] - old_pos[1]]\n",
    "\n",
    "grid[curr_pos[0]][curr_pos[1]] = i"
   ]
  },
  {
   "cell_type": "code",
   "execution_count": 72,
   "metadata": {},
   "outputs": [
    {
     "data": {
      "text/plain": [
       "669171001"
      ]
     },
     "execution_count": 72,
     "metadata": {},
     "output_type": "execute_result"
    }
   ],
   "source": [
    "diag_sum(grid)"
   ]
  },
  {
   "cell_type": "code",
   "execution_count": null,
   "metadata": {},
   "outputs": [],
   "source": []
  }
 ],
 "metadata": {
  "kernelspec": {
   "display_name": "Python 3",
   "language": "python",
   "name": "python3"
  },
  "language_info": {
   "codemirror_mode": {
    "name": "ipython",
    "version": 3
   },
   "file_extension": ".py",
   "mimetype": "text/x-python",
   "name": "python",
   "nbconvert_exporter": "python",
   "pygments_lexer": "ipython3",
   "version": "3.12.0"
  }
 },
 "nbformat": 4,
 "nbformat_minor": 2
}
